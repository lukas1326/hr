{
 "cells": [
  {
   "cell_type": "code",
   "execution_count": 1,
   "metadata": {},
   "outputs": [],
   "source": [
    "from bs4 import BeautifulSoup\n",
    "import requests\n",
    "import urllib.request"
   ]
  },
  {
   "cell_type": "code",
   "execution_count": 47,
   "metadata": {},
   "outputs": [],
   "source": [
    "link='https://rabota.ua/cv/6971625'\n",
    "response=requests.get(link)\n"
   ]
  },
  {
   "cell_type": "code",
   "execution_count": 3,
   "metadata": {},
   "outputs": [],
   "source": [
    "html_contents = response.text\n",
    "html_soup = BeautifulSoup(html_contents,'html.parser')"
   ]
  },
  {
   "cell_type": "code",
   "execution_count": 4,
   "metadata": {},
   "outputs": [],
   "source": [
    "gde=[]\n",
    "kogda=[]\n",
    "b1=html_soup.find('div',id='ExperienceHolder').find_all('b')\n",
    "m=html_soup.find('div',id='ExperienceHolder').find_all('em')\n",
    "for i in b1:\n",
    "    gde.append(i.text.strip())\n",
    "for k in m:\n",
    "    kogda.append(k.text.strip())"
   ]
  },
  {
   "cell_type": "code",
   "execution_count": 5,
   "metadata": {
    "scrolled": true
   },
   "outputs": [
    {
     "data": {
      "text/plain": [
       "['Основатель – A FEDOROV (авторская мастерская предметного дизайна)',\n",
       " 'A FEDOROV',\n",
       " 'Коммерческий директор',\n",
       " 'Медицинская компания «ilaya» (ООО «А.А.ПАРТНЕРС»)',\n",
       " 'Руководитель Внешней службы.',\n",
       " 'Медицинская лаборатория «Діла»',\n",
       " 'Директор',\n",
       " 'LLC «V-Retail»',\n",
       " 'Генеральный директор',\n",
       " 'OOO «Антакарана»',\n",
       " 'Директор по сбыту',\n",
       " 'OOO «Видеосервис Украина»',\n",
       " 'Заместитель управляющего департамента сбыта офисной мебели',\n",
       " 'ДП «Меркс мебель»']"
      ]
     },
     "execution_count": 5,
     "metadata": {},
     "output_type": "execute_result"
    }
   ],
   "source": [
    "gde=[x for x in gde if \"Достиж\" not in x]\n",
    "gde=[x for x in gde if \"Рекоменд\" not in x]\n",
    "gde=[x for x in gde if \"улучш\" not in x]\n",
    "gde=[x for x in gde if \"Результ\" not in x]\n",
    "gde=[x for x in gde if \"Обязанн\" not in x]\n",
    "gde=[x for x in gde if \"достиж\" not in x]\n",
    "gde"
   ]
  },
  {
   "cell_type": "code",
   "execution_count": 6,
   "metadata": {},
   "outputs": [],
   "source": [
    "gde=gde[:min(len(gde),len(kogda))]\n",
    "kogda=kogda[:min(len(gde),len(kogda))]"
   ]
  },
  {
   "cell_type": "code",
   "execution_count": 7,
   "metadata": {
    "scrolled": true
   },
   "outputs": [
    {
     "data": {
      "text/plain": [
       "['июн 2016 - настоящее время (3 года 7 мес)',\n",
       " 'Архитектурные и дизайнерские бюро',\n",
       " 'ноя 2015 - май 2016 (7 мес)',\n",
       " 'Медицина и Здравоохранение',\n",
       " 'сен 2013 - окт 2014 (1 год 2 мес)',\n",
       " 'Медицина и Здравоохранение',\n",
       " 'окт 2010 - сен 2012 (2 года)',\n",
       " 'Автомобильная промышленность и Автобизнес',\n",
       " 'ноя 2007 - июн 2010 (2 года 8 мес)',\n",
       " 'Строительство',\n",
       " 'авг 2005 - июн 2007 (1 год 11 мес)',\n",
       " 'Медиа / СМИ',\n",
       " 'янв 2001 - июл 2005 (4 года 7 мес)',\n",
       " 'Торговля оптовая / Дистрибуция / Импорт-экспорт']"
      ]
     },
     "execution_count": 7,
     "metadata": {},
     "output_type": "execute_result"
    }
   ],
   "source": [
    "kogda"
   ]
  },
  {
   "cell_type": "code",
   "execution_count": 8,
   "metadata": {},
   "outputs": [],
   "source": [
    "import pandas as pd\n",
    "d = {'должность':gde,'период':kogda}\n",
    "uh=pd.DataFrame(d)\n"
   ]
  },
  {
   "cell_type": "code",
   "execution_count": 9,
   "metadata": {},
   "outputs": [],
   "source": [
    "uh['предприятие']=uh['должность'].shift(-1)"
   ]
  },
  {
   "cell_type": "code",
   "execution_count": 11,
   "metadata": {},
   "outputs": [
    {
     "data": {
      "text/html": [
       "<div>\n",
       "<style scoped>\n",
       "    .dataframe tbody tr th:only-of-type {\n",
       "        vertical-align: middle;\n",
       "    }\n",
       "\n",
       "    .dataframe tbody tr th {\n",
       "        vertical-align: top;\n",
       "    }\n",
       "\n",
       "    .dataframe thead th {\n",
       "        text-align: right;\n",
       "    }\n",
       "</style>\n",
       "<table border=\"1\" class=\"dataframe\">\n",
       "  <thead>\n",
       "    <tr style=\"text-align: right;\">\n",
       "      <th></th>\n",
       "      <th>должность</th>\n",
       "      <th>период</th>\n",
       "      <th>предприятие</th>\n",
       "      <th>отрасль</th>\n",
       "    </tr>\n",
       "  </thead>\n",
       "  <tbody>\n",
       "    <tr>\n",
       "      <th>0</th>\n",
       "      <td>Основатель – A FEDOROV (авторская мастерская п...</td>\n",
       "      <td>июн 2016 - настоящее время (3 года 7 мес)</td>\n",
       "      <td>A FEDOROV</td>\n",
       "      <td>Архитектурные и дизайнерские бюро</td>\n",
       "    </tr>\n",
       "    <tr>\n",
       "      <th>2</th>\n",
       "      <td>Коммерческий директор</td>\n",
       "      <td>ноя 2015 - май 2016 (7 мес)</td>\n",
       "      <td>Медицинская компания «ilaya» (ООО «А.А.ПАРТНЕРС»)</td>\n",
       "      <td>Медицина и Здравоохранение</td>\n",
       "    </tr>\n",
       "    <tr>\n",
       "      <th>4</th>\n",
       "      <td>Руководитель Внешней службы.</td>\n",
       "      <td>сен 2013 - окт 2014 (1 год 2 мес)</td>\n",
       "      <td>Медицинская лаборатория «Діла»</td>\n",
       "      <td>Медицина и Здравоохранение</td>\n",
       "    </tr>\n",
       "    <tr>\n",
       "      <th>6</th>\n",
       "      <td>Директор</td>\n",
       "      <td>окт 2010 - сен 2012 (2 года)</td>\n",
       "      <td>LLC «V-Retail»</td>\n",
       "      <td>Автомобильная промышленность и Автобизнес</td>\n",
       "    </tr>\n",
       "    <tr>\n",
       "      <th>8</th>\n",
       "      <td>Генеральный директор</td>\n",
       "      <td>ноя 2007 - июн 2010 (2 года 8 мес)</td>\n",
       "      <td>OOO «Антакарана»</td>\n",
       "      <td>Строительство</td>\n",
       "    </tr>\n",
       "    <tr>\n",
       "      <th>10</th>\n",
       "      <td>Директор по сбыту</td>\n",
       "      <td>авг 2005 - июн 2007 (1 год 11 мес)</td>\n",
       "      <td>OOO «Видеосервис Украина»</td>\n",
       "      <td>Медиа / СМИ</td>\n",
       "    </tr>\n",
       "    <tr>\n",
       "      <th>12</th>\n",
       "      <td>Заместитель управляющего департамента сбыта оф...</td>\n",
       "      <td>янв 2001 - июл 2005 (4 года 7 мес)</td>\n",
       "      <td>ДП «Меркс мебель»</td>\n",
       "      <td>Торговля оптовая / Дистрибуция / Импорт-экспорт</td>\n",
       "    </tr>\n",
       "  </tbody>\n",
       "</table>\n",
       "</div>"
      ],
      "text/plain": [
       "                                            должность  \\\n",
       "0   Основатель – A FEDOROV (авторская мастерская п...   \n",
       "2                               Коммерческий директор   \n",
       "4                        Руководитель Внешней службы.   \n",
       "6                                            Директор   \n",
       "8                                Генеральный директор   \n",
       "10                                  Директор по сбыту   \n",
       "12  Заместитель управляющего департамента сбыта оф...   \n",
       "\n",
       "                                       период  \\\n",
       "0   июн 2016 - настоящее время (3 года 7 мес)   \n",
       "2                 ноя 2015 - май 2016 (7 мес)   \n",
       "4           сен 2013 - окт 2014 (1 год 2 мес)   \n",
       "6                окт 2010 - сен 2012 (2 года)   \n",
       "8          ноя 2007 - июн 2010 (2 года 8 мес)   \n",
       "10         авг 2005 - июн 2007 (1 год 11 мес)   \n",
       "12         янв 2001 - июл 2005 (4 года 7 мес)   \n",
       "\n",
       "                                          предприятие  \\\n",
       "0                                           A FEDOROV   \n",
       "2   Медицинская компания «ilaya» (ООО «А.А.ПАРТНЕРС»)   \n",
       "4                      Медицинская лаборатория «Діла»   \n",
       "6                                      LLC «V-Retail»   \n",
       "8                                    OOO «Антакарана»   \n",
       "10                          OOO «Видеосервис Украина»   \n",
       "12                                  ДП «Меркс мебель»   \n",
       "\n",
       "                                            отрасль  \n",
       "0                 Архитектурные и дизайнерские бюро  \n",
       "2                        Медицина и Здравоохранение  \n",
       "4                        Медицина и Здравоохранение  \n",
       "6         Автомобильная промышленность и Автобизнес  \n",
       "8                                     Строительство  \n",
       "10                                      Медиа / СМИ  \n",
       "12  Торговля оптовая / Дистрибуция / Импорт-экспорт  "
      ]
     },
     "execution_count": 11,
     "metadata": {},
     "output_type": "execute_result"
    }
   ],
   "source": [
    "uh['отрасль']=uh['период'].shift(-1)\n",
    "uhh=uh.iloc[::2, :]\n",
    "uhh"
   ]
  },
  {
   "cell_type": "code",
   "execution_count": null,
   "metadata": {},
   "outputs": [],
   "source": [
    "import re\n",
    "regex = re.compile('\\d+')\n",
    "uhh['год']=uhh['период'].str.extract('\\((\\d+)')"
   ]
  },
  {
   "cell_type": "code",
   "execution_count": 38,
   "metadata": {},
   "outputs": [
    {
     "name": "stderr",
     "output_type": "stream",
     "text": [
      "D:\\Users\\o.lukasevych\\AppData\\Local\\Continuum\\anaconda3\\lib\\site-packages\\ipykernel_launcher.py:1: SettingWithCopyWarning: \n",
      "A value is trying to be set on a copy of a slice from a DataFrame.\n",
      "Try using .loc[row_indexer,col_indexer] = value instead\n",
      "\n",
      "See the caveats in the documentation: http://pandas.pydata.org/pandas-docs/stable/indexing.html#indexing-view-versus-copy\n",
      "  \"\"\"Entry point for launching an IPython kernel.\n"
     ]
    }
   ],
   "source": [
    "uhh['мес']=uhh['период'].str.extract('(\\d+).мес').fillna(0)"
   ]
  },
  {
   "cell_type": "code",
   "execution_count": 45,
   "metadata": {},
   "outputs": [
    {
     "name": "stderr",
     "output_type": "stream",
     "text": [
      "D:\\Users\\o.lukasevych\\AppData\\Local\\Continuum\\anaconda3\\lib\\site-packages\\ipykernel_launcher.py:1: SettingWithCopyWarning: \n",
      "A value is trying to be set on a copy of a slice from a DataFrame.\n",
      "Try using .loc[row_indexer,col_indexer] = value instead\n",
      "\n",
      "See the caveats in the documentation: http://pandas.pydata.org/pandas-docs/stable/indexing.html#indexing-view-versus-copy\n",
      "  \"\"\"Entry point for launching an IPython kernel.\n",
      "D:\\Users\\o.lukasevych\\AppData\\Local\\Continuum\\anaconda3\\lib\\site-packages\\ipykernel_launcher.py:2: SettingWithCopyWarning: \n",
      "A value is trying to be set on a copy of a slice from a DataFrame.\n",
      "Try using .loc[row_indexer,col_indexer] = value instead\n",
      "\n",
      "See the caveats in the documentation: http://pandas.pydata.org/pandas-docs/stable/indexing.html#indexing-view-versus-copy\n",
      "  \n"
     ]
    }
   ],
   "source": [
    "uhh['мес1']=uhh['мес'].astype(int)/12\n",
    "uhh['duration']=uhh['год'].astype(int)+uhh['мес1'].round(2)"
   ]
  },
  {
   "cell_type": "code",
   "execution_count": 52,
   "metadata": {},
   "outputs": [
    {
     "data": {
      "text/html": [
       "<div>\n",
       "<style scoped>\n",
       "    .dataframe tbody tr th:only-of-type {\n",
       "        vertical-align: middle;\n",
       "    }\n",
       "\n",
       "    .dataframe tbody tr th {\n",
       "        vertical-align: top;\n",
       "    }\n",
       "\n",
       "    .dataframe thead th {\n",
       "        text-align: right;\n",
       "    }\n",
       "</style>\n",
       "<table border=\"1\" class=\"dataframe\">\n",
       "  <thead>\n",
       "    <tr style=\"text-align: right;\">\n",
       "      <th></th>\n",
       "      <th>link_1</th>\n",
       "      <th>предприятие</th>\n",
       "      <th>должность</th>\n",
       "      <th>период</th>\n",
       "      <th>отрасль</th>\n",
       "      <th>duration</th>\n",
       "    </tr>\n",
       "  </thead>\n",
       "  <tbody>\n",
       "    <tr>\n",
       "      <th>0</th>\n",
       "      <td>https://rabota.ua/cv/6971625</td>\n",
       "      <td>A FEDOROV</td>\n",
       "      <td>Основатель – A FEDOROV (авторская мастерская п...</td>\n",
       "      <td>июн 2016 - настоящее время (3 года 7 мес)</td>\n",
       "      <td>Архитектурные и дизайнерские бюро</td>\n",
       "      <td>3.58</td>\n",
       "    </tr>\n",
       "    <tr>\n",
       "      <th>1</th>\n",
       "      <td>https://rabota.ua/cv/6971625</td>\n",
       "      <td>Медицинская компания «ilaya» (ООО «А.А.ПАРТНЕРС»)</td>\n",
       "      <td>Коммерческий директор</td>\n",
       "      <td>ноя 2015 - май 2016 (7 мес)</td>\n",
       "      <td>Медицина и Здравоохранение</td>\n",
       "      <td>7.58</td>\n",
       "    </tr>\n",
       "    <tr>\n",
       "      <th>2</th>\n",
       "      <td>https://rabota.ua/cv/6971625</td>\n",
       "      <td>Медицинская лаборатория «Діла»</td>\n",
       "      <td>Руководитель Внешней службы.</td>\n",
       "      <td>сен 2013 - окт 2014 (1 год 2 мес)</td>\n",
       "      <td>Медицина и Здравоохранение</td>\n",
       "      <td>1.17</td>\n",
       "    </tr>\n",
       "    <tr>\n",
       "      <th>3</th>\n",
       "      <td>https://rabota.ua/cv/6971625</td>\n",
       "      <td>LLC «V-Retail»</td>\n",
       "      <td>Директор</td>\n",
       "      <td>окт 2010 - сен 2012 (2 года)</td>\n",
       "      <td>Автомобильная промышленность и Автобизнес</td>\n",
       "      <td>2.00</td>\n",
       "    </tr>\n",
       "    <tr>\n",
       "      <th>4</th>\n",
       "      <td>https://rabota.ua/cv/6971625</td>\n",
       "      <td>OOO «Антакарана»</td>\n",
       "      <td>Генеральный директор</td>\n",
       "      <td>ноя 2007 - июн 2010 (2 года 8 мес)</td>\n",
       "      <td>Строительство</td>\n",
       "      <td>2.67</td>\n",
       "    </tr>\n",
       "    <tr>\n",
       "      <th>5</th>\n",
       "      <td>https://rabota.ua/cv/6971625</td>\n",
       "      <td>OOO «Видеосервис Украина»</td>\n",
       "      <td>Директор по сбыту</td>\n",
       "      <td>авг 2005 - июн 2007 (1 год 11 мес)</td>\n",
       "      <td>Медиа / СМИ</td>\n",
       "      <td>1.92</td>\n",
       "    </tr>\n",
       "    <tr>\n",
       "      <th>6</th>\n",
       "      <td>https://rabota.ua/cv/6971625</td>\n",
       "      <td>ДП «Меркс мебель»</td>\n",
       "      <td>Заместитель управляющего департамента сбыта оф...</td>\n",
       "      <td>янв 2001 - июл 2005 (4 года 7 мес)</td>\n",
       "      <td>Торговля оптовая / Дистрибуция / Импорт-экспорт</td>\n",
       "      <td>4.58</td>\n",
       "    </tr>\n",
       "  </tbody>\n",
       "</table>\n",
       "</div>"
      ],
      "text/plain": [
       "                         link_1  \\\n",
       "0  https://rabota.ua/cv/6971625   \n",
       "1  https://rabota.ua/cv/6971625   \n",
       "2  https://rabota.ua/cv/6971625   \n",
       "3  https://rabota.ua/cv/6971625   \n",
       "4  https://rabota.ua/cv/6971625   \n",
       "5  https://rabota.ua/cv/6971625   \n",
       "6  https://rabota.ua/cv/6971625   \n",
       "\n",
       "                                         предприятие  \\\n",
       "0                                          A FEDOROV   \n",
       "1  Медицинская компания «ilaya» (ООО «А.А.ПАРТНЕРС»)   \n",
       "2                     Медицинская лаборатория «Діла»   \n",
       "3                                     LLC «V-Retail»   \n",
       "4                                   OOO «Антакарана»   \n",
       "5                          OOO «Видеосервис Украина»   \n",
       "6                                  ДП «Меркс мебель»   \n",
       "\n",
       "                                           должность  \\\n",
       "0  Основатель – A FEDOROV (авторская мастерская п...   \n",
       "1                              Коммерческий директор   \n",
       "2                       Руководитель Внешней службы.   \n",
       "3                                           Директор   \n",
       "4                               Генеральный директор   \n",
       "5                                  Директор по сбыту   \n",
       "6  Заместитель управляющего департамента сбыта оф...   \n",
       "\n",
       "                                      период  \\\n",
       "0  июн 2016 - настоящее время (3 года 7 мес)   \n",
       "1                ноя 2015 - май 2016 (7 мес)   \n",
       "2          сен 2013 - окт 2014 (1 год 2 мес)   \n",
       "3               окт 2010 - сен 2012 (2 года)   \n",
       "4         ноя 2007 - июн 2010 (2 года 8 мес)   \n",
       "5         авг 2005 - июн 2007 (1 год 11 мес)   \n",
       "6         янв 2001 - июл 2005 (4 года 7 мес)   \n",
       "\n",
       "                                           отрасль  duration  \n",
       "0                Архитектурные и дизайнерские бюро      3.58  \n",
       "1                       Медицина и Здравоохранение      7.58  \n",
       "2                       Медицина и Здравоохранение      1.17  \n",
       "3        Автомобильная промышленность и Автобизнес      2.00  \n",
       "4                                    Строительство      2.67  \n",
       "5                                      Медиа / СМИ      1.92  \n",
       "6  Торговля оптовая / Дистрибуция / Импорт-экспорт      4.58  "
      ]
     },
     "execution_count": 52,
     "metadata": {},
     "output_type": "execute_result"
    }
   ],
   "source": [
    "uhh['link_1']=link\n",
    "uhh=uhh[['link_1','предприятие','должность','период','отрасль','duration']].reset_index(drop=True)\n",
    "uhh"
   ]
  }
 ],
 "metadata": {
  "kernelspec": {
   "display_name": "Python 3",
   "language": "python",
   "name": "python3"
  },
  "language_info": {
   "codemirror_mode": {
    "name": "ipython",
    "version": 3
   },
   "file_extension": ".py",
   "mimetype": "text/x-python",
   "name": "python",
   "nbconvert_exporter": "python",
   "pygments_lexer": "ipython3",
   "version": "3.7.3"
  },
  "varInspector": {
   "cols": {
    "lenName": 16,
    "lenType": 16,
    "lenVar": 40
   },
   "kernels_config": {
    "python": {
     "delete_cmd_postfix": "",
     "delete_cmd_prefix": "del ",
     "library": "var_list.py",
     "varRefreshCmd": "print(var_dic_list())"
    },
    "r": {
     "delete_cmd_postfix": ") ",
     "delete_cmd_prefix": "rm(",
     "library": "var_list.r",
     "varRefreshCmd": "cat(var_dic_list()) "
    }
   },
   "types_to_exclude": [
    "module",
    "function",
    "builtin_function_or_method",
    "instance",
    "_Feature"
   ],
   "window_display": false
  }
 },
 "nbformat": 4,
 "nbformat_minor": 2
}

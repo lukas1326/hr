{
 "cells": [
  {
   "cell_type": "code",
   "execution_count": 1,
   "metadata": {},
   "outputs": [],
   "source": [
    "from bs4 import BeautifulSoup\n",
    "import requests\n",
    "import urllib.request\n",
    "import time\n",
    "import pandas as pd\n",
    "import re\n",
    "from openpyxl import load_workbook\n",
    "from selenium import webdriver\n",
    "from datetime import date"
   ]
  },
  {
   "cell_type": "code",
   "execution_count": 3,
   "metadata": {},
   "outputs": [],
   "source": [
    "def ele():\n",
    "# получение всех ссылок rabota.ua на одной странице\n",
    "    elems = driver.find_elements_by_xpath(\"//a[@href]\")\n",
    "    elems= [elem.get_attribute(\"href\")for elem in elems]\n",
    "    ln_links = [x for x in elems if re.search(r'^https://rabota.ua/cv', x)]\n",
    "    return ln_links"
   ]
  },
  {
   "cell_type": "code",
   "execution_count": 5,
   "metadata": {},
   "outputs": [],
   "source": [
    "def google_q (query,n_pages):\n",
    "    # query example:'site:rabota.ua/cv/ AND \"коммерческий директор\" AND \"Украина\" AND \"FMCG\"'\n",
    "    # один раз устанавливаем драйвер https://sites.google.com/a/chromium.org/chromedriver/downloads\n",
    "\n",
    "    # загружаем драйвер, открывается новое окно хрома, в этом окне делаем запрос на поиск, с каждой страницы\n",
    "    # собираем нужные ссылки, закрываем драйвер\n",
    "\n",
    "    driver = webdriver.Chrome('C:\\\\ProgramData\\chromedriver.exe')\n",
    "    # google search \n",
    "    # start driver (new chrome window)\n",
    "    driver.get('https:www.google.com')\n",
    "    time.sleep(3)\n",
    "\n",
    "    # запрос на поиск \n",
    "    search_query = driver.find_element_by_name('q')\n",
    "    search_query.send_keys(query)\n",
    "    time.sleep(0.5)\n",
    "\n",
    "    # имитация ввода запроса на поиск\n",
    "    search_query.send_keys(u'\\ue007')\n",
    "    time.sleep(3)\n",
    "\n",
    "    # формируем список ссылок с первых десяти страниц\n",
    "    list_link=[]\n",
    "    for i in range(n_pages):\n",
    "        list_link.extend(ele())\n",
    "        next_page=driver.find_element_by_xpath(\"//*[contains(local-name(),'span') and contains(text(),'Уперед')]\")\n",
    "        next_page.click()\n",
    "        time.sleep(5)\n",
    "    driver.quit()\n",
    "    return list_link"
   ]
  }
 ],
 "metadata": {
  "kernelspec": {
   "display_name": "Python 3",
   "language": "python",
   "name": "python3"
  },
  "language_info": {
   "codemirror_mode": {
    "name": "ipython",
    "version": 3
   },
   "file_extension": ".py",
   "mimetype": "text/x-python",
   "name": "python",
   "nbconvert_exporter": "python",
   "pygments_lexer": "ipython3",
   "version": "3.7.3"
  },
  "varInspector": {
   "cols": {
    "lenName": 16,
    "lenType": 16,
    "lenVar": 40
   },
   "kernels_config": {
    "python": {
     "delete_cmd_postfix": "",
     "delete_cmd_prefix": "del ",
     "library": "var_list.py",
     "varRefreshCmd": "print(var_dic_list())"
    },
    "r": {
     "delete_cmd_postfix": ") ",
     "delete_cmd_prefix": "rm(",
     "library": "var_list.r",
     "varRefreshCmd": "cat(var_dic_list()) "
    }
   },
   "types_to_exclude": [
    "module",
    "function",
    "builtin_function_or_method",
    "instance",
    "_Feature"
   ],
   "window_display": false
  }
 },
 "nbformat": 4,
 "nbformat_minor": 2
}

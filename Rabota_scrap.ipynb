{
 "cells": [
  {
   "cell_type": "code",
   "execution_count": 1,
   "metadata": {},
   "outputs": [],
   "source": [
    "from bs4 import BeautifulSoup\n",
    "import requests\n",
    "import urllib.request\n",
    "import time\n",
    "import pandas as pd\n",
    "import re\n",
    "from openpyxl import load_workbook\n",
    "from selenium import webdriver\n",
    "from datetime import date"
   ]
  },
  {
   "cell_type": "code",
   "execution_count": 2,
   "metadata": {
    "scrolled": false
   },
   "outputs": [],
   "source": [
    "def ele():\n",
    "# получение всех ссылок rabota.ua на одной странице\n",
    "    elems = driver.find_elements_by_xpath(\"//a[@href]\")\n",
    "    elems= [elem.get_attribute(\"href\")for elem in elems]\n",
    "    ln_links = [x for x in elems if re.search(r'^https://rabota.ua/cv', x)]\n",
    "    return ln_links"
   ]
  },
  {
   "cell_type": "code",
   "execution_count": 3,
   "metadata": {},
   "outputs": [],
   "source": [
    "# парсим с резюме нужные значения, записываем по-строчно в файл resumes.xlsx \n",
    "def rabotaua(link):\n",
    "    name=None\n",
    "    city=None\n",
    "    age=None\n",
    "    price=None\n",
    "    brief=None\n",
    "    exp=None\n",
    "    edu=None\n",
    "    lang=None\n",
    "    \n",
    "    \n",
    "    response=requests.get(link)\n",
    "    soup=BeautifulSoup(response.text,'html.parser')\n",
    "    name=soup.find('span',id='ctl00_centerZone_BriefResume1_CvView1_cvHeader_lblName').text\n",
    "    \n",
    "    short=soup.find('p',{'class':'rua-p-t_12'}).text.strip().split('\\r\\n')\n",
    "    city=short[0]\n",
    "    regex = re.compile('\\d+')\n",
    "    age=regex.findall(short[1])[0]\n",
    "    try:\n",
    "        regex = re.compile('\\d+')\n",
    "        price=regex.findall(short[2])[0]+regex.findall(short[2])[1]\n",
    "    except:\n",
    "        pass\n",
    "    try:\n",
    "        brief=soup.find('span',id='ctl00_centerZone_BriefResume1_CvView1_Skills_txtSkills').text.replace('Программное обеспечение и сервисы: ','')\n",
    "    except:\n",
    "        pass\n",
    "    exp=soup.find('div',id='ExperienceHolder').text.replace('Опыт работы','').replace('Нет опыта работы','')\n",
    "    edu=soup.find('div',id='EducationHolder').text.replace('Образование','')\n",
    "    lang=soup.find('div',id='LanguagesHolder').text.replace('Владение языками','')\n",
    "    scrap_date=date.today()\n",
    "    field1=[name,link,city,age,\" \",\" \",price,brief,exp,edu,lang,scrap_date]\n",
    "    file_name = \"resumes.xlsx\"\n",
    "    wb = load_workbook(file_name)\n",
    "\n",
    "    page = wb.active\n",
    "    page.append(field1)\n",
    "    wb.save(file_name)\n",
    "    time.sleep(5)\n",
    "    name=None\n",
    "    link=None\n",
    "    city=None\n",
    "    age=None\n",
    "    price=None\n",
    "    brief=None\n",
    "    exp=None\n",
    "    edu=None\n",
    "    lang=None"
   ]
  },
  {
   "cell_type": "code",
   "execution_count": 3,
   "metadata": {},
   "outputs": [],
   "source": [
    "# один раз устанавливаем драйвер https://sites.google.com/a/chromium.org/chromedriver/downloads\n",
    "\n",
    "# загружаем драйвер, открывается новое окно хрома, в этом окне делаем запрос на поиск, с каждой страницы\n",
    "# собираем нужные ссылки, закрываем драйвер\n",
    "\n",
    "driver = webdriver.Chrome('C:\\\\ProgramData\\chromedriver.exe')"
   ]
  },
  {
   "cell_type": "code",
   "execution_count": 4,
   "metadata": {},
   "outputs": [],
   "source": [
    "# google search \n",
    "# start driver (new chrome window)\n",
    "driver.get('https:www.google.com')\n",
    "time.sleep(3)\n",
    "\n",
    "# запрос на поиск \n",
    "search_query = driver.find_element_by_name('q')\n",
    "search_query.send_keys('site:rabota.ua/cv/ AND \"коммерческий директор\" AND \"Киев\" AND \"FMCG\"')\n",
    "time.sleep(0.5)\n",
    "\n",
    "# имитация ввода запроса на поиск\n",
    "search_query.send_keys(u'\\ue007')\n",
    "time.sleep(3)\n",
    "\n",
    "# формируем список ссылок с первых десяти страниц\n",
    "list_link=[]\n",
    "for i in range(10):\n",
    "    list_link.extend(ele())\n",
    "    next_page=driver.find_element_by_xpath(\"//*[contains(local-name(),'span') and contains(text(),'Уперед')]\")\n",
    "    next_page.click()\n",
    "    time.sleep(5)\n",
    "driver.quit()"
   ]
  },
  {
   "cell_type": "code",
   "execution_count": 5,
   "metadata": {},
   "outputs": [
    {
     "data": {
      "text/plain": [
       "['https://rabota.ua/cv/5871428',\n",
       " 'https://rabota.ua/cv/6687243',\n",
       " 'https://rabota.ua/cv/9708136',\n",
       " 'https://rabota.ua/cv/9718754',\n",
       " 'https://rabota.ua/cv/11213338',\n",
       " 'https://rabota.ua/cv/4546874',\n",
       " 'https://rabota.ua/cv/5769251',\n",
       " 'https://rabota.ua/cv/6510369',\n",
       " 'https://rabota.ua/cv/8302546',\n",
       " 'https://rabota.ua/cv/5816323',\n",
       " 'https://rabota.ua/cv/6971625',\n",
       " 'https://rabota.ua/cv/4637418',\n",
       " 'https://rabota.ua/cv/12134501',\n",
       " 'https://rabota.ua/cv/6240017',\n",
       " 'https://rabota.ua/cv/6058623',\n",
       " 'https://rabota.ua/cv/7032926',\n",
       " 'https://rabota.ua/cv/3366909',\n",
       " 'https://rabota.ua/cv/13317005',\n",
       " 'https://rabota.ua/cv/10372671',\n",
       " 'https://rabota.ua/cv/6415800',\n",
       " 'https://rabota.ua/cv/13855279',\n",
       " 'https://rabota.ua/cv/5392396',\n",
       " 'https://rabota.ua/cv/10838152',\n",
       " 'https://rabota.ua/cv/12024097',\n",
       " 'https://rabota.ua/cv/6517648',\n",
       " 'https://rabota.ua/cv/6316501',\n",
       " 'https://rabota.ua/cv/9210147',\n",
       " 'https://rabota.ua/cv/9514211',\n",
       " 'https://rabota.ua/cv/5817722',\n",
       " 'https://rabota.ua/cv/5053850',\n",
       " 'https://rabota.ua/cv/6871142',\n",
       " 'https://rabota.ua/cv/8012604',\n",
       " 'https://rabota.ua/cv/13856362',\n",
       " 'https://rabota.ua/cv/6801909',\n",
       " 'https://rabota.ua/cv/6558205',\n",
       " 'https://rabota.ua/cv/12983533',\n",
       " 'https://rabota.ua/cv/7501566',\n",
       " 'https://rabota.ua/cv/6881204',\n",
       " 'https://rabota.ua/cv/11229814',\n",
       " 'https://rabota.ua/cv/12003613',\n",
       " 'https://rabota.ua/cv/7223610',\n",
       " 'https://rabota.ua/cv/8093031',\n",
       " 'https://rabota.ua/cv/12370584',\n",
       " 'https://rabota.ua/cv/7587333',\n",
       " 'https://rabota.ua/cv/9013065',\n",
       " 'https://rabota.ua/cv/11475454',\n",
       " 'https://rabota.ua/cv/6017984',\n",
       " 'https://rabota.ua/cv/9160299',\n",
       " 'https://rabota.ua/cv/12122072',\n",
       " 'https://rabota.ua/cv/5431558',\n",
       " 'https://rabota.ua/cv/8420437',\n",
       " 'https://rabota.ua/cv/6170847',\n",
       " 'https://rabota.ua/cv/7624428',\n",
       " 'https://rabota.ua/cv/10371527',\n",
       " 'https://rabota.ua/cv/13998451',\n",
       " 'https://rabota.ua/cv/10854244',\n",
       " 'https://rabota.ua/cv/12895265',\n",
       " 'https://rabota.ua/cv/11793979',\n",
       " 'https://rabota.ua/cv/6543182',\n",
       " 'https://rabota.ua/cv/11442568',\n",
       " 'https://rabota.ua/cv/4760938',\n",
       " 'https://rabota.ua/cv/5150430',\n",
       " 'https://rabota.ua/cv/11081544',\n",
       " 'https://rabota.ua/cv/4979722',\n",
       " 'https://rabota.ua/cv/12815439',\n",
       " 'https://rabota.ua/cv/12986864',\n",
       " 'https://rabota.ua/cv/6855446',\n",
       " 'https://rabota.ua/cv/4919076',\n",
       " 'https://rabota.ua/cv/7552004',\n",
       " 'https://rabota.ua/cv/9519622',\n",
       " 'https://rabota.ua/cv/7036979',\n",
       " 'https://rabota.ua/cv/10064950',\n",
       " 'https://rabota.ua/cv/3953230',\n",
       " 'https://rabota.ua/cv/7866141',\n",
       " 'https://rabota.ua/cv/9288809',\n",
       " 'https://rabota.ua/cv/7211947',\n",
       " 'https://rabota.ua/cv/13034663',\n",
       " 'https://rabota.ua/cv/7913258',\n",
       " 'https://rabota.ua/cv/2815746',\n",
       " 'https://rabota.ua/cv/8220189',\n",
       " 'https://rabota.ua/cv/10470156',\n",
       " 'https://rabota.ua/cv/5290827',\n",
       " 'https://rabota.ua/cv/12397708',\n",
       " 'https://rabota.ua/cv/8099458',\n",
       " 'https://rabota.ua/cv/7040555',\n",
       " 'https://rabota.ua/cv/10877476',\n",
       " 'https://rabota.ua/cv/7974153',\n",
       " 'https://rabota.ua/cv/8454732',\n",
       " 'https://rabota.ua/cv/6764673',\n",
       " 'https://rabota.ua/cv/11926446',\n",
       " 'https://rabota.ua/cv/3091233',\n",
       " 'https://rabota.ua/cv/5120199',\n",
       " 'https://rabota.ua/cv/11440640',\n",
       " 'https://rabota.ua/cv/5239598',\n",
       " 'https://rabota.ua/cv/3139053',\n",
       " 'https://rabota.ua/cv/6421041',\n",
       " 'https://rabota.ua/cv/13234114',\n",
       " 'https://rabota.ua/cv/6486194']"
      ]
     },
     "execution_count": 5,
     "metadata": {},
     "output_type": "execute_result"
    }
   ],
   "source": [
    "list_link"
   ]
  },
  {
   "cell_type": "code",
   "execution_count": 11,
   "metadata": {},
   "outputs": [],
   "source": [
    "# все полученные ссылки исполняем функцией rabotaua(link)\n",
    "link_drop=[]\n",
    "for link in list_link:\n",
    "    try:\n",
    "        rabotaua(link)\n",
    "        time.sleep(10)\n",
    "    except:\n",
    "        link_drop.append(link)\n",
    "        pass"
   ]
  },
  {
   "cell_type": "code",
   "execution_count": 12,
   "metadata": {},
   "outputs": [
    {
     "data": {
      "text/plain": [
       "['https://rabota.ua/cv/9718754', 'https://rabota.ua/cv/6558205']"
      ]
     },
     "execution_count": 12,
     "metadata": {},
     "output_type": "execute_result"
    }
   ],
   "source": [
    "# ссылки, которые не сработали\n",
    "link_drop"
   ]
  },
  {
   "cell_type": "code",
   "execution_count": 6,
   "metadata": {},
   "outputs": [],
   "source": [
    "%run work_history.ipynb"
   ]
  },
  {
   "cell_type": "code",
   "execution_count": 21,
   "metadata": {},
   "outputs": [],
   "source": [
    "link_drop=[]\n",
    "df1=pd.DataFrame(columns=['link_1', 'предприятие', 'должность', 'период', 'отрасль', 'duration'])\n",
    "for link in list_link[:4]:\n",
    "    try:\n",
    "        df=duration(link)\n",
    "        df1=pd.concat([df,df1])\n",
    "        time.sleep(10)\n",
    "    except:\n",
    "        link_drop.append(link)\n",
    "        pass"
   ]
  },
  {
   "cell_type": "code",
   "execution_count": 22,
   "metadata": {},
   "outputs": [
    {
     "data": {
      "text/html": [
       "<div>\n",
       "<style scoped>\n",
       "    .dataframe tbody tr th:only-of-type {\n",
       "        vertical-align: middle;\n",
       "    }\n",
       "\n",
       "    .dataframe tbody tr th {\n",
       "        vertical-align: top;\n",
       "    }\n",
       "\n",
       "    .dataframe thead th {\n",
       "        text-align: right;\n",
       "    }\n",
       "</style>\n",
       "<table border=\"1\" class=\"dataframe\">\n",
       "  <thead>\n",
       "    <tr style=\"text-align: right;\">\n",
       "      <th></th>\n",
       "      <th>link_1</th>\n",
       "      <th>предприятие</th>\n",
       "      <th>должность</th>\n",
       "      <th>период</th>\n",
       "      <th>отрасль</th>\n",
       "      <th>duration</th>\n",
       "    </tr>\n",
       "  </thead>\n",
       "  <tbody>\n",
       "    <tr>\n",
       "      <th>0</th>\n",
       "      <td>https://rabota.ua/cv/9708136</td>\n",
       "      <td>ООО Леосити Инвест</td>\n",
       "      <td>Коммерческий директор</td>\n",
       "      <td>мар 2016 - настоящее время (3 года 10 мес)</td>\n",
       "      <td>FMCG</td>\n",
       "      <td>3.83</td>\n",
       "    </tr>\n",
       "    <tr>\n",
       "      <th>1</th>\n",
       "      <td>https://rabota.ua/cv/9708136</td>\n",
       "      <td>ЧП ПКФ Суворов (производство и дистрибьюция)</td>\n",
       "      <td>Руководитель отдела экспорта</td>\n",
       "      <td>янв 2013 - мар 2016 (3 года 3 мес)</td>\n",
       "      <td>FMCG</td>\n",
       "      <td>3.25</td>\n",
       "    </tr>\n",
       "    <tr>\n",
       "      <th>2</th>\n",
       "      <td>https://rabota.ua/cv/9708136</td>\n",
       "      <td>ООО «ИКБ» и ООО «ДИС – 2003» (дистрибьюция и п...</td>\n",
       "      <td>Коммерческий директор</td>\n",
       "      <td>янв 2009 - янв 2013 (4 года 1 мес)</td>\n",
       "      <td>FMCG</td>\n",
       "      <td>4.08</td>\n",
       "    </tr>\n",
       "    <tr>\n",
       "      <th>3</th>\n",
       "      <td>https://rabota.ua/cv/9708136</td>\n",
       "      <td>Формирование торгового штата сотрудников</td>\n",
       "      <td>Расширение ассортиментного пакет</td>\n",
       "      <td>сен 2007 - янв 2009 (1 год 5 мес)</td>\n",
       "      <td>FMCG</td>\n",
       "      <td>1.42</td>\n",
       "    </tr>\n",
       "    <tr>\n",
       "      <th>4</th>\n",
       "      <td>https://rabota.ua/cv/9708136</td>\n",
       "      <td>Проведение переговоров с поставщиками и ключев...</td>\n",
       "      <td>Прогнозирование и планирование продаж</td>\n",
       "      <td>июн 2007 - сен 2007 (4 мес)</td>\n",
       "      <td>FMCG</td>\n",
       "      <td>0.33</td>\n",
       "    </tr>\n",
       "    <tr>\n",
       "      <th>5</th>\n",
       "      <td>https://rabota.ua/cv/9708136</td>\n",
       "      <td>Переговоры с контролирующими органами</td>\n",
       "      <td>Ценовой мониторинг рынка</td>\n",
       "      <td>апр 2005 - июн 2007 (2 года 3 мес)</td>\n",
       "      <td>FMCG</td>\n",
       "      <td>2.25</td>\n",
       "    </tr>\n",
       "    <tr>\n",
       "      <th>6</th>\n",
       "      <td>https://rabota.ua/cv/9708136</td>\n",
       "      <td>Создание производства с нуля</td>\n",
       "      <td>Контроль работы производства</td>\n",
       "      <td>мар 2003 - апр 2005 (2 года 2 мес)</td>\n",
       "      <td>FMCG</td>\n",
       "      <td>2.17</td>\n",
       "    </tr>\n",
       "    <tr>\n",
       "      <th>7</th>\n",
       "      <td>https://rabota.ua/cv/9708136</td>\n",
       "      <td>Начальник отдела продаж</td>\n",
       "      <td>Развитие новых направлений дистрибьюции с нуля</td>\n",
       "      <td>сен 2002 - мар 2003 (7 мес)</td>\n",
       "      <td>FMCG</td>\n",
       "      <td>0.58</td>\n",
       "    </tr>\n",
       "    <tr>\n",
       "      <th>0</th>\n",
       "      <td>https://rabota.ua/cv/6687243</td>\n",
       "      <td>Агрооптима, ООО</td>\n",
       "      <td>Руководитель отдела продаж Юго-Восточного региона</td>\n",
       "      <td>фев 2017 - авг 2017 (7 мес)</td>\n",
       "      <td>АПК</td>\n",
       "      <td>0.58</td>\n",
       "    </tr>\n",
       "    <tr>\n",
       "      <th>1</th>\n",
       "      <td>https://rabota.ua/cv/6687243</td>\n",
       "      <td>Руководитель отдела маркетинга и продаж</td>\n",
       "      <td>Зоны ответственности:</td>\n",
       "      <td>фев 2016 - дек 2016 (11 мес)</td>\n",
       "      <td>Торговля</td>\n",
       "      <td>0.92</td>\n",
       "    </tr>\n",
       "    <tr>\n",
       "      <th>2</th>\n",
       "      <td>https://rabota.ua/cv/6687243</td>\n",
       "      <td>Зоны ответственности:</td>\n",
       "      <td>Альфа Парфюм</td>\n",
       "      <td>фев 2015 - фев 2016 (1 год 1 мес)</td>\n",
       "      <td>FMCG</td>\n",
       "      <td>1.08</td>\n",
       "    </tr>\n",
       "    <tr>\n",
       "      <th>3</th>\n",
       "      <td>https://rabota.ua/cv/6687243</td>\n",
       "      <td>Истерн Беверидж Трейдинг</td>\n",
       "      <td>Региональный менеджер</td>\n",
       "      <td>сен 2007 - июл 2014 (6 лет 11 мес)</td>\n",
       "      <td>FMCG</td>\n",
       "      <td>6.92</td>\n",
       "    </tr>\n",
       "    <tr>\n",
       "      <th>4</th>\n",
       "      <td>https://rabota.ua/cv/6687243</td>\n",
       "      <td>Business Development Manager  (Менеджер по раз...</td>\n",
       "      <td>Зоны ответственности:</td>\n",
       "      <td>фев 2005 - сен 2007 (2 года 8 мес)</td>\n",
       "      <td>FMCG</td>\n",
       "      <td>2.67</td>\n",
       "    </tr>\n",
       "    <tr>\n",
       "      <th>5</th>\n",
       "      <td>https://rabota.ua/cv/6687243</td>\n",
       "      <td>Самая высокая доля рынка среди регионов</td>\n",
       "      <td>Ригли Украина</td>\n",
       "      <td>июн 2003 - фев 2005 (1 год 9 мес)</td>\n",
       "      <td>FMCG</td>\n",
       "      <td>1.75</td>\n",
       "    </tr>\n",
       "    <tr>\n",
       "      <th>6</th>\n",
       "      <td>https://rabota.ua/cv/6687243</td>\n",
       "      <td>Создание эффективной и высоко вовлеченной, нац...</td>\n",
       "      <td>Успешное внедрение программы совместной деятел...</td>\n",
       "      <td>апр 2001 - июн 2003 (2 года 3 мес)</td>\n",
       "      <td>FMCG</td>\n",
       "      <td>2.25</td>\n",
       "    </tr>\n",
       "    <tr>\n",
       "      <th>7</th>\n",
       "      <td>https://rabota.ua/cv/6687243</td>\n",
       "      <td>прирост в объеме реализации на протяжении всег...</td>\n",
       "      <td>прирост количественных и качественных показате...</td>\n",
       "      <td>ноя 1999 - апр 2001 (1 год 6 мес)</td>\n",
       "      <td>FMCG</td>\n",
       "      <td>1.50</td>\n",
       "    </tr>\n",
       "    <tr>\n",
       "      <th>0</th>\n",
       "      <td>https://rabota.ua/cv/5871428</td>\n",
       "      <td>ООО \"Житомирский молочный завод\"</td>\n",
       "      <td>Коммерческий директор</td>\n",
       "      <td>сен 2018 - настоящее время (1 год 4 мес)</td>\n",
       "      <td>FMCG</td>\n",
       "      <td>1.33</td>\n",
       "    </tr>\n",
       "    <tr>\n",
       "      <th>1</th>\n",
       "      <td>https://rabota.ua/cv/5871428</td>\n",
       "      <td>ОДО \"ЖЛ\", ТМ \"Житомирские ласощи\"</td>\n",
       "      <td>Директор по продажам</td>\n",
       "      <td>окт 2014 - мар 2018 (3 года 6 мес)</td>\n",
       "      <td>FMCG</td>\n",
       "      <td>3.50</td>\n",
       "    </tr>\n",
       "    <tr>\n",
       "      <th>2</th>\n",
       "      <td>https://rabota.ua/cv/5871428</td>\n",
       "      <td>Укрпродуктгрупп (Национальный производитель мо...</td>\n",
       "      <td>Директор компании. Директор департамента дистр...</td>\n",
       "      <td>июл 2010 - июн 2014 (4 года)</td>\n",
       "      <td>FMCG</td>\n",
       "      <td>4.00</td>\n",
       "    </tr>\n",
       "    <tr>\n",
       "      <th>3</th>\n",
       "      <td>https://rabota.ua/cv/5871428</td>\n",
       "      <td>Группа компаний УПАК, прект Dragon Capital (Пр...</td>\n",
       "      <td>Коммерческий директор управляющей компании</td>\n",
       "      <td>окт 2008 - июн 2010 (1 год 9 мес)</td>\n",
       "      <td>FMCG</td>\n",
       "      <td>1.75</td>\n",
       "    </tr>\n",
       "    <tr>\n",
       "      <th>4</th>\n",
       "      <td>https://rabota.ua/cv/5871428</td>\n",
       "      <td>ОАО \"Житомирский маслозавод\", ТМ \"Рудь\" (Произ...</td>\n",
       "      <td>Национальный менеджер по продажам</td>\n",
       "      <td>июл 2005 - окт 2008 (3 года 4 мес)</td>\n",
       "      <td>FMCG</td>\n",
       "      <td>3.33</td>\n",
       "    </tr>\n",
       "    <tr>\n",
       "      <th>5</th>\n",
       "      <td>https://rabota.ua/cv/5871428</td>\n",
       "      <td>ООО \"САВсервис\" (Дистрибьюция продукции компан...</td>\n",
       "      <td>Начальник отдела продаж</td>\n",
       "      <td>июл 1998 - июл 2005 (7 лет 1 мес)</td>\n",
       "      <td>FMCG</td>\n",
       "      <td>7.08</td>\n",
       "    </tr>\n",
       "  </tbody>\n",
       "</table>\n",
       "</div>"
      ],
      "text/plain": [
       "                         link_1  \\\n",
       "0  https://rabota.ua/cv/9708136   \n",
       "1  https://rabota.ua/cv/9708136   \n",
       "2  https://rabota.ua/cv/9708136   \n",
       "3  https://rabota.ua/cv/9708136   \n",
       "4  https://rabota.ua/cv/9708136   \n",
       "5  https://rabota.ua/cv/9708136   \n",
       "6  https://rabota.ua/cv/9708136   \n",
       "7  https://rabota.ua/cv/9708136   \n",
       "0  https://rabota.ua/cv/6687243   \n",
       "1  https://rabota.ua/cv/6687243   \n",
       "2  https://rabota.ua/cv/6687243   \n",
       "3  https://rabota.ua/cv/6687243   \n",
       "4  https://rabota.ua/cv/6687243   \n",
       "5  https://rabota.ua/cv/6687243   \n",
       "6  https://rabota.ua/cv/6687243   \n",
       "7  https://rabota.ua/cv/6687243   \n",
       "0  https://rabota.ua/cv/5871428   \n",
       "1  https://rabota.ua/cv/5871428   \n",
       "2  https://rabota.ua/cv/5871428   \n",
       "3  https://rabota.ua/cv/5871428   \n",
       "4  https://rabota.ua/cv/5871428   \n",
       "5  https://rabota.ua/cv/5871428   \n",
       "\n",
       "                                         предприятие  \\\n",
       "0                                 ООО Леосити Инвест   \n",
       "1       ЧП ПКФ Суворов (производство и дистрибьюция)   \n",
       "2  ООО «ИКБ» и ООО «ДИС – 2003» (дистрибьюция и п...   \n",
       "3           Формирование торгового штата сотрудников   \n",
       "4  Проведение переговоров с поставщиками и ключев...   \n",
       "5              Переговоры с контролирующими органами   \n",
       "6                       Создание производства с нуля   \n",
       "7                            Начальник отдела продаж   \n",
       "0                                    Агрооптима, ООО   \n",
       "1            Руководитель отдела маркетинга и продаж   \n",
       "2                              Зоны ответственности:   \n",
       "3                           Истерн Беверидж Трейдинг   \n",
       "4  Business Development Manager  (Менеджер по раз...   \n",
       "5            Самая высокая доля рынка среди регионов   \n",
       "6  Создание эффективной и высоко вовлеченной, нац...   \n",
       "7  прирост в объеме реализации на протяжении всег...   \n",
       "0                   ООО \"Житомирский молочный завод\"   \n",
       "1                  ОДО \"ЖЛ\", ТМ \"Житомирские ласощи\"   \n",
       "2  Укрпродуктгрупп (Национальный производитель мо...   \n",
       "3  Группа компаний УПАК, прект Dragon Capital (Пр...   \n",
       "4  ОАО \"Житомирский маслозавод\", ТМ \"Рудь\" (Произ...   \n",
       "5  ООО \"САВсервис\" (Дистрибьюция продукции компан...   \n",
       "\n",
       "                                           должность  \\\n",
       "0                              Коммерческий директор   \n",
       "1                       Руководитель отдела экспорта   \n",
       "2                              Коммерческий директор   \n",
       "3                   Расширение ассортиментного пакет   \n",
       "4              Прогнозирование и планирование продаж   \n",
       "5                           Ценовой мониторинг рынка   \n",
       "6                       Контроль работы производства   \n",
       "7     Развитие новых направлений дистрибьюции с нуля   \n",
       "0  Руководитель отдела продаж Юго-Восточного региона   \n",
       "1                              Зоны ответственности:   \n",
       "2                                       Альфа Парфюм   \n",
       "3                              Региональный менеджер   \n",
       "4                              Зоны ответственности:   \n",
       "5                                      Ригли Украина   \n",
       "6  Успешное внедрение программы совместной деятел...   \n",
       "7  прирост количественных и качественных показате...   \n",
       "0                              Коммерческий директор   \n",
       "1                               Директор по продажам   \n",
       "2  Директор компании. Директор департамента дистр...   \n",
       "3         Коммерческий директор управляющей компании   \n",
       "4                  Национальный менеджер по продажам   \n",
       "5                            Начальник отдела продаж   \n",
       "\n",
       "                                       период   отрасль  duration  \n",
       "0  мар 2016 - настоящее время (3 года 10 мес)      FMCG      3.83  \n",
       "1          янв 2013 - мар 2016 (3 года 3 мес)      FMCG      3.25  \n",
       "2          янв 2009 - янв 2013 (4 года 1 мес)      FMCG      4.08  \n",
       "3           сен 2007 - янв 2009 (1 год 5 мес)      FMCG      1.42  \n",
       "4                 июн 2007 - сен 2007 (4 мес)      FMCG      0.33  \n",
       "5          апр 2005 - июн 2007 (2 года 3 мес)      FMCG      2.25  \n",
       "6          мар 2003 - апр 2005 (2 года 2 мес)      FMCG      2.17  \n",
       "7                 сен 2002 - мар 2003 (7 мес)      FMCG      0.58  \n",
       "0                 фев 2017 - авг 2017 (7 мес)       АПК      0.58  \n",
       "1                фев 2016 - дек 2016 (11 мес)  Торговля      0.92  \n",
       "2           фев 2015 - фев 2016 (1 год 1 мес)      FMCG      1.08  \n",
       "3          сен 2007 - июл 2014 (6 лет 11 мес)      FMCG      6.92  \n",
       "4          фев 2005 - сен 2007 (2 года 8 мес)      FMCG      2.67  \n",
       "5           июн 2003 - фев 2005 (1 год 9 мес)      FMCG      1.75  \n",
       "6          апр 2001 - июн 2003 (2 года 3 мес)      FMCG      2.25  \n",
       "7           ноя 1999 - апр 2001 (1 год 6 мес)      FMCG      1.50  \n",
       "0    сен 2018 - настоящее время (1 год 4 мес)      FMCG      1.33  \n",
       "1          окт 2014 - мар 2018 (3 года 6 мес)      FMCG      3.50  \n",
       "2                июл 2010 - июн 2014 (4 года)      FMCG      4.00  \n",
       "3           окт 2008 - июн 2010 (1 год 9 мес)      FMCG      1.75  \n",
       "4          июл 2005 - окт 2008 (3 года 4 мес)      FMCG      3.33  \n",
       "5           июл 1998 - июл 2005 (7 лет 1 мес)      FMCG      7.08  "
      ]
     },
     "execution_count": 22,
     "metadata": {},
     "output_type": "execute_result"
    }
   ],
   "source": [
    "df1"
   ]
  },
  {
   "cell_type": "code",
   "execution_count": 23,
   "metadata": {},
   "outputs": [
    {
     "data": {
      "text/plain": [
       "['https://rabota.ua/cv/9718754']"
      ]
     },
     "execution_count": 23,
     "metadata": {},
     "output_type": "execute_result"
    }
   ],
   "source": [
    "link_drop"
   ]
  },
  {
   "cell_type": "markdown",
   "metadata": {},
   "source": [
    "## Дальше - необязательный код. Не нужно запускать.\n",
    "### Только для проверки работы функции rabotaua(link)."
   ]
  },
  {
   "cell_type": "code",
   "execution_count": 25,
   "metadata": {},
   "outputs": [],
   "source": [
    "name=None\n",
    "city=None\n",
    "age=None\n",
    "price=None\n",
    "brief=None\n",
    "exp=None\n",
    "edu=None\n",
    "lang=None"
   ]
  },
  {
   "cell_type": "code",
   "execution_count": 26,
   "metadata": {},
   "outputs": [
    {
     "data": {
      "text/plain": [
       "<Response [200]>"
      ]
     },
     "execution_count": 26,
     "metadata": {},
     "output_type": "execute_result"
    }
   ],
   "source": [
    "response=requests.get(link)\n",
    "response"
   ]
  },
  {
   "cell_type": "code",
   "execution_count": 27,
   "metadata": {},
   "outputs": [],
   "source": [
    "soup=BeautifulSoup(response.text,'html.parser')"
   ]
  },
  {
   "cell_type": "code",
   "execution_count": 28,
   "metadata": {},
   "outputs": [
    {
     "data": {
      "text/plain": [
       "'Владимир'"
      ]
     },
     "execution_count": 28,
     "metadata": {},
     "output_type": "execute_result"
    }
   ],
   "source": [
    "name=soup.find('span',id='ctl00_centerZone_BriefResume1_CvView1_cvHeader_lblName').text\n",
    "#ctl00_centerZone_BriefResume1_CvView1_cvHeader_lblName\n",
    "name\n"
   ]
  },
  {
   "cell_type": "code",
   "execution_count": 29,
   "metadata": {},
   "outputs": [
    {
     "data": {
      "text/plain": [
       "'Киев'"
      ]
     },
     "execution_count": 29,
     "metadata": {},
     "output_type": "execute_result"
    }
   ],
   "source": [
    "short=soup.find('p',{'class':'rua-p-t_12'}).text.strip().split('\\r\\n')\n",
    "city=short[0]\n",
    "city"
   ]
  },
  {
   "cell_type": "code",
   "execution_count": 30,
   "metadata": {},
   "outputs": [
    {
     "data": {
      "text/plain": [
       "'52'"
      ]
     },
     "execution_count": 30,
     "metadata": {},
     "output_type": "execute_result"
    }
   ],
   "source": [
    "regex = re.compile('\\d+')\n",
    "age=regex.findall(short[1])[0]\n",
    "age"
   ]
  },
  {
   "cell_type": "code",
   "execution_count": 33,
   "metadata": {},
   "outputs": [],
   "source": [
    "try:\n",
    "    regex = re.compile('\\d+')\n",
    "    price=regex.findall(short[2])[0]+regex.findall(short[2])[1]\n",
    "except:\n",
    "    pass"
   ]
  },
  {
   "cell_type": "code",
   "execution_count": 34,
   "metadata": {},
   "outputs": [
    {
     "data": {
      "text/plain": [
       "'Владею навыками:организации и управления продажами продукции FMCG на территории Украины;стратегического планирования, создания структуры, бизнес-процессов и полного управления продажами и\\xa0торговым предприятием;административно-хозяйственного управления предприятием;работы с дистрибьюторами и\\xa0собственными торговыми командами;работы со скоропортом и продукцией, требующей специальных условий хранения.\\xa0\\xa0Достижения:2014-2016 - предприятие вошло в\\xa0тройку лидеров производителей кондитерской продукции Украины (была шестая позиция);2010-2014 - организовал продажи\\xa0абсолютно нового продукта, который\\xa0принёс прибыль, превышающую прибыль от основного продукта\\xa0предприятия;2005-2007 - организовал дистрибьюцию\\xa0продукта с 0, что позволило предприятию стать лидером национального рынка.\\xa0'"
      ]
     },
     "execution_count": 34,
     "metadata": {},
     "output_type": "execute_result"
    }
   ],
   "source": [
    "brief=soup.find('span',id='ctl00_centerZone_BriefResume1_CvView1_Skills_txtSkills').text.replace('Программное обеспечение и сервисы: ','')\n",
    "brief\n",
    "#ctl00_centerZone_BriefResume1_CvView1_Skills_txtSkills"
   ]
  },
  {
   "cell_type": "code",
   "execution_count": 35,
   "metadata": {},
   "outputs": [
    {
     "data": {
      "text/plain": [
       "'\\r\\nКоммерческий директорсен 2018 - настоящее время (1 год 3 мес)ООО \"Житомирский молочный завод\"FMCG\\r\\n\\t\\t\\t\\tУправляю коммерческой службой - закупки, продажи, логистика.Директор по продажамокт 2014 - настоящее время (5 лет 2 мес)ОДО \"ЖЛ\", ТМ \"Житомирские ласощи\"(http://sladosti.com.ua)\\r\\n\\t\\t\\t\\tболее 500 сотрудников\\r\\n\\t\\t\\t\\t\\tFMCG\\r\\n\\t\\t\\t\\tУправляю продажами компании на территории Украины: - участвую в стратегическом планировании развития компании; - разрабатываю стратегию развития продаж в Украине; - разрабатываю планы продаж в Украине, контролирую выполнение; - разрабатываю торговые условия компани;  - руковожу торговым персоналом компании; - управляю дебиторской задолженностью;  - разрабатываю и управляю мероприятиями продвижения продукции;  - участвую в разработке новых видов продукции; - отчитываюсь перед инвесторами по финансовым результатам.\\r\\n\\t\\t\\t\\r\\n\\t\\t\\r\\n\\t\\t\\tДиректор компании. Директор департамента дистрибьюции группы компанийиюл 2010 - июн 2014 (4 года)Укрпродуктгрупп (Национальный производитель молочной продукции ТМ \"Наш молочник\", \"Молендам\", \"Народный продукт\"; живого кваса \"Арсеньевский\")FMCG\\r\\n\\t\\t\\t\\t  Управляю продажами на территории Украины.Управляю финансово-хозяйственной деятельностью предприятия.Принимаю участие в стратегическом планировании продаж компании.Планирую бюджет предприятия, контролирую его исполнение.Принимаю участие в планировании и реализации маркетинговых мероприятий.Несу ответственность и отчитываюсь за показатели перед советом директоров, собственниками компании.Коммерческий директор управляющей компанииокт 2008 - июн 2010 (1 год 9 мес)Группа компаний УПАК, прект Dragon Capital (Производстао и продажи мяса птицы, комбикормов, зерновых)FMCG\\r\\n\\t\\t\\t\\t  Управлял коммерческой службой группы предприятий - маркетингом, продажами, закупками и логистикой. Отчитывался перед наблюдательным советом за финансово-экономические показатели. Достижения: рестркутуризировал коммерческую службу, согласно требованиям рынка и желаниям собственников, что привело к увеличению прибыльности компании.Национальный менеджер по продажамиюл 2005 - окт 2008 (3 года 4 мес)ОАО \"Житомирский маслозавод\", ТМ \"Рудь\" (Производство и продажи мороженного, маслопродукции, кисломолочной продукции)от 20 до 50 сотрудников\\r\\n\\t\\t\\t\\t\\tFMCG\\r\\n\\t\\t\\t\\t  Управлял продажами продукции компании на территории Украины.Управлял персоналом отдела продаж компании. Разрабатывал и реализовал программы, направленные на увеличение продаж, доли рынка, доходности компании.Участвовал в разработке и реализации маркетинговых программ компании.Участвовал и контролировал переговорный и договорной процессы с партнерами.Отчитывался перед советом директоров за выполнение поставленных задач. Достижения: выведение на национальный рынок масопродукции компании. Создание структуры собственных активных продаж кисломолочной продукции, что привело существенному увеличению доли продаж. Выведение на рынок новых видов продукции.Начальник отдела продажиюл 1998 - июл 2005 (7 лет 1 мес)ООО \"САВсервис\" (Дистрибьюция продукции компании \"Procter & Gamble\")от 20 до 50 сотрудников\\r\\n\\t\\t\\t\\t\\tFMCG\\r\\n\\t\\t\\t\\t  Управлял продажами продукции компании \"Procter & Gamble\" и других производителей на территории Житомирской области.Побирал, адаптировал и обучал персонал отдела продаж.Реализовал маркетинговые мероприятия компании.Отчитывался перед руководством головной компании за выполнение показателей. Достижения: ни одного уволенного сотрудника отдела продаж, ни одного случая воровства. Награды за выполнение показателей от компании \"Procter & Gamble\".'"
      ]
     },
     "execution_count": 35,
     "metadata": {},
     "output_type": "execute_result"
    }
   ],
   "source": [
    "exp=soup.find('div',id='ExperienceHolder').text.replace('Опыт работы','').replace('Нет опыта работы','')\n",
    "exp"
   ]
  },
  {
   "cell_type": "code",
   "execution_count": 36,
   "metadata": {},
   "outputs": [
    {
     "data": {
      "text/plain": [
       "'Киевский индустриально-педагогический колледж, Технология сварочного производства, Киев.(г.Киев, Украина)\\r\\n\\t\\t\\tГод окончания\\r\\n\\t\\t\\t\\t1993\\r\\n\\t\\t\\tинженер-сварщик,\\xa0специалист\\r\\n\\t\\r\\n\\r\\n\\t\\t\\t'"
      ]
     },
     "execution_count": 36,
     "metadata": {},
     "output_type": "execute_result"
    }
   ],
   "source": [
    "edu=soup.find('div',id='EducationHolder').text.replace('Образование','')\n",
    "edu"
   ]
  },
  {
   "cell_type": "code",
   "execution_count": 37,
   "metadata": {},
   "outputs": [
    {
     "data": {
      "text/plain": [
       "'\\n'"
      ]
     },
     "execution_count": 37,
     "metadata": {},
     "output_type": "execute_result"
    }
   ],
   "source": [
    "lang=soup.find('div',id='LanguagesHolder').text.replace('Владение языками','')\n",
    "lang"
   ]
  },
  {
   "cell_type": "code",
   "execution_count": 38,
   "metadata": {},
   "outputs": [
    {
     "data": {
      "text/plain": [
       "datetime.date(2019, 11, 1)"
      ]
     },
     "execution_count": 38,
     "metadata": {},
     "output_type": "execute_result"
    }
   ],
   "source": [
    "scrap_date=date.today()\n",
    "scrap_date"
   ]
  },
  {
   "cell_type": "code",
   "execution_count": 39,
   "metadata": {},
   "outputs": [
    {
     "data": {
      "text/plain": [
       "['Владимир',\n",
       " 'https://rabota.ua/cv/5871428',\n",
       " 'Киев',\n",
       " '52',\n",
       " None,\n",
       " 'Владею навыками:организации и управления продажами продукции FMCG на территории Украины;стратегического планирования, создания структуры, бизнес-процессов и полного управления продажами и\\xa0торговым предприятием;административно-хозяйственного управления предприятием;работы с дистрибьюторами и\\xa0собственными торговыми командами;работы со скоропортом и продукцией, требующей специальных условий хранения.\\xa0\\xa0Достижения:2014-2016 - предприятие вошло в\\xa0тройку лидеров производителей кондитерской продукции Украины (была шестая позиция);2010-2014 - организовал продажи\\xa0абсолютно нового продукта, который\\xa0принёс прибыль, превышающую прибыль от основного продукта\\xa0предприятия;2005-2007 - организовал дистрибьюцию\\xa0продукта с 0, что позволило предприятию стать лидером национального рынка.\\xa0',\n",
       " '\\r\\nКоммерческий директорсен 2018 - настоящее время (1 год 3 мес)ООО \"Житомирский молочный завод\"FMCG\\r\\n\\t\\t\\t\\tУправляю коммерческой службой - закупки, продажи, логистика.Директор по продажамокт 2014 - настоящее время (5 лет 2 мес)ОДО \"ЖЛ\", ТМ \"Житомирские ласощи\"(http://sladosti.com.ua)\\r\\n\\t\\t\\t\\tболее 500 сотрудников\\r\\n\\t\\t\\t\\t\\tFMCG\\r\\n\\t\\t\\t\\tУправляю продажами компании на территории Украины: - участвую в стратегическом планировании развития компании; - разрабатываю стратегию развития продаж в Украине; - разрабатываю планы продаж в Украине, контролирую выполнение; - разрабатываю торговые условия компани;  - руковожу торговым персоналом компании; - управляю дебиторской задолженностью;  - разрабатываю и управляю мероприятиями продвижения продукции;  - участвую в разработке новых видов продукции; - отчитываюсь перед инвесторами по финансовым результатам.\\r\\n\\t\\t\\t\\r\\n\\t\\t\\r\\n\\t\\t\\tДиректор компании. Директор департамента дистрибьюции группы компанийиюл 2010 - июн 2014 (4 года)Укрпродуктгрупп (Национальный производитель молочной продукции ТМ \"Наш молочник\", \"Молендам\", \"Народный продукт\"; живого кваса \"Арсеньевский\")FMCG\\r\\n\\t\\t\\t\\t  Управляю продажами на территории Украины.Управляю финансово-хозяйственной деятельностью предприятия.Принимаю участие в стратегическом планировании продаж компании.Планирую бюджет предприятия, контролирую его исполнение.Принимаю участие в планировании и реализации маркетинговых мероприятий.Несу ответственность и отчитываюсь за показатели перед советом директоров, собственниками компании.Коммерческий директор управляющей компанииокт 2008 - июн 2010 (1 год 9 мес)Группа компаний УПАК, прект Dragon Capital (Производстао и продажи мяса птицы, комбикормов, зерновых)FMCG\\r\\n\\t\\t\\t\\t  Управлял коммерческой службой группы предприятий - маркетингом, продажами, закупками и логистикой. Отчитывался перед наблюдательным советом за финансово-экономические показатели. Достижения: рестркутуризировал коммерческую службу, согласно требованиям рынка и желаниям собственников, что привело к увеличению прибыльности компании.Национальный менеджер по продажамиюл 2005 - окт 2008 (3 года 4 мес)ОАО \"Житомирский маслозавод\", ТМ \"Рудь\" (Производство и продажи мороженного, маслопродукции, кисломолочной продукции)от 20 до 50 сотрудников\\r\\n\\t\\t\\t\\t\\tFMCG\\r\\n\\t\\t\\t\\t  Управлял продажами продукции компании на территории Украины.Управлял персоналом отдела продаж компании. Разрабатывал и реализовал программы, направленные на увеличение продаж, доли рынка, доходности компании.Участвовал в разработке и реализации маркетинговых программ компании.Участвовал и контролировал переговорный и договорной процессы с партнерами.Отчитывался перед советом директоров за выполнение поставленных задач. Достижения: выведение на национальный рынок масопродукции компании. Создание структуры собственных активных продаж кисломолочной продукции, что привело существенному увеличению доли продаж. Выведение на рынок новых видов продукции.Начальник отдела продажиюл 1998 - июл 2005 (7 лет 1 мес)ООО \"САВсервис\" (Дистрибьюция продукции компании \"Procter & Gamble\")от 20 до 50 сотрудников\\r\\n\\t\\t\\t\\t\\tFMCG\\r\\n\\t\\t\\t\\t  Управлял продажами продукции компании \"Procter & Gamble\" и других производителей на территории Житомирской области.Побирал, адаптировал и обучал персонал отдела продаж.Реализовал маркетинговые мероприятия компании.Отчитывался перед руководством головной компании за выполнение показателей. Достижения: ни одного уволенного сотрудника отдела продаж, ни одного случая воровства. Награды за выполнение показателей от компании \"Procter & Gamble\".',\n",
       " 'Киевский индустриально-педагогический колледж, Технология сварочного производства, Киев.(г.Киев, Украина)\\r\\n\\t\\t\\tГод окончания\\r\\n\\t\\t\\t\\t1993\\r\\n\\t\\t\\tинженер-сварщик,\\xa0специалист\\r\\n\\t\\r\\n\\r\\n\\t\\t\\t',\n",
       " '\\n',\n",
       " datetime.date(2019, 11, 1)]"
      ]
     },
     "execution_count": 39,
     "metadata": {},
     "output_type": "execute_result"
    }
   ],
   "source": [
    "field1=[name,link,city,age,price,brief,exp,edu,lang,scrap_date]\n",
    "field1"
   ]
  },
  {
   "cell_type": "code",
   "execution_count": 41,
   "metadata": {},
   "outputs": [],
   "source": [
    "file_name = \"resumes.xlsx\"\n",
    "wb = load_workbook(file_name)\n",
    "\n",
    "page = wb.active\n",
    "page.append(field1)\n",
    "wb.save(file_name)"
   ]
  }
 ],
 "metadata": {
  "kernelspec": {
   "display_name": "Python 3",
   "language": "python",
   "name": "python3"
  },
  "language_info": {
   "codemirror_mode": {
    "name": "ipython",
    "version": 3
   },
   "file_extension": ".py",
   "mimetype": "text/x-python",
   "name": "python",
   "nbconvert_exporter": "python",
   "pygments_lexer": "ipython3",
   "version": "3.7.3"
  },
  "varInspector": {
   "cols": {
    "lenName": 16,
    "lenType": 16,
    "lenVar": 40
   },
   "kernels_config": {
    "python": {
     "delete_cmd_postfix": "",
     "delete_cmd_prefix": "del ",
     "library": "var_list.py",
     "varRefreshCmd": "print(var_dic_list())"
    },
    "r": {
     "delete_cmd_postfix": ") ",
     "delete_cmd_prefix": "rm(",
     "library": "var_list.r",
     "varRefreshCmd": "cat(var_dic_list()) "
    }
   },
   "types_to_exclude": [
    "module",
    "function",
    "builtin_function_or_method",
    "instance",
    "_Feature"
   ],
   "window_display": false
  }
 },
 "nbformat": 4,
 "nbformat_minor": 2
}

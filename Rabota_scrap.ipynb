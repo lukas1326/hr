{
 "cells": [
  {
   "cell_type": "code",
   "execution_count": 2,
   "metadata": {},
   "outputs": [],
   "source": [
    "from bs4 import BeautifulSoup\n",
    "import requests\n",
    "import urllib.request\n",
    "import time\n",
    "import pandas as pd\n",
    "import re\n",
    "from openpyxl import load_workbook\n",
    "from selenium import webdriver\n",
    "from datetime import date"
   ]
  },
  {
   "cell_type": "code",
   "execution_count": 3,
   "metadata": {
    "scrolled": false
   },
   "outputs": [],
   "source": [
    "def ele():\n",
    "# получение всех ссылок rabota.ua на одной странице\n",
    "    elems = driver.find_elements_by_xpath(\"//a[@href]\")\n",
    "    elems= [elem.get_attribute(\"href\")for elem in elems]\n",
    "    ln_links = [x for x in elems if re.search(r'^https://rabota.ua/cv', x)]\n",
    "    return ln_links"
   ]
  },
  {
   "cell_type": "code",
   "execution_count": 4,
   "metadata": {},
   "outputs": [],
   "source": [
    "# парсим с резюме нужные значения, записываем по-строчно в файл resumes.xlsx \n",
    "def rabotaua(link):\n",
    "    name=None\n",
    "    city=None\n",
    "    age=None\n",
    "    price=None\n",
    "    brief=None\n",
    "    exp=None\n",
    "    edu=None\n",
    "    lang=None\n",
    "    \n",
    "    \n",
    "    response=requests.get(link)\n",
    "    soup=BeautifulSoup(response.text,'html.parser')\n",
    "    name=soup.find('span',id='ctl00_centerZone_BriefResume1_CvView1_cvHeader_lblName').text\n",
    "    \n",
    "    short=soup.find('p',{'class':'rua-p-t_12'}).text.strip().split('\\r\\n')\n",
    "    city=short[0]\n",
    "    regex = re.compile('\\d+')\n",
    "    age=regex.findall(short[1])[0]\n",
    "    try:\n",
    "        regex = re.compile('\\d+')\n",
    "        price=regex.findall(short[2])[0]+regex.findall(short[2])[1]\n",
    "    except:\n",
    "        pass\n",
    "    try:\n",
    "        brief=soup.find('span',id='ctl00_centerZone_BriefResume1_CvView1_Skills_txtSkills').text.replace('Программное обеспечение и сервисы: ','')\n",
    "    except:\n",
    "        pass\n",
    "    exp=soup.find('div',id='ExperienceHolder').text.replace('Опыт работы','').replace('Нет опыта работы','')\n",
    "    edu=soup.find('div',id='EducationHolder').text.replace('Образование','')\n",
    "    lang=soup.find('div',id='LanguagesHolder').text.replace('Владение языками','')\n",
    "    scrap_date=date.today()\n",
    "    field1=[name,link,city,age,\" \",\" \",price,brief,exp,edu,lang,scrap_date]\n",
    "    file_name = \"resumes.xlsx\"\n",
    "    wb = load_workbook(file_name)\n",
    "\n",
    "    page = wb.active\n",
    "    page.append(field1)\n",
    "    wb.save(file_name)\n",
    "    time.sleep(5)\n",
    "    name=None\n",
    "    link=None\n",
    "    city=None\n",
    "    age=None\n",
    "    price=None\n",
    "    brief=None\n",
    "    exp=None\n",
    "    edu=None\n",
    "    lang=None"
   ]
  },
  {
   "cell_type": "code",
   "execution_count": 5,
   "metadata": {},
   "outputs": [],
   "source": [
    "# один раз устанавливаем драйвер https://sites.google.com/a/chromium.org/chromedriver/downloads\n",
    "\n",
    "# загружаем драйвер, открывается новое окно хрома, в этом окне делаем запрос на поиск, с каждой страницы\n",
    "# собираем нужные ссылки, закрываем драйвер\n",
    "\n",
    "driver = webdriver.Chrome('C:\\\\ProgramData\\chromedriver.exe')"
   ]
  },
  {
   "cell_type": "code",
   "execution_count": 6,
   "metadata": {},
   "outputs": [],
   "source": [
    "# google search \n",
    "# start driver (new chrome window)\n",
    "driver.get('https:www.google.com')\n",
    "time.sleep(3)\n",
    "\n",
    "# запрос на поиск \n",
    "search_query = driver.find_element_by_name('q')\n",
    "search_query.send_keys('site:rabota.ua/cv/ AND \"коммерческий директор\" AND \"Украина\" AND \"FMCG\"')\n",
    "time.sleep(0.5)\n",
    "\n",
    "# имитация ввода запроса на поиск\n",
    "search_query.send_keys(u'\\ue007')\n",
    "time.sleep(3)\n",
    "\n",
    "# формируем список ссылок с первых десяти страниц\n",
    "list_link=[]\n",
    "for i in range(10):\n",
    "    list_link.extend(ele())\n",
    "    next_page=driver.find_element_by_xpath(\"//*[contains(local-name(),'span') and contains(text(),'Уперед')]\")\n",
    "    next_page.click()\n",
    "    time.sleep(5)\n",
    "driver.quit()"
   ]
  },
  {
   "cell_type": "code",
   "execution_count": 7,
   "metadata": {},
   "outputs": [
    {
     "data": {
      "text/plain": [
       "['https://rabota.ua/cv/6687243',\n",
       " 'https://rabota.ua/cv/5871428',\n",
       " 'https://rabota.ua/cv/11213338',\n",
       " 'https://rabota.ua/cv/9210147',\n",
       " 'https://rabota.ua/cv/13672355',\n",
       " 'https://rabota.ua/cv/11475454',\n",
       " 'https://rabota.ua/cv/12024097',\n",
       " 'https://rabota.ua/cv/5769251',\n",
       " 'https://rabota.ua/cv/12983533',\n",
       " 'https://rabota.ua/cv/10372671',\n",
       " 'https://rabota.ua/cv/3366909',\n",
       " 'https://rabota.ua/cv/4546874',\n",
       " 'https://rabota.ua/cv/9514211',\n",
       " 'https://rabota.ua/cv/13174285',\n",
       " 'https://rabota.ua/cv/12397708',\n",
       " 'https://rabota.ua/cv/4760938',\n",
       " 'https://rabota.ua/cv/13856362',\n",
       " 'https://rabota.ua/cv/8275403',\n",
       " 'https://rabota.ua/cv/6510369',\n",
       " 'https://rabota.ua/cv/4637418',\n",
       " 'https://rabota.ua/cv/8165831',\n",
       " 'https://rabota.ua/cv/7223610',\n",
       " 'https://rabota.ua/cv/13488121',\n",
       " 'https://rabota.ua/cv/6240017',\n",
       " 'https://rabota.ua/cv/11926446',\n",
       " 'https://rabota.ua/cv/8220189',\n",
       " 'https://rabota.ua/cv/6415800',\n",
       " 'https://rabota.ua/cv/5150430',\n",
       " 'https://rabota.ua/cv/2901080',\n",
       " 'https://rabota.ua/cv/7913258',\n",
       " 'https://rabota.ua/cv/12998848',\n",
       " 'https://rabota.ua/cv/6971625',\n",
       " 'https://rabota.ua/cv/7501566',\n",
       " 'https://rabota.ua/cv/7587333',\n",
       " 'https://rabota.ua/cv/3244418',\n",
       " 'https://rabota.ua/cv/6486194',\n",
       " 'https://rabota.ua/cv/7617323',\n",
       " 'https://rabota.ua/cv/8166398',\n",
       " 'https://rabota.ua/cv/3953230',\n",
       " 'https://rabota.ua/cv/6316501',\n",
       " 'https://rabota.ua/cv/6881204',\n",
       " 'https://rabota.ua/cv/6017984',\n",
       " 'https://rabota.ua/cv/7513163',\n",
       " 'https://rabota.ua/cv/12003613',\n",
       " 'https://rabota.ua/cv/6558205',\n",
       " 'https://rabota.ua/cv/13317005',\n",
       " 'https://rabota.ua/cv/5651016',\n",
       " 'https://rabota.ua/cv/10901172',\n",
       " 'https://rabota.ua/cv/6087481',\n",
       " 'https://rabota.ua/cv/7211947',\n",
       " 'https://rabota.ua/cv/5053850',\n",
       " 'https://rabota.ua/cv/6116487',\n",
       " 'https://rabota.ua/cv/9395624',\n",
       " 'https://rabota.ua/cv/9013065',\n",
       " 'https://rabota.ua/cv/10107677',\n",
       " 'https://rabota.ua/cv/5038255',\n",
       " 'https://rabota.ua/cv/8012604',\n",
       " 'https://rabota.ua/cv/7823900',\n",
       " 'https://rabota.ua/cv/7140503',\n",
       " 'https://rabota.ua/cv/8091063',\n",
       " 'https://rabota.ua/cv/10103573',\n",
       " 'https://rabota.ua/cv/7040555',\n",
       " 'https://rabota.ua/cv/5817722',\n",
       " 'https://rabota.ua/cv/9146998',\n",
       " 'https://rabota.ua/cv/6874369',\n",
       " 'https://rabota.ua/cv/6333843',\n",
       " 'https://rabota.ua/cv/8182203',\n",
       " 'https://rabota.ua/cv/3947699',\n",
       " 'https://rabota.ua/cv/7292035',\n",
       " 'https://rabota.ua/cv/8099458',\n",
       " 'https://rabota.ua/cv/7089322',\n",
       " 'https://rabota.ua/cv/12934047',\n",
       " 'https://rabota.ua/cv/7682021',\n",
       " 'https://rabota.ua/cv/6594598',\n",
       " 'https://rabota.ua/cv/4919076',\n",
       " 'https://rabota.ua/cv/5267600',\n",
       " 'https://rabota.ua/cv/6544783',\n",
       " 'https://rabota.ua/cv/12622251',\n",
       " 'https://rabota.ua/cv/6170847',\n",
       " 'https://rabota.ua/cv/5074534',\n",
       " 'https://rabota.ua/cv/7552004',\n",
       " 'https://rabota.ua/cv/9160299',\n",
       " 'https://rabota.ua/cv/13367133',\n",
       " 'https://rabota.ua/cv/3025082',\n",
       " 'https://rabota.ua/cv/6871142',\n",
       " 'https://rabota.ua/cv/11256287',\n",
       " 'https://rabota.ua/cv/3837927',\n",
       " 'https://rabota.ua/cv/9180222',\n",
       " 'https://rabota.ua/cv/9105056',\n",
       " 'https://rabota.ua/cv/10371693',\n",
       " 'https://rabota.ua/cv/7624428',\n",
       " 'https://rabota.ua/cv/10102187',\n",
       " 'https://rabota.ua/cv/4979722',\n",
       " 'https://rabota.ua/cv/7835879',\n",
       " 'https://rabota.ua/cv/14281236',\n",
       " 'https://rabota.ua/cv/2695324']"
      ]
     },
     "execution_count": 7,
     "metadata": {},
     "output_type": "execute_result"
    }
   ],
   "source": [
    "list_link"
   ]
  },
  {
   "cell_type": "code",
   "execution_count": 7,
   "metadata": {},
   "outputs": [],
   "source": [
    "# все полученные ссылки исполняем функцией rabotaua(link)\n",
    "link_drop=[]\n",
    "for link in list_link:\n",
    "    try:\n",
    "        rabotaua(link)\n",
    "        time.sleep(10)\n",
    "    except:\n",
    "        link_drop.append(link)\n",
    "        pass"
   ]
  },
  {
   "cell_type": "code",
   "execution_count": 8,
   "metadata": {},
   "outputs": [
    {
     "data": {
      "text/plain": [
       "['https://rabota.ua/cv/7089322',\n",
       " 'https://rabota.ua/cv/4919076',\n",
       " 'https://rabota.ua/cv/4408069']"
      ]
     },
     "execution_count": 8,
     "metadata": {},
     "output_type": "execute_result"
    }
   ],
   "source": [
    "# ссылки, которые не сработали\n",
    "link_drop"
   ]
  },
  {
   "cell_type": "code",
   "execution_count": 1,
   "metadata": {},
   "outputs": [],
   "source": [
    "%run work_history.ipynb"
   ]
  },
  {
   "cell_type": "code",
   "execution_count": 11,
   "metadata": {},
   "outputs": [],
   "source": [
    "link_drop=[]\n",
    "df1=pd.DataFrame(columns=['link_1', 'предприятие', 'должность', 'период', 'отрасль', 'duration'])\n",
    "for link in list_link:\n",
    "    try:\n",
    "        df=duration(link)\n",
    "        df1=pd.concat([df,df1])\n",
    "        time.sleep(3)\n",
    "    except:\n",
    "        link_drop.append(link)\n",
    "        pass"
   ]
  },
  {
   "cell_type": "code",
   "execution_count": 13,
   "metadata": {},
   "outputs": [],
   "source": [
    "df1.to_csv('work_hist.csv')"
   ]
  },
  {
   "cell_type": "code",
   "execution_count": 23,
   "metadata": {},
   "outputs": [
    {
     "data": {
      "text/plain": [
       "['https://rabota.ua/cv/9718754']"
      ]
     },
     "execution_count": 23,
     "metadata": {},
     "output_type": "execute_result"
    }
   ],
   "source": [
    "link_drop"
   ]
  },
  {
   "cell_type": "markdown",
   "metadata": {},
   "source": [
    "## Дальше - необязательный код. Не нужно запускать.\n",
    "### Только для проверки работы функции rabotaua(link)."
   ]
  },
  {
   "cell_type": "code",
   "execution_count": 25,
   "metadata": {},
   "outputs": [],
   "source": [
    "name=None\n",
    "city=None\n",
    "age=None\n",
    "price=None\n",
    "brief=None\n",
    "exp=None\n",
    "edu=None\n",
    "lang=None"
   ]
  },
  {
   "cell_type": "code",
   "execution_count": 26,
   "metadata": {},
   "outputs": [
    {
     "data": {
      "text/plain": [
       "<Response [200]>"
      ]
     },
     "execution_count": 26,
     "metadata": {},
     "output_type": "execute_result"
    }
   ],
   "source": [
    "response=requests.get(link)\n",
    "response"
   ]
  },
  {
   "cell_type": "code",
   "execution_count": 27,
   "metadata": {},
   "outputs": [],
   "source": [
    "soup=BeautifulSoup(response.text,'html.parser')"
   ]
  },
  {
   "cell_type": "code",
   "execution_count": 28,
   "metadata": {},
   "outputs": [
    {
     "data": {
      "text/plain": [
       "'Владимир'"
      ]
     },
     "execution_count": 28,
     "metadata": {},
     "output_type": "execute_result"
    }
   ],
   "source": [
    "name=soup.find('span',id='ctl00_centerZone_BriefResume1_CvView1_cvHeader_lblName').text\n",
    "#ctl00_centerZone_BriefResume1_CvView1_cvHeader_lblName\n",
    "name\n"
   ]
  },
  {
   "cell_type": "code",
   "execution_count": 29,
   "metadata": {},
   "outputs": [
    {
     "data": {
      "text/plain": [
       "'Киев'"
      ]
     },
     "execution_count": 29,
     "metadata": {},
     "output_type": "execute_result"
    }
   ],
   "source": [
    "short=soup.find('p',{'class':'rua-p-t_12'}).text.strip().split('\\r\\n')\n",
    "city=short[0]\n",
    "city"
   ]
  },
  {
   "cell_type": "code",
   "execution_count": 30,
   "metadata": {},
   "outputs": [
    {
     "data": {
      "text/plain": [
       "'52'"
      ]
     },
     "execution_count": 30,
     "metadata": {},
     "output_type": "execute_result"
    }
   ],
   "source": [
    "regex = re.compile('\\d+')\n",
    "age=regex.findall(short[1])[0]\n",
    "age"
   ]
  },
  {
   "cell_type": "code",
   "execution_count": 33,
   "metadata": {},
   "outputs": [],
   "source": [
    "try:\n",
    "    regex = re.compile('\\d+')\n",
    "    price=regex.findall(short[2])[0]+regex.findall(short[2])[1]\n",
    "except:\n",
    "    pass"
   ]
  },
  {
   "cell_type": "code",
   "execution_count": 34,
   "metadata": {},
   "outputs": [
    {
     "data": {
      "text/plain": [
       "'Владею навыками:организации и управления продажами продукции FMCG на территории Украины;стратегического планирования, создания структуры, бизнес-процессов и полного управления продажами и\\xa0торговым предприятием;административно-хозяйственного управления предприятием;работы с дистрибьюторами и\\xa0собственными торговыми командами;работы со скоропортом и продукцией, требующей специальных условий хранения.\\xa0\\xa0Достижения:2014-2016 - предприятие вошло в\\xa0тройку лидеров производителей кондитерской продукции Украины (была шестая позиция);2010-2014 - организовал продажи\\xa0абсолютно нового продукта, который\\xa0принёс прибыль, превышающую прибыль от основного продукта\\xa0предприятия;2005-2007 - организовал дистрибьюцию\\xa0продукта с 0, что позволило предприятию стать лидером национального рынка.\\xa0'"
      ]
     },
     "execution_count": 34,
     "metadata": {},
     "output_type": "execute_result"
    }
   ],
   "source": [
    "brief=soup.find('span',id='ctl00_centerZone_BriefResume1_CvView1_Skills_txtSkills').text.replace('Программное обеспечение и сервисы: ','')\n",
    "brief\n",
    "#ctl00_centerZone_BriefResume1_CvView1_Skills_txtSkills"
   ]
  },
  {
   "cell_type": "code",
   "execution_count": 35,
   "metadata": {},
   "outputs": [
    {
     "data": {
      "text/plain": [
       "'\\r\\nКоммерческий директорсен 2018 - настоящее время (1 год 3 мес)ООО \"Житомирский молочный завод\"FMCG\\r\\n\\t\\t\\t\\tУправляю коммерческой службой - закупки, продажи, логистика.Директор по продажамокт 2014 - настоящее время (5 лет 2 мес)ОДО \"ЖЛ\", ТМ \"Житомирские ласощи\"(http://sladosti.com.ua)\\r\\n\\t\\t\\t\\tболее 500 сотрудников\\r\\n\\t\\t\\t\\t\\tFMCG\\r\\n\\t\\t\\t\\tУправляю продажами компании на территории Украины: - участвую в стратегическом планировании развития компании; - разрабатываю стратегию развития продаж в Украине; - разрабатываю планы продаж в Украине, контролирую выполнение; - разрабатываю торговые условия компани;  - руковожу торговым персоналом компании; - управляю дебиторской задолженностью;  - разрабатываю и управляю мероприятиями продвижения продукции;  - участвую в разработке новых видов продукции; - отчитываюсь перед инвесторами по финансовым результатам.\\r\\n\\t\\t\\t\\r\\n\\t\\t\\r\\n\\t\\t\\tДиректор компании. Директор департамента дистрибьюции группы компанийиюл 2010 - июн 2014 (4 года)Укрпродуктгрупп (Национальный производитель молочной продукции ТМ \"Наш молочник\", \"Молендам\", \"Народный продукт\"; живого кваса \"Арсеньевский\")FMCG\\r\\n\\t\\t\\t\\t  Управляю продажами на территории Украины.Управляю финансово-хозяйственной деятельностью предприятия.Принимаю участие в стратегическом планировании продаж компании.Планирую бюджет предприятия, контролирую его исполнение.Принимаю участие в планировании и реализации маркетинговых мероприятий.Несу ответственность и отчитываюсь за показатели перед советом директоров, собственниками компании.Коммерческий директор управляющей компанииокт 2008 - июн 2010 (1 год 9 мес)Группа компаний УПАК, прект Dragon Capital (Производстао и продажи мяса птицы, комбикормов, зерновых)FMCG\\r\\n\\t\\t\\t\\t  Управлял коммерческой службой группы предприятий - маркетингом, продажами, закупками и логистикой. Отчитывался перед наблюдательным советом за финансово-экономические показатели. Достижения: рестркутуризировал коммерческую службу, согласно требованиям рынка и желаниям собственников, что привело к увеличению прибыльности компании.Национальный менеджер по продажамиюл 2005 - окт 2008 (3 года 4 мес)ОАО \"Житомирский маслозавод\", ТМ \"Рудь\" (Производство и продажи мороженного, маслопродукции, кисломолочной продукции)от 20 до 50 сотрудников\\r\\n\\t\\t\\t\\t\\tFMCG\\r\\n\\t\\t\\t\\t  Управлял продажами продукции компании на территории Украины.Управлял персоналом отдела продаж компании. Разрабатывал и реализовал программы, направленные на увеличение продаж, доли рынка, доходности компании.Участвовал в разработке и реализации маркетинговых программ компании.Участвовал и контролировал переговорный и договорной процессы с партнерами.Отчитывался перед советом директоров за выполнение поставленных задач. Достижения: выведение на национальный рынок масопродукции компании. Создание структуры собственных активных продаж кисломолочной продукции, что привело существенному увеличению доли продаж. Выведение на рынок новых видов продукции.Начальник отдела продажиюл 1998 - июл 2005 (7 лет 1 мес)ООО \"САВсервис\" (Дистрибьюция продукции компании \"Procter & Gamble\")от 20 до 50 сотрудников\\r\\n\\t\\t\\t\\t\\tFMCG\\r\\n\\t\\t\\t\\t  Управлял продажами продукции компании \"Procter & Gamble\" и других производителей на территории Житомирской области.Побирал, адаптировал и обучал персонал отдела продаж.Реализовал маркетинговые мероприятия компании.Отчитывался перед руководством головной компании за выполнение показателей. Достижения: ни одного уволенного сотрудника отдела продаж, ни одного случая воровства. Награды за выполнение показателей от компании \"Procter & Gamble\".'"
      ]
     },
     "execution_count": 35,
     "metadata": {},
     "output_type": "execute_result"
    }
   ],
   "source": [
    "exp=soup.find('div',id='ExperienceHolder').text.replace('Опыт работы','').replace('Нет опыта работы','')\n",
    "exp"
   ]
  },
  {
   "cell_type": "code",
   "execution_count": 36,
   "metadata": {},
   "outputs": [
    {
     "data": {
      "text/plain": [
       "'Киевский индустриально-педагогический колледж, Технология сварочного производства, Киев.(г.Киев, Украина)\\r\\n\\t\\t\\tГод окончания\\r\\n\\t\\t\\t\\t1993\\r\\n\\t\\t\\tинженер-сварщик,\\xa0специалист\\r\\n\\t\\r\\n\\r\\n\\t\\t\\t'"
      ]
     },
     "execution_count": 36,
     "metadata": {},
     "output_type": "execute_result"
    }
   ],
   "source": [
    "edu=soup.find('div',id='EducationHolder').text.replace('Образование','')\n",
    "edu"
   ]
  },
  {
   "cell_type": "code",
   "execution_count": 37,
   "metadata": {},
   "outputs": [
    {
     "data": {
      "text/plain": [
       "'\\n'"
      ]
     },
     "execution_count": 37,
     "metadata": {},
     "output_type": "execute_result"
    }
   ],
   "source": [
    "lang=soup.find('div',id='LanguagesHolder').text.replace('Владение языками','')\n",
    "lang"
   ]
  },
  {
   "cell_type": "code",
   "execution_count": 38,
   "metadata": {},
   "outputs": [
    {
     "data": {
      "text/plain": [
       "datetime.date(2019, 11, 1)"
      ]
     },
     "execution_count": 38,
     "metadata": {},
     "output_type": "execute_result"
    }
   ],
   "source": [
    "scrap_date=date.today()\n",
    "scrap_date"
   ]
  },
  {
   "cell_type": "code",
   "execution_count": 39,
   "metadata": {},
   "outputs": [
    {
     "data": {
      "text/plain": [
       "['Владимир',\n",
       " 'https://rabota.ua/cv/5871428',\n",
       " 'Киев',\n",
       " '52',\n",
       " None,\n",
       " 'Владею навыками:организации и управления продажами продукции FMCG на территории Украины;стратегического планирования, создания структуры, бизнес-процессов и полного управления продажами и\\xa0торговым предприятием;административно-хозяйственного управления предприятием;работы с дистрибьюторами и\\xa0собственными торговыми командами;работы со скоропортом и продукцией, требующей специальных условий хранения.\\xa0\\xa0Достижения:2014-2016 - предприятие вошло в\\xa0тройку лидеров производителей кондитерской продукции Украины (была шестая позиция);2010-2014 - организовал продажи\\xa0абсолютно нового продукта, который\\xa0принёс прибыль, превышающую прибыль от основного продукта\\xa0предприятия;2005-2007 - организовал дистрибьюцию\\xa0продукта с 0, что позволило предприятию стать лидером национального рынка.\\xa0',\n",
       " '\\r\\nКоммерческий директорсен 2018 - настоящее время (1 год 3 мес)ООО \"Житомирский молочный завод\"FMCG\\r\\n\\t\\t\\t\\tУправляю коммерческой службой - закупки, продажи, логистика.Директор по продажамокт 2014 - настоящее время (5 лет 2 мес)ОДО \"ЖЛ\", ТМ \"Житомирские ласощи\"(http://sladosti.com.ua)\\r\\n\\t\\t\\t\\tболее 500 сотрудников\\r\\n\\t\\t\\t\\t\\tFMCG\\r\\n\\t\\t\\t\\tУправляю продажами компании на территории Украины: - участвую в стратегическом планировании развития компании; - разрабатываю стратегию развития продаж в Украине; - разрабатываю планы продаж в Украине, контролирую выполнение; - разрабатываю торговые условия компани;  - руковожу торговым персоналом компании; - управляю дебиторской задолженностью;  - разрабатываю и управляю мероприятиями продвижения продукции;  - участвую в разработке новых видов продукции; - отчитываюсь перед инвесторами по финансовым результатам.\\r\\n\\t\\t\\t\\r\\n\\t\\t\\r\\n\\t\\t\\tДиректор компании. Директор департамента дистрибьюции группы компанийиюл 2010 - июн 2014 (4 года)Укрпродуктгрупп (Национальный производитель молочной продукции ТМ \"Наш молочник\", \"Молендам\", \"Народный продукт\"; живого кваса \"Арсеньевский\")FMCG\\r\\n\\t\\t\\t\\t  Управляю продажами на территории Украины.Управляю финансово-хозяйственной деятельностью предприятия.Принимаю участие в стратегическом планировании продаж компании.Планирую бюджет предприятия, контролирую его исполнение.Принимаю участие в планировании и реализации маркетинговых мероприятий.Несу ответственность и отчитываюсь за показатели перед советом директоров, собственниками компании.Коммерческий директор управляющей компанииокт 2008 - июн 2010 (1 год 9 мес)Группа компаний УПАК, прект Dragon Capital (Производстао и продажи мяса птицы, комбикормов, зерновых)FMCG\\r\\n\\t\\t\\t\\t  Управлял коммерческой службой группы предприятий - маркетингом, продажами, закупками и логистикой. Отчитывался перед наблюдательным советом за финансово-экономические показатели. Достижения: рестркутуризировал коммерческую службу, согласно требованиям рынка и желаниям собственников, что привело к увеличению прибыльности компании.Национальный менеджер по продажамиюл 2005 - окт 2008 (3 года 4 мес)ОАО \"Житомирский маслозавод\", ТМ \"Рудь\" (Производство и продажи мороженного, маслопродукции, кисломолочной продукции)от 20 до 50 сотрудников\\r\\n\\t\\t\\t\\t\\tFMCG\\r\\n\\t\\t\\t\\t  Управлял продажами продукции компании на территории Украины.Управлял персоналом отдела продаж компании. Разрабатывал и реализовал программы, направленные на увеличение продаж, доли рынка, доходности компании.Участвовал в разработке и реализации маркетинговых программ компании.Участвовал и контролировал переговорный и договорной процессы с партнерами.Отчитывался перед советом директоров за выполнение поставленных задач. Достижения: выведение на национальный рынок масопродукции компании. Создание структуры собственных активных продаж кисломолочной продукции, что привело существенному увеличению доли продаж. Выведение на рынок новых видов продукции.Начальник отдела продажиюл 1998 - июл 2005 (7 лет 1 мес)ООО \"САВсервис\" (Дистрибьюция продукции компании \"Procter & Gamble\")от 20 до 50 сотрудников\\r\\n\\t\\t\\t\\t\\tFMCG\\r\\n\\t\\t\\t\\t  Управлял продажами продукции компании \"Procter & Gamble\" и других производителей на территории Житомирской области.Побирал, адаптировал и обучал персонал отдела продаж.Реализовал маркетинговые мероприятия компании.Отчитывался перед руководством головной компании за выполнение показателей. Достижения: ни одного уволенного сотрудника отдела продаж, ни одного случая воровства. Награды за выполнение показателей от компании \"Procter & Gamble\".',\n",
       " 'Киевский индустриально-педагогический колледж, Технология сварочного производства, Киев.(г.Киев, Украина)\\r\\n\\t\\t\\tГод окончания\\r\\n\\t\\t\\t\\t1993\\r\\n\\t\\t\\tинженер-сварщик,\\xa0специалист\\r\\n\\t\\r\\n\\r\\n\\t\\t\\t',\n",
       " '\\n',\n",
       " datetime.date(2019, 11, 1)]"
      ]
     },
     "execution_count": 39,
     "metadata": {},
     "output_type": "execute_result"
    }
   ],
   "source": [
    "field1=[name,link,city,age,price,brief,exp,edu,lang,scrap_date]\n",
    "field1"
   ]
  },
  {
   "cell_type": "code",
   "execution_count": 41,
   "metadata": {},
   "outputs": [],
   "source": [
    "file_name = \"resumes.xlsx\"\n",
    "wb = load_workbook(file_name)\n",
    "\n",
    "page = wb.active\n",
    "page.append(field1)\n",
    "wb.save(file_name)"
   ]
  }
 ],
 "metadata": {
  "kernelspec": {
   "display_name": "Python 3",
   "language": "python",
   "name": "python3"
  },
  "language_info": {
   "codemirror_mode": {
    "name": "ipython",
    "version": 3
   },
   "file_extension": ".py",
   "mimetype": "text/x-python",
   "name": "python",
   "nbconvert_exporter": "python",
   "pygments_lexer": "ipython3",
   "version": "3.7.3"
  },
  "varInspector": {
   "cols": {
    "lenName": 16,
    "lenType": 16,
    "lenVar": 40
   },
   "kernels_config": {
    "python": {
     "delete_cmd_postfix": "",
     "delete_cmd_prefix": "del ",
     "library": "var_list.py",
     "varRefreshCmd": "print(var_dic_list())"
    },
    "r": {
     "delete_cmd_postfix": ") ",
     "delete_cmd_prefix": "rm(",
     "library": "var_list.r",
     "varRefreshCmd": "cat(var_dic_list()) "
    }
   },
   "types_to_exclude": [
    "module",
    "function",
    "builtin_function_or_method",
    "instance",
    "_Feature"
   ],
   "window_display": false
  }
 },
 "nbformat": 4,
 "nbformat_minor": 2
}

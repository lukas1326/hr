{
 "cells": [
  {
   "cell_type": "code",
   "execution_count": 6,
   "metadata": {
    "pycharm": {
     "is_executing": false
    }
   },
   "outputs": [],
   "source": [
    "from bs4 import BeautifulSoup\n",
    "import requests\n",
    "import urllib.request\n",
    "import time\n",
    "from selenium import webdriver\n",
    "from datetime import date\n",
    "import re\n",
    "import numpy as np\n",
    "import pandas as pd\n",
    "import warnings\n",
    "warnings.filterwarnings('ignore') # полезно чтобы избежать ругательства при создании нового поля таблицы(почемуто все-время ругня)"
   ]
  },
  {
   "cell_type": "code",
   "execution_count": 7,
   "metadata": {
    "pycharm": {
     "is_executing": false
    }
   },
   "outputs": [],
   "source": [
    "# у нас должны быть файлы со списками исключений тех ссылок, которые уже просмотрены\n",
    "# function returns list of links \n",
    "def open_seen(file):\n",
    "    with open(file,'r') as f:\n",
    "        content=f.read()\n",
    "        seen=eval(content)\n",
    "    return seen"
   ]
  },
  {
   "cell_type": "code",
   "execution_count": 8,
   "metadata": {
    "pycharm": {
     "is_executing": false
    }
   },
   "outputs": [],
   "source": [
    "# если нужно записать файл из листа ссылок\n",
    "def write_seen(file,list_links):\n",
    "    with open(file, 'w') as f:\n",
    "        print(list_links, file=f)"
   ]
  },
  {
   "cell_type": "code",
   "execution_count": 9,
   "metadata": {
    "pycharm": {
     "is_executing": false
    }
   },
   "outputs": [],
   "source": [
    "# в гугле собирает ссылки по запросу,работает только по заданному количеству листов\n",
    "def google_q (query,n_pages):\n",
    "    # query example:'site:rabota.ua/cv/ AND \"коммерческий директор\" AND \"Украина\" AND \"FMCG\"'\n",
    "    # один раз устанавливаем драйвер https://sites.google.com/a/chromium.org/chromedriver/downloads\n",
    "\n",
    "    # загружаем драйвер, открывается новое окно хрома, в этом окне делаем запрос на поиск, с каждой страницы\n",
    "    # собираем нужные ссылки, закрываем драйвер\n",
    "\n",
    "    \n",
    "    # google search \n",
    "    # start driver (new chrome window)\n",
    "    driver = webdriver.Chrome('C:\\\\ProgramData\\chromedriver.exe')\n",
    "    driver.get('https:www.google.com')\n",
    "    time.sleep(3)\n",
    "\n",
    "    # запрос на поиск \n",
    "    search_query = driver.find_element_by_name('q')\n",
    "    search_query.send_keys(query)\n",
    "    time.sleep(0.5)\n",
    "\n",
    "    # имитация ввода запроса на поиск\n",
    "    search_query.send_keys(u'\\ue007')\n",
    "    time.sleep(3)\n",
    "\n",
    "    # формируем список ссылок с первых десяти страниц\n",
    "    list_link=[]\n",
    "    for i in range(n_pages):\n",
    "        list_link.extend(ele(driver))\n",
    "        next_page=driver.find_element_by_xpath(\"//*[contains(local-name(),'span') and contains(text(),'Уперед')]\")\n",
    "        next_page.click()\n",
    "        time.sleep(5)\n",
    "    driver.quit()\n",
    "    return list_link"
   ]
  },
  {
   "cell_type": "code",
   "execution_count": 10,
   "metadata": {
    "pycharm": {
     "is_executing": false
    }
   },
   "outputs": [],
   "source": [
    "# вспомагательная для google_q только для ссылок с паттерном \n",
    "def ele(driver):\n",
    "# получение всех ссылок rabota.ua на одной странице\n",
    "    elems = driver.find_elements_by_xpath(\"//a[@href]\")\n",
    "    elems= [elem.get_attribute(\"href\")for elem in elems]\n",
    "    ln_links = [x for x in elems if re.search(r'^https://rabota.ua/cv', x)]\n",
    "    return ln_links"
   ]
  },
  {
   "cell_type": "code",
   "execution_count": 11,
   "metadata": {
    "pycharm": {
     "is_executing": false
    }
   },
   "outputs": [],
   "source": [
    "# вспомагательная для получения супа, один раз получаем, потом из него вынимаем то, что нужно\n",
    "def get_soup(link):\n",
    "    response=requests.get(link)\n",
    "    soup=BeautifulSoup(response.text,'html.parser')\n",
    "    return soup"
   ]
  },
  {
   "cell_type": "code",
   "execution_count": 12,
   "metadata": {
    "pycharm": {
     "is_executing": false
    }
   },
   "outputs": [],
   "source": [
    "# вынимаем из супа только единичные значения для одной ссылки и формируем таблицу\n",
    "def soup_potato(link,soup):\n",
    "    price=None\n",
    "    brief=None\n",
    "    age=None\n",
    "    city=None\n",
    "    exp=None\n",
    "    edu=None\n",
    "    lang=None\n",
    "          \n",
    "    \n",
    "    \n",
    "    refresh_year=soup.find('span',{'class':'muted'}).text\n",
    "    update_year=re.findall('\\d+',refresh_year)[1]\n",
    "    \n",
    "    name=soup.find('span',id='ctl00_centerZone_BriefResume1_CvView1_cvHeader_lblName').text\n",
    "    \n",
    "    short=soup.find('p',{'class':'rua-p-t_12'}).text.strip().split('\\r\\n')\n",
    "    city=short[0]\n",
    "    \n",
    "    regex = re.compile('\\d+')\n",
    "    age=regex.findall(short[1])[0]\n",
    "    \n",
    "    try:\n",
    "        regex = re.compile('\\d+')\n",
    "        price=regex.findall(short[2])[0]+regex.findall(short[2])[1]\n",
    "    except:\n",
    "        pass\n",
    "    try:\n",
    "        brief=soup.find('span',id='ctl00_centerZone_BriefResume1_CvView1_Skills_txtSkills').text.replace('Программное обеспечение и сервисы: ','')\n",
    "    except:\n",
    "        pass\n",
    "    exp=soup.find('div',id='ExperienceHolder').text.replace('Опыт работы','').replace('Нет опыта работы','')\n",
    "    edu=soup.find('div',id='EducationHolder').text.replace('Образование','')\n",
    "    lang=soup.find('div',id='LanguagesHolder').text.replace('Владение языками','')\n",
    "    scrap_date=date.today()\n",
    "    field1={'name':name,'link':link,'update_year':update_year,'city':city,'age':age,'price':price,'brief':brief,'exp':exp,'edu':edu,'lang':lang,'scrap_date':scrap_date}\n",
    "    df=pd.DataFrame([field1])\n",
    "    \n",
    "    return df"
   ]
  },
  {
   "cell_type": "code",
   "execution_count": 13,
   "metadata": {
    "pycharm": {
     "is_executing": false
    }
   },
   "outputs": [],
   "source": [
    "# вынимаем из супа множественные значения из каждой ссылки, например, история работы\n",
    "def soup_detail(link,soup):\n",
    "    gde=[]\n",
    "    kogda=[]\n",
    "    b1=soup.find('div',id='ExperienceHolder').find_all('b')\n",
    "    m=soup.find('div',id='ExperienceHolder').find_all('em')\n",
    "    for i in b1:\n",
    "        gde.append(i.text.strip())\n",
    "    for k in m:\n",
    "        kogda.append(k.text.strip())\n",
    "    \n",
    "    # если слово выделено, то оно попадает в gde, там образуется шлак\n",
    "    # попыталась сделать ручные исключения\n",
    "    # работает плохо, но как попытка\n",
    "    \n",
    "    gde=[x for x in gde if \"Достиж\" not in x]\n",
    "    gde=[x for x in gde if \"Рекоменд\" not in x]\n",
    "    gde=[x for x in gde if \"улучш\" not in x]\n",
    "    gde=[x for x in gde if \"Результ\" not in x]\n",
    "    gde=[x for x in gde if \"Обязанн\" not in x]\n",
    "    gde=[x for x in gde if \"достиж\" not in x]\n",
    "    gde=gde[:min(len(gde),len(kogda))] # привожу два листа к одной размерности\n",
    "    \n",
    "    kogda=kogda[:min(len(gde),len(kogda))]# привожу два листа к одной размерности\n",
    "    d = {'должность':gde,'период':kogda} # создаю словать и dataframe\n",
    "    uh=pd.DataFrame(d)\n",
    "    \n",
    "    uh['предприятие']=uh['должность'].shift(-1)# копирую и поднимаю столбец, чтобы сделать строки\n",
    "    uh['отрасль']=uh['период'].shift(-1)# копирую и поднимаю столбец, чтобы сделать строки\n",
    "    \n",
    "    \n",
    "    \n",
    "    uhh=uh.iloc[::2, :] # беру каждую вторую строку\n",
    "    \n",
    "    # извлекаю из строчного периода цифровой год и месяц в duration\n",
    "    regex=re.compile('(\\(\\d+.лет|\\(\\d+.год)')\n",
    "    uhh['год']=uhh['период'].str.extract(regex)\n",
    "    uhh['год']=uhh['год'].str.extract(r'(\\d+)').fillna(0)\n",
    "    uhh['мес']=uhh['период'].str.extract('(\\d+).мес').fillna(0)\n",
    "    uhh['мес1']=uhh['мес'].astype(int)/12\n",
    "    uhh['duration']=uhh['год'].astype(int)+uhh['мес1'].round(2)\n",
    "    \n",
    "    #формирую таблицу\n",
    "    uhh['link']=link\n",
    "    uhh=uhh[['link','предприятие','должность','период','отрасль','duration']].reset_index(drop=True)\n",
    "    return uhh"
   ]
  },
  {
   "cell_type": "code",
   "execution_count": 14,
   "metadata": {
    "pycharm": {
     "is_executing": false
    }
   },
   "outputs": [],
   "source": [
    "# перемешиваем все данные по всем ссылкам в одну таблицу\n",
    "def soup_stir(links):\n",
    "    ddf2=pd.DataFrame(columns=['link', 'предприятие', 'должность', 'период', 'отрасль', 'duration',\n",
    "       'age', 'brief', 'city', 'edu', 'exp', 'lang', 'name', 'price',\n",
    "       'scrap_date', 'update_year'])\n",
    "    for i in links:\n",
    "        soup=get_soup(i)\n",
    "        df1= soup_potato(i,soup)\n",
    "        df2=soup_detail(i,soup)\n",
    "        ddf1=df1.merge(df2)\n",
    "        df_s1=pd.concat([ddf2,ddf1])\n",
    "        ddf2=df_s1.copy()\n",
    "    return df_s1"
   ]
  },
  {
   "cell_type": "code",
   "execution_count": 15,
   "metadata": {
    "pycharm": {
     "is_executing": false
    }
   },
   "outputs": [],
   "source": [
    "# делаем красивый консолидированный пивот\n",
    "def pivot_from_soup_stir(d):\n",
    "    d=d.fillna(' ')\n",
    "    d1=d.reset_index()\n",
    "    d2=d1.pivot_table(index=['link','name','age','brief','update_year','предприятие','должность','отрасль','index'],values='duration')\n",
    "    d3=d2.sort_index(level=['link','index'])\n",
    "    return d3"
   ]
  },
  {
   "cell_type": "code",
   "execution_count": 16,
   "metadata": {
    "pycharm": {
     "is_executing": false
    }
   },
   "outputs": [],
   "source": [
    "all_seen=open_seen('links_seen/all_seen_till_061219.txt')"
   ]
  },
  {
   "cell_type": "code",
   "execution_count": 17,
   "metadata": {
    "pycharm": {
     "is_executing": false
    }
   },
   "outputs": [
    {
     "data": {
      "text/plain": "169"
     },
     "metadata": {},
     "output_type": "execute_result",
     "execution_count": 17
    }
   ],
   "source": [
    "len(all_seen)"
   ]
  },
  {
   "cell_type": "code",
   "execution_count": 18,
   "metadata": {
    "pycharm": {
     "is_executing": false
    }
   },
   "outputs": [],
   "source": [
    "rabota_CCO=google_q('site:rabota.ua/cv/ AND \"коммерческий директор\" AND \"Украина\" AND \"FMCG\"',2)"
   ]
  },
  {
   "cell_type": "code",
   "execution_count": 19,
   "metadata": {
    "pycharm": {
     "is_executing": false
    }
   },
   "outputs": [
    {
     "data": {
      "text/plain": "20"
     },
     "metadata": {},
     "output_type": "execute_result",
     "execution_count": 19
    }
   ],
   "source": [
    "len(rabota_CCO) #количество ссылок по запросу"
   ]
  },
  {
   "cell_type": "code",
   "execution_count": 20,
   "metadata": {
    "pycharm": {
     "is_executing": false
    }
   },
   "outputs": [
    {
     "data": {
      "text/plain": "4"
     },
     "metadata": {},
     "output_type": "execute_result",
     "execution_count": 20
    }
   ],
   "source": [
    "len([x for x in rabota_CCO if x not in all_seen]) #количество ссылок, учитывая исключения"
   ]
  },
  {
   "cell_type": "code",
   "execution_count": 21,
   "metadata": {
    "pycharm": {
     "is_executing": false
    }
   },
   "outputs": [
    {
     "data": {
      "text/plain": "3"
     },
     "metadata": {},
     "output_type": "execute_result",
     "execution_count": 21
    }
   ],
   "source": [
    "links1=[x for x in rabota_CCO if x not in all_seen]\n",
    "len(np.unique(links1)) #проверка на уникальность"
   ]
  },
  {
   "cell_type": "code",
   "execution_count": 22,
   "metadata": {
    "pycharm": {
     "is_executing": false
    }
   },
   "outputs": [],
   "source": [
    "d=soup_stir(links1[:5])"
   ]
  },
  {
   "cell_type": "code",
   "execution_count": 23,
   "metadata": {
    "pycharm": {
     "is_executing": false
    }
   },
   "outputs": [
    {
     "data": {
      "text/plain": "  age                                              brief    city  duration  \\\n0  46  Руководитель в области продаж с более 15 - лет...  Одесса      1.50   \n1  46  Руководитель в области продаж с более 15 - лет...  Одесса      2.00   \n2  46  Руководитель в области продаж с более 15 - лет...  Одесса      1.50   \n3  46  Руководитель в области продаж с более 15 - лет...  Одесса      2.33   \n4  46  Руководитель в области продаж с более 15 - лет...  Одесса      3.08   \n5  46  Руководитель в области продаж с более 15 - лет...  Одесса      5.17   \n6  46  Руководитель в области продаж с более 15 - лет...  Одесса      4.08   \n0  44                                               None    Киев      5.58   \n1  44                                               None    Киев      1.50   \n2  44                                               None    Киев      4.25   \n3  44                                               None    Киев      1.83   \n4  44                                               None    Киев      3.33   \n0  44                                               None    Киев      5.58   \n1  44                                               None    Киев      1.50   \n2  44                                               None    Киев      4.25   \n3  44                                               None    Киев      1.83   \n4  44                                               None    Киев      3.33   \n0  45  Обладаю успешным опытом, организации работы с ...    Киев      3.50   \n1  45  Обладаю успешным опытом, организации работы с ...    Киев      1.50   \n2  45  Обладаю успешным опытом, организации работы с ...    Киев      6.42   \n3  45  Обладаю успешным опытом, организации работы с ...    Киев      1.00   \n4  45  Обладаю успешным опытом, организации работы с ...    Киев      3.50   \n5  45  Обладаю успешным опытом, организации работы с ...    Киев      1.08   \n6  45  Обладаю успешным опытом, организации работы с ...    Киев      2.92   \n\n                                                 edu  \\\n0  Одесский Государственный Политехнический Униве...   \n1  Одесский Государственный Политехнический Униве...   \n2  Одесский Государственный Политехнический Униве...   \n3  Одесский Государственный Политехнический Униве...   \n4  Одесский Государственный Политехнический Униве...   \n5  Одесский Государственный Политехнический Униве...   \n6  Одесский Государственный Политехнический Униве...   \n0  Переяслав-Хмельницкий государственный педагоги...   \n1  Переяслав-Хмельницкий государственный педагоги...   \n2  Переяслав-Хмельницкий государственный педагоги...   \n3  Переяслав-Хмельницкий государственный педагоги...   \n4  Переяслав-Хмельницкий государственный педагоги...   \n0  Переяслав-Хмельницкий государственный педагоги...   \n1  Переяслав-Хмельницкий государственный педагоги...   \n2  Переяслав-Хмельницкий государственный педагоги...   \n3  Переяслав-Хмельницкий государственный педагоги...   \n4  Переяслав-Хмельницкий государственный педагоги...   \n0  Международный институт рыночных отношений и пр...   \n1  Международный институт рыночных отношений и пр...   \n2  Международный институт рыночных отношений и пр...   \n3  Международный институт рыночных отношений и пр...   \n4  Международный институт рыночных отношений и пр...   \n5  Международный институт рыночных отношений и пр...   \n6  Международный институт рыночных отношений и пр...   \n\n                                                 exp  \\\n0  \\r\\nРуководитель отдела развитияфев 2017 - июл...   \n1  \\r\\nРуководитель отдела развитияфев 2017 - июл...   \n2  \\r\\nРуководитель отдела развитияфев 2017 - июл...   \n3  \\r\\nРуководитель отдела развитияфев 2017 - июл...   \n4  \\r\\nРуководитель отдела развитияфев 2017 - июл...   \n5  \\r\\nРуководитель отдела развитияфев 2017 - июл...   \n6  \\r\\nРуководитель отдела развитияфев 2017 - июл...   \n0  \\r\\nРегиональный менеджер FMCGиюн 2014 - насто...   \n1  \\r\\nРегиональный менеджер FMCGиюн 2014 - насто...   \n2  \\r\\nРегиональный менеджер FMCGиюн 2014 - насто...   \n3  \\r\\nРегиональный менеджер FMCGиюн 2014 - насто...   \n4  \\r\\nРегиональный менеджер FMCGиюн 2014 - насто...   \n0  \\r\\nРегиональный менеджер FMCGиюн 2014 - насто...   \n1  \\r\\nРегиональный менеджер FMCGиюн 2014 - насто...   \n2  \\r\\nРегиональный менеджер FMCGиюн 2014 - насто...   \n3  \\r\\nРегиональный менеджер FMCGиюн 2014 - насто...   \n4  \\r\\nРегиональный менеджер FMCGиюн 2014 - насто...   \n0  \\r\\nДиректор по развитию бизнеса (BDM)июл 2016...   \n1  \\r\\nДиректор по развитию бизнеса (BDM)июл 2016...   \n2  \\r\\nДиректор по развитию бизнеса (BDM)июл 2016...   \n3  \\r\\nДиректор по развитию бизнеса (BDM)июл 2016...   \n4  \\r\\nДиректор по развитию бизнеса (BDM)июл 2016...   \n5  \\r\\nДиректор по развитию бизнеса (BDM)июл 2016...   \n6  \\r\\nДиректор по развитию бизнеса (BDM)июл 2016...   \n\n                                                lang  \\\n0  Английский- базовый\\r\\n\\t\\t\\t\\r\\n\\t\\tУкраински...   \n1  Английский- базовый\\r\\n\\t\\t\\t\\r\\n\\t\\tУкраински...   \n2  Английский- базовый\\r\\n\\t\\t\\t\\r\\n\\t\\tУкраински...   \n3  Английский- базовый\\r\\n\\t\\t\\t\\r\\n\\t\\tУкраински...   \n4  Английский- базовый\\r\\n\\t\\t\\t\\r\\n\\t\\tУкраински...   \n5  Английский- базовый\\r\\n\\t\\t\\t\\r\\n\\t\\tУкраински...   \n6  Английский- базовый\\r\\n\\t\\t\\t\\r\\n\\t\\tУкраински...   \n0  Русский- родной\\r\\n\\t\\t\\t\\r\\n\\t\\tУкраинский- р...   \n1  Русский- родной\\r\\n\\t\\t\\t\\r\\n\\t\\tУкраинский- р...   \n2  Русский- родной\\r\\n\\t\\t\\t\\r\\n\\t\\tУкраинский- р...   \n3  Русский- родной\\r\\n\\t\\t\\t\\r\\n\\t\\tУкраинский- р...   \n4  Русский- родной\\r\\n\\t\\t\\t\\r\\n\\t\\tУкраинский- р...   \n0  Русский- родной\\r\\n\\t\\t\\t\\r\\n\\t\\tУкраинский- р...   \n1  Русский- родной\\r\\n\\t\\t\\t\\r\\n\\t\\tУкраинский- р...   \n2  Русский- родной\\r\\n\\t\\t\\t\\r\\n\\t\\tУкраинский- р...   \n3  Русский- родной\\r\\n\\t\\t\\t\\r\\n\\t\\tУкраинский- р...   \n4  Русский- родной\\r\\n\\t\\t\\t\\r\\n\\t\\tУкраинский- р...   \n0  Английский- средний\\r\\n\\t\\t\\t\\r\\n\\t\\tРусский- ...   \n1  Английский- средний\\r\\n\\t\\t\\t\\r\\n\\t\\tРусский- ...   \n2  Английский- средний\\r\\n\\t\\t\\t\\r\\n\\t\\tРусский- ...   \n3  Английский- средний\\r\\n\\t\\t\\t\\r\\n\\t\\tРусский- ...   \n4  Английский- средний\\r\\n\\t\\t\\t\\r\\n\\t\\tРусский- ...   \n5  Английский- средний\\r\\n\\t\\t\\t\\r\\n\\t\\tРусский- ...   \n6  Английский- средний\\r\\n\\t\\t\\t\\r\\n\\t\\tРусский- ...   \n\n                           link                  name price  scrap_date  \\\n0  https://rabota.ua/cv/9778845       Олег Николаевич  None  2019-12-26   \n1  https://rabota.ua/cv/9778845       Олег Николаевич  None  2019-12-26   \n2  https://rabota.ua/cv/9778845       Олег Николаевич  None  2019-12-26   \n3  https://rabota.ua/cv/9778845       Олег Николаевич  None  2019-12-26   \n4  https://rabota.ua/cv/9778845       Олег Николаевич  None  2019-12-26   \n5  https://rabota.ua/cv/9778845       Олег Николаевич  None  2019-12-26   \n6  https://rabota.ua/cv/9778845       Олег Николаевич  None  2019-12-26   \n0  https://rabota.ua/cv/4760938             Александр  None  2019-12-26   \n1  https://rabota.ua/cv/4760938             Александр  None  2019-12-26   \n2  https://rabota.ua/cv/4760938             Александр  None  2019-12-26   \n3  https://rabota.ua/cv/4760938             Александр  None  2019-12-26   \n4  https://rabota.ua/cv/4760938             Александр  None  2019-12-26   \n0  https://rabota.ua/cv/4760938             Александр  None  2019-12-26   \n1  https://rabota.ua/cv/4760938             Александр  None  2019-12-26   \n2  https://rabota.ua/cv/4760938             Александр  None  2019-12-26   \n3  https://rabota.ua/cv/4760938             Александр  None  2019-12-26   \n4  https://rabota.ua/cv/4760938             Александр  None  2019-12-26   \n0  https://rabota.ua/cv/5757043  Виталий Владимирович  None  2019-12-26   \n1  https://rabota.ua/cv/5757043  Виталий Владимирович  None  2019-12-26   \n2  https://rabota.ua/cv/5757043  Виталий Владимирович  None  2019-12-26   \n3  https://rabota.ua/cv/5757043  Виталий Владимирович  None  2019-12-26   \n4  https://rabota.ua/cv/5757043  Виталий Владимирович  None  2019-12-26   \n5  https://rabota.ua/cv/5757043  Виталий Владимирович  None  2019-12-26   \n6  https://rabota.ua/cv/5757043  Виталий Владимирович  None  2019-12-26   \n\n  update_year                                          должность  \\\n0        2019                       Руководитель отдела развития   \n1        2019                              Региональный менеджер   \n2        2019  Региональный менеджер по работе с ключевыми кл...   \n3        2019  Региональный Менеджер по работе с ключевыми кл...   \n4        2019  Региональный  менеджер по работе с ключевыми к...   \n5        2019  Региональный менеджер по работе с ключевыми кл...   \n6        2019                                        Супервайзер   \n0        2019                         Региональный менеджер FMCG   \n1        2019                              Коммерческий директор   \n2        2019                            руководитель отдела ВЭД   \n3        2019                                       Директор ВЭД   \n4        2019              Менеджер по работе с торговыми сетями   \n0        2019                         Региональный менеджер FMCG   \n1        2019                              Коммерческий директор   \n2        2019                            руководитель отдела ВЭД   \n3        2019                                       Директор ВЭД   \n4        2019              Менеджер по работе с торговыми сетями   \n0        2019                 Директор по развитию бизнеса (BDM)   \n1        2019                        Коммерческий Директор (CSO)   \n2        2019  Директор по развитию продаж филиальной сети (E...   \n3        2019                            Директор Агентской сети   \n4        2019                                    000 «Эксимгруп»   \n5        2019                              Коммерческий директор   \n6        2019                         Региональный менеджер FMCG   \n\n                                             отрасль  \\\n0                    АПК (Агропромышленный комплекс)   \n1                                               FMCG   \n2            более 500 сотрудников\\r\\n\\t\\t\\t\\t\\tFMCG   \n3                                               FMCG   \n4                                               FMCG   \n5            более 500 сотрудников\\r\\n\\t\\t\\t\\t\\tFMCG   \n6  более 500 сотрудников\\r\\n\\t\\t\\t\\t\\tТорговля оп...   \n0        от 100 до 250 сотрудников\\r\\n\\t\\t\\t\\t\\tFMCG   \n1  от 20 до 50 сотрудников\\r\\n\\t\\t\\t\\t\\tТорговля ...   \n2                                               FMCG   \n3          от 20 до 50 сотрудников\\r\\n\\t\\t\\t\\t\\tFMCG   \n4  от 50 до 100 сотрудников\\r\\n\\t\\t\\t\\t\\tТорговля...   \n0        от 100 до 250 сотрудников\\r\\n\\t\\t\\t\\t\\tFMCG   \n1  от 20 до 50 сотрудников\\r\\n\\t\\t\\t\\t\\tТорговля ...   \n2                                               FMCG   \n3          от 20 до 50 сотрудников\\r\\n\\t\\t\\t\\t\\tFMCG   \n4  от 50 до 100 сотрудников\\r\\n\\t\\t\\t\\t\\tТорговля...   \n0                                 Консалтинг / Аудит   \n1    Торговля оптовая / Дистрибуция / Импорт-экспорт   \n2                                  Финансовые услуги   \n3                                       Фармацевтика   \n4                                               FMCG   \n5  от 100 до 250 сотрудников\\r\\n\\t\\t\\t\\t\\tТорговл...   \n6        от 250 до 500 сотрудников\\r\\n\\t\\t\\t\\t\\tFMCG   \n\n                                      период  \\\n0          фев 2017 - июл 2018 (1 год 6 мес)   \n1               фев 2015 - янв 2017 (2 года)   \n2          июл 2013 - дек 2014 (1 год 6 мес)   \n3         мар 2011 - июн 2013 (2 года 4 мес)   \n4         янв 2008 - янв 2011 (3 года 1 мес)   \n5          авг 2002 - сен 2007 (5 лет 2 мес)   \n6         янв 1998 - янв 2002 (4 года 1 мес)   \n0   июн 2014 - настоящее время (5 лет 7 мес)   \n1          янв 2013 - июн 2014 (1 год 6 мес)   \n2         окт 2008 - дек 2012 (4 года 3 мес)   \n3         ноя 2006 - авг 2008 (1 год 10 мес)   \n4         июн 2003 - сен 2006 (3 года 4 мес)   \n0   июн 2014 - настоящее время (5 лет 7 мес)   \n1          янв 2013 - июн 2014 (1 год 6 мес)   \n2         окт 2008 - дек 2012 (4 года 3 мес)   \n3         ноя 2006 - авг 2008 (1 год 10 мес)   \n4         июн 2003 - сен 2006 (3 года 4 мес)   \n0  июл 2016 - настоящее время (3 года 6 мес)   \n1          дек 2014 - май 2016 (1 год 6 мес)   \n2          ноя 2007 - мар 2014 (6 лет 5 мес)   \n3                ноя 2006 - окт 2007 (1 год)   \n4         янв 2003 - июн 2006 (3 года 6 мес)   \n5          янв 2002 - янв 2003 (1 год 1 мес)   \n6        мар 1999 - янв 2002 (2 года 11 мес)   \n\n                                         предприятие  \n0                ООО Велес Агро Брокер (Агроэкспорт)  \n1                    ООО «Ритейл Профешинлз Украина»  \n2                       Кока-Кола Беверіджиз Україна  \n3        ПАО Мироновский Хлебопродукт (ТМ Наша Ряба)  \n4                                          ЗАО Чумак  \n5         Монделіс Україна, ПАТ / Крафт Фудз Україна  \n6                                    АЛМИ-Трейд, ООО  \n0                            С-транс, ООО / Inmilkco  \n1                                           Геотранс  \n2                               ДП Милкиленд-Украина  \n3                                       менеджер ВЭД  \n4                                 Торговый дом Любас  \n0                            С-транс, ООО / Inmilkco  \n1                                           Геотранс  \n2                               ДП Милкиленд-Украина  \n3                                       менеджер ВЭД  \n4                                 Торговый дом Любас  \n0                                   Skylark Servises  \n1                                   BIGSUN Jewellery  \n2  СК «MetLifeAlico», «Aegon Life Ukraine», «ТАС»...  \n3         Директор департамента региональных продаж.  \n4                                   Директор филиала  \n5  Кава Трейд Украина (группа компаний «Чайный Ми...  \n6                                   Афина Групп, ООО  ",
      "text/html": "<div>\n<style scoped>\n    .dataframe tbody tr th:only-of-type {\n        vertical-align: middle;\n    }\n\n    .dataframe tbody tr th {\n        vertical-align: top;\n    }\n\n    .dataframe thead th {\n        text-align: right;\n    }\n</style>\n<table border=\"1\" class=\"dataframe\">\n  <thead>\n    <tr style=\"text-align: right;\">\n      <th></th>\n      <th>age</th>\n      <th>brief</th>\n      <th>city</th>\n      <th>duration</th>\n      <th>edu</th>\n      <th>exp</th>\n      <th>lang</th>\n      <th>link</th>\n      <th>name</th>\n      <th>price</th>\n      <th>scrap_date</th>\n      <th>update_year</th>\n      <th>должность</th>\n      <th>отрасль</th>\n      <th>период</th>\n      <th>предприятие</th>\n    </tr>\n  </thead>\n  <tbody>\n    <tr>\n      <th>0</th>\n      <td>46</td>\n      <td>Руководитель в области продаж с более 15 - лет...</td>\n      <td>Одесса</td>\n      <td>1.50</td>\n      <td>Одесский Государственный Политехнический Униве...</td>\n      <td>\\r\\nРуководитель отдела развитияфев 2017 - июл...</td>\n      <td>Английский- базовый\\r\\n\\t\\t\\t\\r\\n\\t\\tУкраински...</td>\n      <td>https://rabota.ua/cv/9778845</td>\n      <td>Олег Николаевич</td>\n      <td>None</td>\n      <td>2019-12-26</td>\n      <td>2019</td>\n      <td>Руководитель отдела развития</td>\n      <td>АПК (Агропромышленный комплекс)</td>\n      <td>фев 2017 - июл 2018 (1 год 6 мес)</td>\n      <td>ООО Велес Агро Брокер (Агроэкспорт)</td>\n    </tr>\n    <tr>\n      <th>1</th>\n      <td>46</td>\n      <td>Руководитель в области продаж с более 15 - лет...</td>\n      <td>Одесса</td>\n      <td>2.00</td>\n      <td>Одесский Государственный Политехнический Униве...</td>\n      <td>\\r\\nРуководитель отдела развитияфев 2017 - июл...</td>\n      <td>Английский- базовый\\r\\n\\t\\t\\t\\r\\n\\t\\tУкраински...</td>\n      <td>https://rabota.ua/cv/9778845</td>\n      <td>Олег Николаевич</td>\n      <td>None</td>\n      <td>2019-12-26</td>\n      <td>2019</td>\n      <td>Региональный менеджер</td>\n      <td>FMCG</td>\n      <td>фев 2015 - янв 2017 (2 года)</td>\n      <td>ООО «Ритейл Профешинлз Украина»</td>\n    </tr>\n    <tr>\n      <th>2</th>\n      <td>46</td>\n      <td>Руководитель в области продаж с более 15 - лет...</td>\n      <td>Одесса</td>\n      <td>1.50</td>\n      <td>Одесский Государственный Политехнический Униве...</td>\n      <td>\\r\\nРуководитель отдела развитияфев 2017 - июл...</td>\n      <td>Английский- базовый\\r\\n\\t\\t\\t\\r\\n\\t\\tУкраински...</td>\n      <td>https://rabota.ua/cv/9778845</td>\n      <td>Олег Николаевич</td>\n      <td>None</td>\n      <td>2019-12-26</td>\n      <td>2019</td>\n      <td>Региональный менеджер по работе с ключевыми кл...</td>\n      <td>более 500 сотрудников\\r\\n\\t\\t\\t\\t\\tFMCG</td>\n      <td>июл 2013 - дек 2014 (1 год 6 мес)</td>\n      <td>Кока-Кола Беверіджиз Україна</td>\n    </tr>\n    <tr>\n      <th>3</th>\n      <td>46</td>\n      <td>Руководитель в области продаж с более 15 - лет...</td>\n      <td>Одесса</td>\n      <td>2.33</td>\n      <td>Одесский Государственный Политехнический Униве...</td>\n      <td>\\r\\nРуководитель отдела развитияфев 2017 - июл...</td>\n      <td>Английский- базовый\\r\\n\\t\\t\\t\\r\\n\\t\\tУкраински...</td>\n      <td>https://rabota.ua/cv/9778845</td>\n      <td>Олег Николаевич</td>\n      <td>None</td>\n      <td>2019-12-26</td>\n      <td>2019</td>\n      <td>Региональный Менеджер по работе с ключевыми кл...</td>\n      <td>FMCG</td>\n      <td>мар 2011 - июн 2013 (2 года 4 мес)</td>\n      <td>ПАО Мироновский Хлебопродукт (ТМ Наша Ряба)</td>\n    </tr>\n    <tr>\n      <th>4</th>\n      <td>46</td>\n      <td>Руководитель в области продаж с более 15 - лет...</td>\n      <td>Одесса</td>\n      <td>3.08</td>\n      <td>Одесский Государственный Политехнический Униве...</td>\n      <td>\\r\\nРуководитель отдела развитияфев 2017 - июл...</td>\n      <td>Английский- базовый\\r\\n\\t\\t\\t\\r\\n\\t\\tУкраински...</td>\n      <td>https://rabota.ua/cv/9778845</td>\n      <td>Олег Николаевич</td>\n      <td>None</td>\n      <td>2019-12-26</td>\n      <td>2019</td>\n      <td>Региональный  менеджер по работе с ключевыми к...</td>\n      <td>FMCG</td>\n      <td>янв 2008 - янв 2011 (3 года 1 мес)</td>\n      <td>ЗАО Чумак</td>\n    </tr>\n    <tr>\n      <th>5</th>\n      <td>46</td>\n      <td>Руководитель в области продаж с более 15 - лет...</td>\n      <td>Одесса</td>\n      <td>5.17</td>\n      <td>Одесский Государственный Политехнический Униве...</td>\n      <td>\\r\\nРуководитель отдела развитияфев 2017 - июл...</td>\n      <td>Английский- базовый\\r\\n\\t\\t\\t\\r\\n\\t\\tУкраински...</td>\n      <td>https://rabota.ua/cv/9778845</td>\n      <td>Олег Николаевич</td>\n      <td>None</td>\n      <td>2019-12-26</td>\n      <td>2019</td>\n      <td>Региональный менеджер по работе с ключевыми кл...</td>\n      <td>более 500 сотрудников\\r\\n\\t\\t\\t\\t\\tFMCG</td>\n      <td>авг 2002 - сен 2007 (5 лет 2 мес)</td>\n      <td>Монделіс Україна, ПАТ / Крафт Фудз Україна</td>\n    </tr>\n    <tr>\n      <th>6</th>\n      <td>46</td>\n      <td>Руководитель в области продаж с более 15 - лет...</td>\n      <td>Одесса</td>\n      <td>4.08</td>\n      <td>Одесский Государственный Политехнический Униве...</td>\n      <td>\\r\\nРуководитель отдела развитияфев 2017 - июл...</td>\n      <td>Английский- базовый\\r\\n\\t\\t\\t\\r\\n\\t\\tУкраински...</td>\n      <td>https://rabota.ua/cv/9778845</td>\n      <td>Олег Николаевич</td>\n      <td>None</td>\n      <td>2019-12-26</td>\n      <td>2019</td>\n      <td>Супервайзер</td>\n      <td>более 500 сотрудников\\r\\n\\t\\t\\t\\t\\tТорговля оп...</td>\n      <td>янв 1998 - янв 2002 (4 года 1 мес)</td>\n      <td>АЛМИ-Трейд, ООО</td>\n    </tr>\n    <tr>\n      <th>0</th>\n      <td>44</td>\n      <td>None</td>\n      <td>Киев</td>\n      <td>5.58</td>\n      <td>Переяслав-Хмельницкий государственный педагоги...</td>\n      <td>\\r\\nРегиональный менеджер FMCGиюн 2014 - насто...</td>\n      <td>Русский- родной\\r\\n\\t\\t\\t\\r\\n\\t\\tУкраинский- р...</td>\n      <td>https://rabota.ua/cv/4760938</td>\n      <td>Александр</td>\n      <td>None</td>\n      <td>2019-12-26</td>\n      <td>2019</td>\n      <td>Региональный менеджер FMCG</td>\n      <td>от 100 до 250 сотрудников\\r\\n\\t\\t\\t\\t\\tFMCG</td>\n      <td>июн 2014 - настоящее время (5 лет 7 мес)</td>\n      <td>С-транс, ООО / Inmilkco</td>\n    </tr>\n    <tr>\n      <th>1</th>\n      <td>44</td>\n      <td>None</td>\n      <td>Киев</td>\n      <td>1.50</td>\n      <td>Переяслав-Хмельницкий государственный педагоги...</td>\n      <td>\\r\\nРегиональный менеджер FMCGиюн 2014 - насто...</td>\n      <td>Русский- родной\\r\\n\\t\\t\\t\\r\\n\\t\\tУкраинский- р...</td>\n      <td>https://rabota.ua/cv/4760938</td>\n      <td>Александр</td>\n      <td>None</td>\n      <td>2019-12-26</td>\n      <td>2019</td>\n      <td>Коммерческий директор</td>\n      <td>от 20 до 50 сотрудников\\r\\n\\t\\t\\t\\t\\tТорговля ...</td>\n      <td>янв 2013 - июн 2014 (1 год 6 мес)</td>\n      <td>Геотранс</td>\n    </tr>\n    <tr>\n      <th>2</th>\n      <td>44</td>\n      <td>None</td>\n      <td>Киев</td>\n      <td>4.25</td>\n      <td>Переяслав-Хмельницкий государственный педагоги...</td>\n      <td>\\r\\nРегиональный менеджер FMCGиюн 2014 - насто...</td>\n      <td>Русский- родной\\r\\n\\t\\t\\t\\r\\n\\t\\tУкраинский- р...</td>\n      <td>https://rabota.ua/cv/4760938</td>\n      <td>Александр</td>\n      <td>None</td>\n      <td>2019-12-26</td>\n      <td>2019</td>\n      <td>руководитель отдела ВЭД</td>\n      <td>FMCG</td>\n      <td>окт 2008 - дек 2012 (4 года 3 мес)</td>\n      <td>ДП Милкиленд-Украина</td>\n    </tr>\n    <tr>\n      <th>3</th>\n      <td>44</td>\n      <td>None</td>\n      <td>Киев</td>\n      <td>1.83</td>\n      <td>Переяслав-Хмельницкий государственный педагоги...</td>\n      <td>\\r\\nРегиональный менеджер FMCGиюн 2014 - насто...</td>\n      <td>Русский- родной\\r\\n\\t\\t\\t\\r\\n\\t\\tУкраинский- р...</td>\n      <td>https://rabota.ua/cv/4760938</td>\n      <td>Александр</td>\n      <td>None</td>\n      <td>2019-12-26</td>\n      <td>2019</td>\n      <td>Директор ВЭД</td>\n      <td>от 20 до 50 сотрудников\\r\\n\\t\\t\\t\\t\\tFMCG</td>\n      <td>ноя 2006 - авг 2008 (1 год 10 мес)</td>\n      <td>менеджер ВЭД</td>\n    </tr>\n    <tr>\n      <th>4</th>\n      <td>44</td>\n      <td>None</td>\n      <td>Киев</td>\n      <td>3.33</td>\n      <td>Переяслав-Хмельницкий государственный педагоги...</td>\n      <td>\\r\\nРегиональный менеджер FMCGиюн 2014 - насто...</td>\n      <td>Русский- родной\\r\\n\\t\\t\\t\\r\\n\\t\\tУкраинский- р...</td>\n      <td>https://rabota.ua/cv/4760938</td>\n      <td>Александр</td>\n      <td>None</td>\n      <td>2019-12-26</td>\n      <td>2019</td>\n      <td>Менеджер по работе с торговыми сетями</td>\n      <td>от 50 до 100 сотрудников\\r\\n\\t\\t\\t\\t\\tТорговля...</td>\n      <td>июн 2003 - сен 2006 (3 года 4 мес)</td>\n      <td>Торговый дом Любас</td>\n    </tr>\n    <tr>\n      <th>0</th>\n      <td>44</td>\n      <td>None</td>\n      <td>Киев</td>\n      <td>5.58</td>\n      <td>Переяслав-Хмельницкий государственный педагоги...</td>\n      <td>\\r\\nРегиональный менеджер FMCGиюн 2014 - насто...</td>\n      <td>Русский- родной\\r\\n\\t\\t\\t\\r\\n\\t\\tУкраинский- р...</td>\n      <td>https://rabota.ua/cv/4760938</td>\n      <td>Александр</td>\n      <td>None</td>\n      <td>2019-12-26</td>\n      <td>2019</td>\n      <td>Региональный менеджер FMCG</td>\n      <td>от 100 до 250 сотрудников\\r\\n\\t\\t\\t\\t\\tFMCG</td>\n      <td>июн 2014 - настоящее время (5 лет 7 мес)</td>\n      <td>С-транс, ООО / Inmilkco</td>\n    </tr>\n    <tr>\n      <th>1</th>\n      <td>44</td>\n      <td>None</td>\n      <td>Киев</td>\n      <td>1.50</td>\n      <td>Переяслав-Хмельницкий государственный педагоги...</td>\n      <td>\\r\\nРегиональный менеджер FMCGиюн 2014 - насто...</td>\n      <td>Русский- родной\\r\\n\\t\\t\\t\\r\\n\\t\\tУкраинский- р...</td>\n      <td>https://rabota.ua/cv/4760938</td>\n      <td>Александр</td>\n      <td>None</td>\n      <td>2019-12-26</td>\n      <td>2019</td>\n      <td>Коммерческий директор</td>\n      <td>от 20 до 50 сотрудников\\r\\n\\t\\t\\t\\t\\tТорговля ...</td>\n      <td>янв 2013 - июн 2014 (1 год 6 мес)</td>\n      <td>Геотранс</td>\n    </tr>\n    <tr>\n      <th>2</th>\n      <td>44</td>\n      <td>None</td>\n      <td>Киев</td>\n      <td>4.25</td>\n      <td>Переяслав-Хмельницкий государственный педагоги...</td>\n      <td>\\r\\nРегиональный менеджер FMCGиюн 2014 - насто...</td>\n      <td>Русский- родной\\r\\n\\t\\t\\t\\r\\n\\t\\tУкраинский- р...</td>\n      <td>https://rabota.ua/cv/4760938</td>\n      <td>Александр</td>\n      <td>None</td>\n      <td>2019-12-26</td>\n      <td>2019</td>\n      <td>руководитель отдела ВЭД</td>\n      <td>FMCG</td>\n      <td>окт 2008 - дек 2012 (4 года 3 мес)</td>\n      <td>ДП Милкиленд-Украина</td>\n    </tr>\n    <tr>\n      <th>3</th>\n      <td>44</td>\n      <td>None</td>\n      <td>Киев</td>\n      <td>1.83</td>\n      <td>Переяслав-Хмельницкий государственный педагоги...</td>\n      <td>\\r\\nРегиональный менеджер FMCGиюн 2014 - насто...</td>\n      <td>Русский- родной\\r\\n\\t\\t\\t\\r\\n\\t\\tУкраинский- р...</td>\n      <td>https://rabota.ua/cv/4760938</td>\n      <td>Александр</td>\n      <td>None</td>\n      <td>2019-12-26</td>\n      <td>2019</td>\n      <td>Директор ВЭД</td>\n      <td>от 20 до 50 сотрудников\\r\\n\\t\\t\\t\\t\\tFMCG</td>\n      <td>ноя 2006 - авг 2008 (1 год 10 мес)</td>\n      <td>менеджер ВЭД</td>\n    </tr>\n    <tr>\n      <th>4</th>\n      <td>44</td>\n      <td>None</td>\n      <td>Киев</td>\n      <td>3.33</td>\n      <td>Переяслав-Хмельницкий государственный педагоги...</td>\n      <td>\\r\\nРегиональный менеджер FMCGиюн 2014 - насто...</td>\n      <td>Русский- родной\\r\\n\\t\\t\\t\\r\\n\\t\\tУкраинский- р...</td>\n      <td>https://rabota.ua/cv/4760938</td>\n      <td>Александр</td>\n      <td>None</td>\n      <td>2019-12-26</td>\n      <td>2019</td>\n      <td>Менеджер по работе с торговыми сетями</td>\n      <td>от 50 до 100 сотрудников\\r\\n\\t\\t\\t\\t\\tТорговля...</td>\n      <td>июн 2003 - сен 2006 (3 года 4 мес)</td>\n      <td>Торговый дом Любас</td>\n    </tr>\n    <tr>\n      <th>0</th>\n      <td>45</td>\n      <td>Обладаю успешным опытом, организации работы с ...</td>\n      <td>Киев</td>\n      <td>3.50</td>\n      <td>Международный институт рыночных отношений и пр...</td>\n      <td>\\r\\nДиректор по развитию бизнеса (BDM)июл 2016...</td>\n      <td>Английский- средний\\r\\n\\t\\t\\t\\r\\n\\t\\tРусский- ...</td>\n      <td>https://rabota.ua/cv/5757043</td>\n      <td>Виталий Владимирович</td>\n      <td>None</td>\n      <td>2019-12-26</td>\n      <td>2019</td>\n      <td>Директор по развитию бизнеса (BDM)</td>\n      <td>Консалтинг / Аудит</td>\n      <td>июл 2016 - настоящее время (3 года 6 мес)</td>\n      <td>Skylark Servises</td>\n    </tr>\n    <tr>\n      <th>1</th>\n      <td>45</td>\n      <td>Обладаю успешным опытом, организации работы с ...</td>\n      <td>Киев</td>\n      <td>1.50</td>\n      <td>Международный институт рыночных отношений и пр...</td>\n      <td>\\r\\nДиректор по развитию бизнеса (BDM)июл 2016...</td>\n      <td>Английский- средний\\r\\n\\t\\t\\t\\r\\n\\t\\tРусский- ...</td>\n      <td>https://rabota.ua/cv/5757043</td>\n      <td>Виталий Владимирович</td>\n      <td>None</td>\n      <td>2019-12-26</td>\n      <td>2019</td>\n      <td>Коммерческий Директор (CSO)</td>\n      <td>Торговля оптовая / Дистрибуция / Импорт-экспорт</td>\n      <td>дек 2014 - май 2016 (1 год 6 мес)</td>\n      <td>BIGSUN Jewellery</td>\n    </tr>\n    <tr>\n      <th>2</th>\n      <td>45</td>\n      <td>Обладаю успешным опытом, организации работы с ...</td>\n      <td>Киев</td>\n      <td>6.42</td>\n      <td>Международный институт рыночных отношений и пр...</td>\n      <td>\\r\\nДиректор по развитию бизнеса (BDM)июл 2016...</td>\n      <td>Английский- средний\\r\\n\\t\\t\\t\\r\\n\\t\\tРусский- ...</td>\n      <td>https://rabota.ua/cv/5757043</td>\n      <td>Виталий Владимирович</td>\n      <td>None</td>\n      <td>2019-12-26</td>\n      <td>2019</td>\n      <td>Директор по развитию продаж филиальной сети (E...</td>\n      <td>Финансовые услуги</td>\n      <td>ноя 2007 - мар 2014 (6 лет 5 мес)</td>\n      <td>СК «MetLifeAlico», «Aegon Life Ukraine», «ТАС»...</td>\n    </tr>\n    <tr>\n      <th>3</th>\n      <td>45</td>\n      <td>Обладаю успешным опытом, организации работы с ...</td>\n      <td>Киев</td>\n      <td>1.00</td>\n      <td>Международный институт рыночных отношений и пр...</td>\n      <td>\\r\\nДиректор по развитию бизнеса (BDM)июл 2016...</td>\n      <td>Английский- средний\\r\\n\\t\\t\\t\\r\\n\\t\\tРусский- ...</td>\n      <td>https://rabota.ua/cv/5757043</td>\n      <td>Виталий Владимирович</td>\n      <td>None</td>\n      <td>2019-12-26</td>\n      <td>2019</td>\n      <td>Директор Агентской сети</td>\n      <td>Фармацевтика</td>\n      <td>ноя 2006 - окт 2007 (1 год)</td>\n      <td>Директор департамента региональных продаж.</td>\n    </tr>\n    <tr>\n      <th>4</th>\n      <td>45</td>\n      <td>Обладаю успешным опытом, организации работы с ...</td>\n      <td>Киев</td>\n      <td>3.50</td>\n      <td>Международный институт рыночных отношений и пр...</td>\n      <td>\\r\\nДиректор по развитию бизнеса (BDM)июл 2016...</td>\n      <td>Английский- средний\\r\\n\\t\\t\\t\\r\\n\\t\\tРусский- ...</td>\n      <td>https://rabota.ua/cv/5757043</td>\n      <td>Виталий Владимирович</td>\n      <td>None</td>\n      <td>2019-12-26</td>\n      <td>2019</td>\n      <td>000 «Эксимгруп»</td>\n      <td>FMCG</td>\n      <td>янв 2003 - июн 2006 (3 года 6 мес)</td>\n      <td>Директор филиала</td>\n    </tr>\n    <tr>\n      <th>5</th>\n      <td>45</td>\n      <td>Обладаю успешным опытом, организации работы с ...</td>\n      <td>Киев</td>\n      <td>1.08</td>\n      <td>Международный институт рыночных отношений и пр...</td>\n      <td>\\r\\nДиректор по развитию бизнеса (BDM)июл 2016...</td>\n      <td>Английский- средний\\r\\n\\t\\t\\t\\r\\n\\t\\tРусский- ...</td>\n      <td>https://rabota.ua/cv/5757043</td>\n      <td>Виталий Владимирович</td>\n      <td>None</td>\n      <td>2019-12-26</td>\n      <td>2019</td>\n      <td>Коммерческий директор</td>\n      <td>от 100 до 250 сотрудников\\r\\n\\t\\t\\t\\t\\tТорговл...</td>\n      <td>янв 2002 - янв 2003 (1 год 1 мес)</td>\n      <td>Кава Трейд Украина (группа компаний «Чайный Ми...</td>\n    </tr>\n    <tr>\n      <th>6</th>\n      <td>45</td>\n      <td>Обладаю успешным опытом, организации работы с ...</td>\n      <td>Киев</td>\n      <td>2.92</td>\n      <td>Международный институт рыночных отношений и пр...</td>\n      <td>\\r\\nДиректор по развитию бизнеса (BDM)июл 2016...</td>\n      <td>Английский- средний\\r\\n\\t\\t\\t\\r\\n\\t\\tРусский- ...</td>\n      <td>https://rabota.ua/cv/5757043</td>\n      <td>Виталий Владимирович</td>\n      <td>None</td>\n      <td>2019-12-26</td>\n      <td>2019</td>\n      <td>Региональный менеджер FMCG</td>\n      <td>от 250 до 500 сотрудников\\r\\n\\t\\t\\t\\t\\tFMCG</td>\n      <td>мар 1999 - янв 2002 (2 года 11 мес)</td>\n      <td>Афина Групп, ООО</td>\n    </tr>\n  </tbody>\n</table>\n</div>"
     },
     "metadata": {},
     "output_type": "execute_result",
     "execution_count": 23
    }
   ],
   "source": [
    "d"
   ]
  },
  {
   "cell_type": "code",
   "execution_count": 24,
   "metadata": {
    "pycharm": {
     "is_executing": false
    }
   },
   "outputs": [
    {
     "data": {
      "text/plain": "                                                                                                                                                                                                                                                                                     duration\nlink                         name                 age brief                                              update_year предприятие                                        должность                                          отрасль                                            index          \nhttps://rabota.ua/cv/4760938 Александр            44                                                     2019        С-транс, ООО / Inmilkco                            Региональный менеджер FMCG                         от 100 до 250 сотрудников\\r\\n\\t\\t\\t\\t\\tFMCG        0          5.58\n                                                                                                                     Геотранс                                           Коммерческий директор                              от 20 до 50 сотрудников\\r\\n\\t\\t\\t\\t\\tТорговля о... 1          1.50\n                                                                                                                     ДП Милкиленд-Украина                               руководитель отдела ВЭД                            FMCG                                               2          4.25\n                                                                                                                     менеджер ВЭД                                       Директор ВЭД                                       от 20 до 50 сотрудников\\r\\n\\t\\t\\t\\t\\tFMCG          3          1.83\n                                                                                                                     Торговый дом Любас                                 Менеджер по работе с торговыми сетями              от 50 до 100 сотрудников\\r\\n\\t\\t\\t\\t\\tТорговля ... 4          3.33\nhttps://rabota.ua/cv/5757043 Виталий Владимирович 45  Обладаю успешным опытом, организации работы с 0... 2019        Skylark Servises                                   Директор по развитию бизнеса (BDM)                 Консалтинг / Аудит                                 0          3.50\n                                                                                                                     BIGSUN Jewellery                                   Коммерческий Директор (CSO)                        Торговля оптовая / Дистрибуция / Импорт-экспорт    1          1.50\n                                                                                                                     СК «MetLifeAlico», «Aegon Life Ukraine», «ТАС»,... Директор по развитию продаж филиальной сети (Ex... Финансовые услуги                                  2          6.42\n                                                                                                                     Директор департамента региональных продаж.         Директор Агентской сети                            Фармацевтика                                       3          1.00\n                                                                                                                     Директор филиала                                   000 «Эксимгруп»                                    FMCG                                               4          3.50\n                                                                                                                     Кава Трейд Украина (группа компаний «Чайный Мир... Коммерческий директор                              от 100 до 250 сотрудников\\r\\n\\t\\t\\t\\t\\tТорговля... 5          1.08\n                                                                                                                     Афина Групп, ООО                                   Региональный менеджер FMCG                         от 250 до 500 сотрудников\\r\\n\\t\\t\\t\\t\\tFMCG        6          2.92\nhttps://rabota.ua/cv/9778845 Олег Николаевич      46  Руководитель в области продаж с более 15 - летн... 2019        ООО Велес Агро Брокер (Агроэкспорт)                Руководитель отдела развития                       АПК (Агропромышленный комплекс)                    0          1.50\n                                                                                                                     ООО «Ритейл Профешинлз Украина»                    Региональный менеджер                              FMCG                                               1          2.00\n                                                                                                                     Кока-Кола Беверіджиз Україна                       Региональный менеджер по работе с ключевыми кли... более 500 сотрудников\\r\\n\\t\\t\\t\\t\\tFMCG            2          1.50\n                                                                                                                     ПАО Мироновский Хлебопродукт (ТМ Наша Ряба)        Региональный Менеджер по работе с ключевыми кли... FMCG                                               3          2.33\n                                                                                                                     ЗАО Чумак                                          Региональный  менеджер по работе с ключевыми кл... FMCG                                               4          3.08\n                                                                                                                     Монделіс Україна, ПАТ / Крафт Фудз Україна         Региональный менеджер по работе с ключевыми кли... более 500 сотрудников\\r\\n\\t\\t\\t\\t\\tFMCG            5          5.17\n                                                                                                                     АЛМИ-Трейд, ООО                                    Супервайзер                                        более 500 сотрудников\\r\\n\\t\\t\\t\\t\\tТорговля опт... 6          4.08",
      "text/html": "<div>\n<style scoped>\n    .dataframe tbody tr th:only-of-type {\n        vertical-align: middle;\n    }\n\n    .dataframe tbody tr th {\n        vertical-align: top;\n    }\n\n    .dataframe thead th {\n        text-align: right;\n    }\n</style>\n<table border=\"1\" class=\"dataframe\">\n  <thead>\n    <tr style=\"text-align: right;\">\n      <th></th>\n      <th></th>\n      <th></th>\n      <th></th>\n      <th></th>\n      <th></th>\n      <th></th>\n      <th></th>\n      <th></th>\n      <th>duration</th>\n    </tr>\n    <tr>\n      <th>link</th>\n      <th>name</th>\n      <th>age</th>\n      <th>brief</th>\n      <th>update_year</th>\n      <th>предприятие</th>\n      <th>должность</th>\n      <th>отрасль</th>\n      <th>index</th>\n      <th></th>\n    </tr>\n  </thead>\n  <tbody>\n    <tr>\n      <th rowspan=\"5\" valign=\"top\">https://rabota.ua/cv/4760938</th>\n      <th rowspan=\"5\" valign=\"top\">Александр</th>\n      <th rowspan=\"5\" valign=\"top\">44</th>\n      <th rowspan=\"5\" valign=\"top\"></th>\n      <th rowspan=\"5\" valign=\"top\">2019</th>\n      <th>С-транс, ООО / Inmilkco</th>\n      <th>Региональный менеджер FMCG</th>\n      <th>от 100 до 250 сотрудников\\r\\n\\t\\t\\t\\t\\tFMCG</th>\n      <th>0</th>\n      <td>5.58</td>\n    </tr>\n    <tr>\n      <th>Геотранс</th>\n      <th>Коммерческий директор</th>\n      <th>от 20 до 50 сотрудников\\r\\n\\t\\t\\t\\t\\tТорговля оптовая / Дистрибуция / Импорт-экспорт</th>\n      <th>1</th>\n      <td>1.50</td>\n    </tr>\n    <tr>\n      <th>ДП Милкиленд-Украина</th>\n      <th>руководитель отдела ВЭД</th>\n      <th>FMCG</th>\n      <th>2</th>\n      <td>4.25</td>\n    </tr>\n    <tr>\n      <th>менеджер ВЭД</th>\n      <th>Директор ВЭД</th>\n      <th>от 20 до 50 сотрудников\\r\\n\\t\\t\\t\\t\\tFMCG</th>\n      <th>3</th>\n      <td>1.83</td>\n    </tr>\n    <tr>\n      <th>Торговый дом Любас</th>\n      <th>Менеджер по работе с торговыми сетями</th>\n      <th>от 50 до 100 сотрудников\\r\\n\\t\\t\\t\\t\\tТорговля оптовая / Дистрибуция / Импорт-экспорт</th>\n      <th>4</th>\n      <td>3.33</td>\n    </tr>\n    <tr>\n      <th rowspan=\"7\" valign=\"top\">https://rabota.ua/cv/5757043</th>\n      <th rowspan=\"7\" valign=\"top\">Виталий Владимирович</th>\n      <th rowspan=\"7\" valign=\"top\">45</th>\n      <th rowspan=\"7\" valign=\"top\">Обладаю успешным опытом, организации работы с 0, построения стратегий и управления продажами на B2B и B2C рынках в сфере FMCG, Финансовом секторе, Ювелирной промышленности, сфере Услуг и Консалтинга. Работаю на РЕЗУЛЬТАТ.Владею навыками Прогнозирования и стратегического планирования, Управления и развития продаж, Анализа эффективности и Кризис менеджмента, Командообразования, Рекрутинга, Мотивации, Обучения и развития персонала в том числе коучинга и наставничества.</th>\n      <th rowspan=\"7\" valign=\"top\">2019</th>\n      <th>Skylark Servises</th>\n      <th>Директор по развитию бизнеса (BDM)</th>\n      <th>Консалтинг / Аудит</th>\n      <th>0</th>\n      <td>3.50</td>\n    </tr>\n    <tr>\n      <th>BIGSUN Jewellery</th>\n      <th>Коммерческий Директор (CSO)</th>\n      <th>Торговля оптовая / Дистрибуция / Импорт-экспорт</th>\n      <th>1</th>\n      <td>1.50</td>\n    </tr>\n    <tr>\n      <th>СК «MetLifeAlico», «Aegon Life Ukraine», «ТАС», Киев</th>\n      <th>Директор по развитию продаж филиальной сети (Executive Business Development Manager)</th>\n      <th>Финансовые услуги</th>\n      <th>2</th>\n      <td>6.42</td>\n    </tr>\n    <tr>\n      <th>Директор департамента региональных продаж.</th>\n      <th>Директор Агентской сети</th>\n      <th>Фармацевтика</th>\n      <th>3</th>\n      <td>1.00</td>\n    </tr>\n    <tr>\n      <th>Директор филиала</th>\n      <th>000 «Эксимгруп»</th>\n      <th>FMCG</th>\n      <th>4</th>\n      <td>3.50</td>\n    </tr>\n    <tr>\n      <th>Кава Трейд Украина (группа компаний «Чайный Мир») (FMCG)</th>\n      <th>Коммерческий директор</th>\n      <th>от 100 до 250 сотрудников\\r\\n\\t\\t\\t\\t\\tТорговля оптовая / Дистрибуция / Импорт-экспорт</th>\n      <th>5</th>\n      <td>1.08</td>\n    </tr>\n    <tr>\n      <th>Афина Групп, ООО</th>\n      <th>Региональный менеджер FMCG</th>\n      <th>от 250 до 500 сотрудников\\r\\n\\t\\t\\t\\t\\tFMCG</th>\n      <th>6</th>\n      <td>2.92</td>\n    </tr>\n    <tr>\n      <th rowspan=\"7\" valign=\"top\">https://rabota.ua/cv/9778845</th>\n      <th rowspan=\"7\" valign=\"top\">Олег Николаевич</th>\n      <th rowspan=\"7\" valign=\"top\">46</th>\n      <th rowspan=\"7\" valign=\"top\">Руководитель в области продаж с более 15 - летним опытом повышения прибыльности бизнеса с помощью инновационных методик  и системы эффективных продаж.Навыки: управления персоналом,  подбора, обучения и мотивации,  анализа и составления бюджета, ведения переговоров  планирования</th>\n      <th rowspan=\"7\" valign=\"top\">2019</th>\n      <th>ООО Велес Агро Брокер (Агроэкспорт)</th>\n      <th>Руководитель отдела развития</th>\n      <th>АПК (Агропромышленный комплекс)</th>\n      <th>0</th>\n      <td>1.50</td>\n    </tr>\n    <tr>\n      <th>ООО «Ритейл Профешинлз Украина»</th>\n      <th>Региональный менеджер</th>\n      <th>FMCG</th>\n      <th>1</th>\n      <td>2.00</td>\n    </tr>\n    <tr>\n      <th>Кока-Кола Беверіджиз Україна</th>\n      <th>Региональный менеджер по работе с ключевыми клиентами / торговыми сетями FMCG</th>\n      <th>более 500 сотрудников\\r\\n\\t\\t\\t\\t\\tFMCG</th>\n      <th>2</th>\n      <td>1.50</td>\n    </tr>\n    <tr>\n      <th>ПАО Мироновский Хлебопродукт (ТМ Наша Ряба)</th>\n      <th>Региональный Менеджер по работе с ключевыми клиентами / торговыми сетями FMCG</th>\n      <th>FMCG</th>\n      <th>3</th>\n      <td>2.33</td>\n    </tr>\n    <tr>\n      <th>ЗАО Чумак</th>\n      <th>Региональный  менеджер по работе с ключевыми клиентами/торговыми сетями</th>\n      <th>FMCG</th>\n      <th>4</th>\n      <td>3.08</td>\n    </tr>\n    <tr>\n      <th>Монделіс Україна, ПАТ / Крафт Фудз Україна</th>\n      <th>Региональный менеджер по работе с ключевыми клиентами / торговыми сетями FMCG</th>\n      <th>более 500 сотрудников\\r\\n\\t\\t\\t\\t\\tFMCG</th>\n      <th>5</th>\n      <td>5.17</td>\n    </tr>\n    <tr>\n      <th>АЛМИ-Трейд, ООО</th>\n      <th>Супервайзер</th>\n      <th>более 500 сотрудников\\r\\n\\t\\t\\t\\t\\tТорговля оптовая / Дистрибуция / Импорт-экспорт</th>\n      <th>6</th>\n      <td>4.08</td>\n    </tr>\n  </tbody>\n</table>\n</div>"
     },
     "metadata": {},
     "output_type": "execute_result",
     "execution_count": 24
    }
   ],
   "source": [
    "pivot_from_soup_stir(d)"
   ]
  }
 ],
 "metadata": {
  "kernelspec": {
   "display_name": "Python 3",
   "language": "python",
   "name": "python3"
  },
  "varInspector": {
   "cols": {
    "lenName": 16,
    "lenType": 16,
    "lenVar": 40
   },
   "kernels_config": {
    "python": {
     "delete_cmd_postfix": "",
     "delete_cmd_prefix": "del ",
     "library": "var_list.py",
     "varRefreshCmd": "print(var_dic_list())"
    },
    "r": {
     "delete_cmd_postfix": ") ",
     "delete_cmd_prefix": "rm(",
     "library": "var_list.r",
     "varRefreshCmd": "cat(var_dic_list()) "
    }
   },
   "types_to_exclude": [
    "module",
    "function",
    "builtin_function_or_method",
    "instance",
    "_Feature"
   ],
   "window_display": false
  }
 },
 "nbformat": 4,
 "nbformat_minor": 2
}
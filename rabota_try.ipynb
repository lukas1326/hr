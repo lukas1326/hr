{
 "cells": [
  {
   "cell_type": "code",
   "execution_count": 1,
   "metadata": {},
   "outputs": [],
   "source": [
    "from bs4 import BeautifulSoup\n",
    "import requests\n",
    "import urllib.request"
   ]
  },
  {
   "cell_type": "code",
   "execution_count": 20,
   "metadata": {},
   "outputs": [],
   "source": [
    "response=requests.get('https://rabota.ua/cv/5871428')\n",
    "soup=BeautifulSoup(response.text,'html.parser')"
   ]
  },
  {
   "cell_type": "code",
   "execution_count": 21,
   "metadata": {},
   "outputs": [
    {
     "data": {
      "text/plain": [
       "<div id=\"ExperienceHolder\"><h3 class=\"title\"><span>Опыт работы</span></h3><div class=\"noExpdiv\" style=\"display: none\">Нет опыта работы\n",
       "</div><p style=\"margin-bottom: 0\"><b>Коммерческий директор</b><br><em class=\"muted\">сен 2018 - настоящее время (1 год 3 мес)</em></br></p><p class=\"muted\"><b>ООО \"Житомирский молочный завод\"</b><br/><em>FMCG\n",
       "\t\t\t\t</em></p><p>Управляю коммерческой службой предприятия: закупки, продажи, логистика.</p><hr/><p style=\"margin-bottom: 0\"><b>Директор по продажам</b><br/><em class=\"muted\">окт 2014 - мар 2018 (3 года 6 мес)</em></p><p class=\"muted\"><b>ОДО \"ЖЛ\", ТМ \"Житомирские ласощи\"</b><br/><em>FMCG\n",
       "\t\t\t\t</em></p>Управляю продажами компании на территории Украины:<p> </p>- участвую в стратегическом планировании развития компании;<p> </p>- разрабатываю стратегию развития продаж в Украине;<p> </p>- разрабатываю планы продаж в Украине, контролирую выполнение;<p> </p>- разрабатываю торговые условия компани; <p> </p>- руковожу торговым персоналом компании;<p> </p>- управляю дебиторской задолженностью; <p> </p>- разрабатываю и управляю мероприятиями продвижения продукции; <p> </p>- участвую в разработке новых видов продукции;<p> </p>- отчитываюсь перед инвесторами по финансовым результатам.\n",
       "\t\t\t\n",
       "\t\t\n",
       "\t\t\t<hr/><p style=\"margin-bottom: 0\"><b>Директор компании. Директор департамента дистрибьюции группы компаний</b><br/><em class=\"muted\">июл 2010 - июн 2014 (4 года)</em></p><p class=\"muted\"><b>Укрпродуктгрупп (Национальный производитель молочной продукции ТМ \"Наш молочник\", \"Молендам\", \"Народный продукт\"; живого кваса \"Арсеньевский\")</b><br/><em>FMCG\n",
       "\t\t\t\t</em></p><p> </p><p> </p><p>Управляю продажами на территории Украины.</p><p>Управляю финансово-хозяйственной деятельностью предприятия.</p><p>Принимаю участие в стратегическом планировании продаж компании.</p><p>Планирую бюджет предприятия, контролирую его исполнение.</p><p>Принимаю участие в планировании и реализации маркетинговых мероприятий.</p><p>Несу ответственность и отчитываюсь за показатели перед советом директоров, собственниками компании.</p><hr/><p style=\"margin-bottom: 0\"><b>Коммерческий директор управляющей компании</b><br/><em class=\"muted\">окт 2008 - июн 2010 (1 год 9 мес)</em></p><p class=\"muted\"><b>Группа компаний УПАК, прект Dragon Capital (Производстао и продажи мяса птицы, комбикормов, зерновых)</b><br/><em>FMCG\n",
       "\t\t\t\t</em></p><p> </p><p> </p><p>Управлял коммерческой службой группы предприятий - маркетингом, продажами, закупками и логистикой. </p><p>Отчитывался перед наблюдательным советом за финансово-экономические показатели.</p><p> </p><p>Достижения: рестркутуризировал коммерческую службу, согласно требованиям рынка и желаниям собственников, что привело к увеличению прибыльности компании.</p><hr/><p style=\"margin-bottom: 0\"><b>Национальный менеджер по продажам</b><br/><em class=\"muted\">июл 2005 - окт 2008 (3 года 4 мес)</em></p><p class=\"muted\"><b>ОАО \"Житомирский маслозавод\", ТМ \"Рудь\" (Производство и продажи мороженного, маслопродукции, кисломолочной продукции)</b><br/><em>от 20 до 50 сотрудников\n",
       "\t\t\t\t\tFMCG\n",
       "\t\t\t\t</em></p><p> </p><p> </p><p>Управлял продажами продукции компании на территории Украины.</p><p>Управлял персоналом отдела продаж компании. </p><p>Разрабатывал и реализовал программы, направленные на увеличение продаж, доли рынка, доходности компании.</p><p>Участвовал в разработке и реализации маркетинговых программ компании.</p><p>Участвовал и контролировал переговорный и договорной процессы с партнерами.</p><p>Отчитывался перед советом директоров за выполнение поставленных задач.</p><p> </p><p>Достижения: выведение на национальный рынок масопродукции компании. Создание структуры собственных активных продаж кисломолочной продукции, что привело существенному увеличению доли продаж. Выведение на рынок новых видов продукции.</p><hr/><p style=\"margin-bottom: 0\"><b>Начальник отдела продаж</b><br/><em class=\"muted\">июл 1998 - июл 2005 (7 лет 1 мес)</em></p><p class=\"muted\"><b>ООО \"САВсервис\" (Дистрибьюция продукции компании \"Procter &amp; Gamble\")</b><br/><em>от 20 до 50 сотрудников\n",
       "\t\t\t\t\tFMCG\n",
       "\t\t\t\t</em></p><p> </p><p> </p><p>Управлял продажами продукции компании \"Procter &amp; Gamble\" и других производителей на территории Житомирской области.</p><p>Побирал, адаптировал и обучал персонал отдела продаж.</p><p>Реализовал маркетинговые мероприятия компании.</p><p>Отчитывался перед руководством головной компании за выполнение показателей.</p><p> </p><p>Достижения: ни одного уволенного сотрудника отдела продаж, ни одного случая воровства. Награды за выполнение показателей от компании \"Procter &amp; Gamble\".</p></div>"
      ]
     },
     "execution_count": 21,
     "metadata": {},
     "output_type": "execute_result"
    }
   ],
   "source": [
    "exp=soup.find('div',id='ExperienceHolder')\n",
    "exp"
   ]
  },
  {
   "cell_type": "code",
   "execution_count": 35,
   "metadata": {},
   "outputs": [
    {
     "name": "stdout",
     "output_type": "stream",
     "text": [
      "Коммерческий директор\n",
      "сен 2018 - настоящее время (1 год 3 мес)\n",
      "ООО \"Житомирский молочный завод\"\n",
      "FMCG\r\n",
      "\t\t\t\t\n",
      "Директор по продажам\n",
      "окт 2014 - мар 2018 (3 года 6 мес)\n",
      "ОДО \"ЖЛ\", ТМ \"Житомирские ласощи\"\n",
      "FMCG\r\n",
      "\t\t\t\t\n"
     ]
    },
    {
     "ename": "AttributeError",
     "evalue": "'NavigableString' object has no attribute 'find_all'",
     "output_type": "error",
     "traceback": [
      "\u001b[1;31m---------------------------------------------------------------------------\u001b[0m",
      "\u001b[1;31mAttributeError\u001b[0m                            Traceback (most recent call last)",
      "\u001b[1;32m<ipython-input-35-bd9439e9933e>\u001b[0m in \u001b[0;36m<module>\u001b[1;34m\u001b[0m\n\u001b[0;32m      1\u001b[0m \u001b[1;33m\u001b[0m\u001b[0m\n\u001b[0;32m      2\u001b[0m \u001b[1;32mfor\u001b[0m \u001b[0mtag\u001b[0m \u001b[1;32min\u001b[0m \u001b[0mexp\u001b[0m\u001b[1;33m:\u001b[0m\u001b[1;33m\u001b[0m\u001b[1;33m\u001b[0m\u001b[0m\n\u001b[1;32m----> 3\u001b[1;33m     \u001b[0mtdTags\u001b[0m \u001b[1;33m=\u001b[0m \u001b[0mtag\u001b[0m\u001b[1;33m.\u001b[0m\u001b[0mfind_all\u001b[0m\u001b[1;33m(\u001b[0m\u001b[1;34m\"b\"\u001b[0m\u001b[1;33m)\u001b[0m\u001b[1;33m\u001b[0m\u001b[1;33m\u001b[0m\u001b[0m\n\u001b[0m\u001b[0;32m      4\u001b[0m     \u001b[0mku\u001b[0m\u001b[1;33m=\u001b[0m\u001b[0mtag\u001b[0m\u001b[1;33m.\u001b[0m\u001b[0mfind_all\u001b[0m\u001b[1;33m(\u001b[0m\u001b[1;34m'em'\u001b[0m\u001b[1;33m)\u001b[0m\u001b[1;33m\u001b[0m\u001b[1;33m\u001b[0m\u001b[0m\n\u001b[0;32m      5\u001b[0m     \u001b[1;32mfor\u001b[0m \u001b[0mtag\u001b[0m \u001b[1;32min\u001b[0m \u001b[0mtdTags\u001b[0m\u001b[1;33m:\u001b[0m\u001b[1;33m\u001b[0m\u001b[1;33m\u001b[0m\u001b[0m\n",
      "\u001b[1;32m~\\AppData\\Local\\Continuum\\anaconda3\\lib\\site-packages\\bs4\\element.py\u001b[0m in \u001b[0;36m__getattr__\u001b[1;34m(self, attr)\u001b[0m\n\u001b[0;32m    740\u001b[0m             raise AttributeError(\n\u001b[0;32m    741\u001b[0m                 \"'%s' object has no attribute '%s'\" % (\n\u001b[1;32m--> 742\u001b[1;33m                     self.__class__.__name__, attr))\n\u001b[0m\u001b[0;32m    743\u001b[0m \u001b[1;33m\u001b[0m\u001b[0m\n\u001b[0;32m    744\u001b[0m     \u001b[1;32mdef\u001b[0m \u001b[0moutput_ready\u001b[0m\u001b[1;33m(\u001b[0m\u001b[0mself\u001b[0m\u001b[1;33m,\u001b[0m \u001b[0mformatter\u001b[0m\u001b[1;33m=\u001b[0m\u001b[1;34m\"minimal\"\u001b[0m\u001b[1;33m)\u001b[0m\u001b[1;33m:\u001b[0m\u001b[1;33m\u001b[0m\u001b[1;33m\u001b[0m\u001b[0m\n",
      "\u001b[1;31mAttributeError\u001b[0m: 'NavigableString' object has no attribute 'find_all'"
     ]
    }
   ],
   "source": [
    "\n",
    "for tag in exp:\n",
    "    tdTags = tag.find_all(\"b\")\n",
    "    ku=tag.find_all('em')\n",
    "    for tag in tdTags:\n",
    "        print (tag.text)\n",
    "    for i in ku:\n",
    "        print(i.text)"
   ]
  },
  {
   "cell_type": "code",
   "execution_count": 37,
   "metadata": {},
   "outputs": [
    {
     "name": "stdout",
     "output_type": "stream",
     "text": [
      "сен 2018 - настоящее время (1 год 3 мес)\n",
      "FMCG\r\n",
      "\t\t\t\t\n",
      "окт 2014 - мар 2018 (3 года 6 мес)\n",
      "FMCG\r\n",
      "\t\t\t\t\n"
     ]
    },
    {
     "ename": "AttributeError",
     "evalue": "'NavigableString' object has no attribute 'find_all'",
     "output_type": "error",
     "traceback": [
      "\u001b[1;31m---------------------------------------------------------------------------\u001b[0m",
      "\u001b[1;31mAttributeError\u001b[0m                            Traceback (most recent call last)",
      "\u001b[1;32m<ipython-input-37-798005dc9f66>\u001b[0m in \u001b[0;36m<module>\u001b[1;34m\u001b[0m\n\u001b[0;32m      1\u001b[0m \u001b[1;32mfor\u001b[0m \u001b[0mtag\u001b[0m \u001b[1;32min\u001b[0m \u001b[0mexp\u001b[0m\u001b[1;33m:\u001b[0m\u001b[1;33m\u001b[0m\u001b[1;33m\u001b[0m\u001b[0m\n\u001b[0;32m      2\u001b[0m     \u001b[1;31m#tdTags = tag.find_all(\"b\")\u001b[0m\u001b[1;33m\u001b[0m\u001b[1;33m\u001b[0m\u001b[1;33m\u001b[0m\u001b[0m\n\u001b[1;32m----> 3\u001b[1;33m     \u001b[0mku\u001b[0m\u001b[1;33m=\u001b[0m\u001b[0mtag\u001b[0m\u001b[1;33m.\u001b[0m\u001b[0mfind_all\u001b[0m\u001b[1;33m(\u001b[0m\u001b[1;34m'em'\u001b[0m\u001b[1;33m)\u001b[0m\u001b[1;33m\u001b[0m\u001b[1;33m\u001b[0m\u001b[0m\n\u001b[0m\u001b[0;32m      4\u001b[0m     \u001b[1;31m#for tag in tdTags:\u001b[0m\u001b[1;33m\u001b[0m\u001b[1;33m\u001b[0m\u001b[1;33m\u001b[0m\u001b[0m\n\u001b[0;32m      5\u001b[0m         \u001b[1;31m#print (tag.text)\u001b[0m\u001b[1;33m\u001b[0m\u001b[1;33m\u001b[0m\u001b[1;33m\u001b[0m\u001b[0m\n",
      "\u001b[1;32m~\\AppData\\Local\\Continuum\\anaconda3\\lib\\site-packages\\bs4\\element.py\u001b[0m in \u001b[0;36m__getattr__\u001b[1;34m(self, attr)\u001b[0m\n\u001b[0;32m    740\u001b[0m             raise AttributeError(\n\u001b[0;32m    741\u001b[0m                 \"'%s' object has no attribute '%s'\" % (\n\u001b[1;32m--> 742\u001b[1;33m                     self.__class__.__name__, attr))\n\u001b[0m\u001b[0;32m    743\u001b[0m \u001b[1;33m\u001b[0m\u001b[0m\n\u001b[0;32m    744\u001b[0m     \u001b[1;32mdef\u001b[0m \u001b[0moutput_ready\u001b[0m\u001b[1;33m(\u001b[0m\u001b[0mself\u001b[0m\u001b[1;33m,\u001b[0m \u001b[0mformatter\u001b[0m\u001b[1;33m=\u001b[0m\u001b[1;34m\"minimal\"\u001b[0m\u001b[1;33m)\u001b[0m\u001b[1;33m:\u001b[0m\u001b[1;33m\u001b[0m\u001b[1;33m\u001b[0m\u001b[0m\n",
      "\u001b[1;31mAttributeError\u001b[0m: 'NavigableString' object has no attribute 'find_all'"
     ]
    }
   ],
   "source": [
    "for tag in exp:\n",
    "    #tdTags = tag.find_all(\"b\")\n",
    "    ku=tag.find_all('em')\n",
    "    #for tag in tdTags:\n",
    "        #print (tag.text)\n",
    "    for i in ku:\n",
    "        print(i.text)"
   ]
  }
 ],
 "metadata": {
  "kernelspec": {
   "display_name": "Python 3",
   "language": "python",
   "name": "python3"
  },
  "language_info": {
   "codemirror_mode": {
    "name": "ipython",
    "version": 3
   },
   "file_extension": ".py",
   "mimetype": "text/x-python",
   "name": "python",
   "nbconvert_exporter": "python",
   "pygments_lexer": "ipython3",
   "version": "3.7.3"
  },
  "varInspector": {
   "cols": {
    "lenName": 16,
    "lenType": 16,
    "lenVar": 40
   },
   "kernels_config": {
    "python": {
     "delete_cmd_postfix": "",
     "delete_cmd_prefix": "del ",
     "library": "var_list.py",
     "varRefreshCmd": "print(var_dic_list())"
    },
    "r": {
     "delete_cmd_postfix": ") ",
     "delete_cmd_prefix": "rm(",
     "library": "var_list.r",
     "varRefreshCmd": "cat(var_dic_list()) "
    }
   },
   "types_to_exclude": [
    "module",
    "function",
    "builtin_function_or_method",
    "instance",
    "_Feature"
   ],
   "window_display": false
  }
 },
 "nbformat": 4,
 "nbformat_minor": 2
}

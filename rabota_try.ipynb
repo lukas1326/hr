{
 "cells": [
  {
   "cell_type": "code",
   "execution_count": 1,
   "metadata": {},
   "outputs": [],
   "source": [
    "from bs4 import BeautifulSoup\n",
    "import requests\n",
    "import urllib.request"
   ]
  },
  {
   "cell_type": "code",
   "execution_count": 2,
   "metadata": {},
   "outputs": [],
   "source": [
    "link='https://rabota.ua/cv/13317005'\n",
    "response=requests.get(link)\n"
   ]
  },
  {
   "cell_type": "code",
   "execution_count": 3,
   "metadata": {},
   "outputs": [],
   "source": [
    "html_contents = response.text\n",
    "html_soup = BeautifulSoup(html_contents,'html.parser')"
   ]
  },
  {
   "cell_type": "code",
   "execution_count": 4,
   "metadata": {},
   "outputs": [],
   "source": [
    "gde=[]\n",
    "kogda=[]\n",
    "b1=html_soup.find('div',id='ExperienceHolder').find_all('b')\n",
    "m=html_soup.find('div',id='ExperienceHolder').find_all('em')\n",
    "for i in b1:\n",
    "    gde.append(i.text.strip())\n",
    "for k in m:\n",
    "    kogda.append(k.text.strip())"
   ]
  },
  {
   "cell_type": "code",
   "execution_count": 5,
   "metadata": {
    "scrolled": true
   },
   "outputs": [
    {
     "data": {
      "text/plain": [
       "['исполнительный директор, генеральный директор',\n",
       " '«Тринатурс-Украина» (туристический оператор: бронирование отелей и других туруслуг в мире через систему онлайн бронирования Bedsonline (часть TUI Travel), дистрибуция и работа в B2B-продажах',\n",
       " 'начальник продаж по г. Киев, начальник регионального отдела продаж;',\n",
       " 'компания «Баядера-Импорт», г. Киев,',\n",
       " 'директор филиала в Киеве (открытие филиала и построение дистрибьюторской сети по Киеву), начальник о',\n",
       " 'компания «Сандора», г. Николаев, г.Киев']"
      ]
     },
     "execution_count": 5,
     "metadata": {},
     "output_type": "execute_result"
    }
   ],
   "source": [
    "gde=[x for x in gde if \"Достиж\" not in x]\n",
    "gde=[x for x in gde if \"Рекоменд\" not in x]\n",
    "gde=[x for x in gde if \"улучш\" not in x]\n",
    "gde=[x for x in gde if \"Результ\" not in x]\n",
    "gde=[x for x in gde if \"Обязанн\" not in x]\n",
    "gde=[x for x in gde if \"достиж\" not in x]\n",
    "gde"
   ]
  },
  {
   "cell_type": "code",
   "execution_count": 6,
   "metadata": {},
   "outputs": [],
   "source": [
    "gde=gde[:min(len(gde),len(kogda))]\n",
    "kogda=kogda[:min(len(gde),len(kogda))]"
   ]
  },
  {
   "cell_type": "code",
   "execution_count": 7,
   "metadata": {
    "scrolled": true
   },
   "outputs": [
    {
     "data": {
      "text/plain": [
       "['фев 2006 - настоящее время (13 лет 11 мес)',\n",
       " 'Туризм / Путешествия / Пассажирские перевозки',\n",
       " 'авг 2002 - апр 2005 (2 года 9 мес)',\n",
       " 'Торговля оптовая / Дистрибуция / Импорт-экспорт',\n",
       " 'июл 1997 - ноя 2000 (3 года 5 мес)',\n",
       " 'Торговля оптовая / Дистрибуция / Импорт-экспорт']"
      ]
     },
     "execution_count": 7,
     "metadata": {},
     "output_type": "execute_result"
    }
   ],
   "source": [
    "kogda"
   ]
  },
  {
   "cell_type": "code",
   "execution_count": 8,
   "metadata": {},
   "outputs": [],
   "source": [
    "import pandas as pd\n",
    "d = {'должность':gde,'период':kogda}\n",
    "uh=pd.DataFrame(d)\n"
   ]
  },
  {
   "cell_type": "code",
   "execution_count": 9,
   "metadata": {},
   "outputs": [
    {
     "data": {
      "text/html": [
       "<div>\n",
       "<style scoped>\n",
       "    .dataframe tbody tr th:only-of-type {\n",
       "        vertical-align: middle;\n",
       "    }\n",
       "\n",
       "    .dataframe tbody tr th {\n",
       "        vertical-align: top;\n",
       "    }\n",
       "\n",
       "    .dataframe thead th {\n",
       "        text-align: right;\n",
       "    }\n",
       "</style>\n",
       "<table border=\"1\" class=\"dataframe\">\n",
       "  <thead>\n",
       "    <tr style=\"text-align: right;\">\n",
       "      <th></th>\n",
       "      <th>должность</th>\n",
       "      <th>период</th>\n",
       "    </tr>\n",
       "  </thead>\n",
       "  <tbody>\n",
       "    <tr>\n",
       "      <th>0</th>\n",
       "      <td>исполнительный директор, генеральный директор</td>\n",
       "      <td>фев 2006 - настоящее время (13 лет 11 мес)</td>\n",
       "    </tr>\n",
       "    <tr>\n",
       "      <th>1</th>\n",
       "      <td>«Тринатурс-Украина» (туристический оператор: б...</td>\n",
       "      <td>Туризм / Путешествия / Пассажирские перевозки</td>\n",
       "    </tr>\n",
       "    <tr>\n",
       "      <th>2</th>\n",
       "      <td>начальник продаж по г. Киев, начальник региона...</td>\n",
       "      <td>авг 2002 - апр 2005 (2 года 9 мес)</td>\n",
       "    </tr>\n",
       "    <tr>\n",
       "      <th>3</th>\n",
       "      <td>компания «Баядера-Импорт», г. Киев,</td>\n",
       "      <td>Торговля оптовая / Дистрибуция / Импорт-экспорт</td>\n",
       "    </tr>\n",
       "    <tr>\n",
       "      <th>4</th>\n",
       "      <td>директор филиала в Киеве (открытие филиала и п...</td>\n",
       "      <td>июл 1997 - ноя 2000 (3 года 5 мес)</td>\n",
       "    </tr>\n",
       "    <tr>\n",
       "      <th>5</th>\n",
       "      <td>компания «Сандора», г. Николаев, г.Киев</td>\n",
       "      <td>Торговля оптовая / Дистрибуция / Импорт-экспорт</td>\n",
       "    </tr>\n",
       "  </tbody>\n",
       "</table>\n",
       "</div>"
      ],
      "text/plain": [
       "                                           должность  \\\n",
       "0      исполнительный директор, генеральный директор   \n",
       "1  «Тринатурс-Украина» (туристический оператор: б...   \n",
       "2  начальник продаж по г. Киев, начальник региона...   \n",
       "3                компания «Баядера-Импорт», г. Киев,   \n",
       "4  директор филиала в Киеве (открытие филиала и п...   \n",
       "5            компания «Сандора», г. Николаев, г.Киев   \n",
       "\n",
       "                                            период  \n",
       "0       фев 2006 - настоящее время (13 лет 11 мес)  \n",
       "1    Туризм / Путешествия / Пассажирские перевозки  \n",
       "2               авг 2002 - апр 2005 (2 года 9 мес)  \n",
       "3  Торговля оптовая / Дистрибуция / Импорт-экспорт  \n",
       "4               июл 1997 - ноя 2000 (3 года 5 мес)  \n",
       "5  Торговля оптовая / Дистрибуция / Импорт-экспорт  "
      ]
     },
     "execution_count": 9,
     "metadata": {},
     "output_type": "execute_result"
    }
   ],
   "source": [
    "uh"
   ]
  },
  {
   "cell_type": "code",
   "execution_count": 10,
   "metadata": {},
   "outputs": [],
   "source": [
    "uh['предприятие']=uh['должность'].shift(-1)"
   ]
  },
  {
   "cell_type": "code",
   "execution_count": 11,
   "metadata": {},
   "outputs": [
    {
     "data": {
      "text/html": [
       "<div>\n",
       "<style scoped>\n",
       "    .dataframe tbody tr th:only-of-type {\n",
       "        vertical-align: middle;\n",
       "    }\n",
       "\n",
       "    .dataframe tbody tr th {\n",
       "        vertical-align: top;\n",
       "    }\n",
       "\n",
       "    .dataframe thead th {\n",
       "        text-align: right;\n",
       "    }\n",
       "</style>\n",
       "<table border=\"1\" class=\"dataframe\">\n",
       "  <thead>\n",
       "    <tr style=\"text-align: right;\">\n",
       "      <th></th>\n",
       "      <th>должность</th>\n",
       "      <th>период</th>\n",
       "      <th>предприятие</th>\n",
       "    </tr>\n",
       "  </thead>\n",
       "  <tbody>\n",
       "    <tr>\n",
       "      <th>0</th>\n",
       "      <td>исполнительный директор, генеральный директор</td>\n",
       "      <td>фев 2006 - настоящее время (13 лет 11 мес)</td>\n",
       "      <td>«Тринатурс-Украина» (туристический оператор: б...</td>\n",
       "    </tr>\n",
       "    <tr>\n",
       "      <th>1</th>\n",
       "      <td>«Тринатурс-Украина» (туристический оператор: б...</td>\n",
       "      <td>Туризм / Путешествия / Пассажирские перевозки</td>\n",
       "      <td>начальник продаж по г. Киев, начальник региона...</td>\n",
       "    </tr>\n",
       "    <tr>\n",
       "      <th>2</th>\n",
       "      <td>начальник продаж по г. Киев, начальник региона...</td>\n",
       "      <td>авг 2002 - апр 2005 (2 года 9 мес)</td>\n",
       "      <td>компания «Баядера-Импорт», г. Киев,</td>\n",
       "    </tr>\n",
       "    <tr>\n",
       "      <th>3</th>\n",
       "      <td>компания «Баядера-Импорт», г. Киев,</td>\n",
       "      <td>Торговля оптовая / Дистрибуция / Импорт-экспорт</td>\n",
       "      <td>директор филиала в Киеве (открытие филиала и п...</td>\n",
       "    </tr>\n",
       "    <tr>\n",
       "      <th>4</th>\n",
       "      <td>директор филиала в Киеве (открытие филиала и п...</td>\n",
       "      <td>июл 1997 - ноя 2000 (3 года 5 мес)</td>\n",
       "      <td>компания «Сандора», г. Николаев, г.Киев</td>\n",
       "    </tr>\n",
       "    <tr>\n",
       "      <th>5</th>\n",
       "      <td>компания «Сандора», г. Николаев, г.Киев</td>\n",
       "      <td>Торговля оптовая / Дистрибуция / Импорт-экспорт</td>\n",
       "      <td>NaN</td>\n",
       "    </tr>\n",
       "  </tbody>\n",
       "</table>\n",
       "</div>"
      ],
      "text/plain": [
       "                                           должность  \\\n",
       "0      исполнительный директор, генеральный директор   \n",
       "1  «Тринатурс-Украина» (туристический оператор: б...   \n",
       "2  начальник продаж по г. Киев, начальник региона...   \n",
       "3                компания «Баядера-Импорт», г. Киев,   \n",
       "4  директор филиала в Киеве (открытие филиала и п...   \n",
       "5            компания «Сандора», г. Николаев, г.Киев   \n",
       "\n",
       "                                            период  \\\n",
       "0       фев 2006 - настоящее время (13 лет 11 мес)   \n",
       "1    Туризм / Путешествия / Пассажирские перевозки   \n",
       "2               авг 2002 - апр 2005 (2 года 9 мес)   \n",
       "3  Торговля оптовая / Дистрибуция / Импорт-экспорт   \n",
       "4               июл 1997 - ноя 2000 (3 года 5 мес)   \n",
       "5  Торговля оптовая / Дистрибуция / Импорт-экспорт   \n",
       "\n",
       "                                         предприятие  \n",
       "0  «Тринатурс-Украина» (туристический оператор: б...  \n",
       "1  начальник продаж по г. Киев, начальник региона...  \n",
       "2                компания «Баядера-Импорт», г. Киев,  \n",
       "3  директор филиала в Киеве (открытие филиала и п...  \n",
       "4            компания «Сандора», г. Николаев, г.Киев  \n",
       "5                                                NaN  "
      ]
     },
     "execution_count": 11,
     "metadata": {},
     "output_type": "execute_result"
    }
   ],
   "source": [
    "uh\n"
   ]
  },
  {
   "cell_type": "code",
   "execution_count": 12,
   "metadata": {},
   "outputs": [
    {
     "data": {
      "text/html": [
       "<div>\n",
       "<style scoped>\n",
       "    .dataframe tbody tr th:only-of-type {\n",
       "        vertical-align: middle;\n",
       "    }\n",
       "\n",
       "    .dataframe tbody tr th {\n",
       "        vertical-align: top;\n",
       "    }\n",
       "\n",
       "    .dataframe thead th {\n",
       "        text-align: right;\n",
       "    }\n",
       "</style>\n",
       "<table border=\"1\" class=\"dataframe\">\n",
       "  <thead>\n",
       "    <tr style=\"text-align: right;\">\n",
       "      <th></th>\n",
       "      <th>должность</th>\n",
       "      <th>период</th>\n",
       "      <th>предприятие</th>\n",
       "      <th>отрасль</th>\n",
       "    </tr>\n",
       "  </thead>\n",
       "  <tbody>\n",
       "    <tr>\n",
       "      <th>0</th>\n",
       "      <td>исполнительный директор, генеральный директор</td>\n",
       "      <td>фев 2006 - настоящее время (13 лет 11 мес)</td>\n",
       "      <td>«Тринатурс-Украина» (туристический оператор: б...</td>\n",
       "      <td>Туризм / Путешествия / Пассажирские перевозки</td>\n",
       "    </tr>\n",
       "    <tr>\n",
       "      <th>2</th>\n",
       "      <td>начальник продаж по г. Киев, начальник региона...</td>\n",
       "      <td>авг 2002 - апр 2005 (2 года 9 мес)</td>\n",
       "      <td>компания «Баядера-Импорт», г. Киев,</td>\n",
       "      <td>Торговля оптовая / Дистрибуция / Импорт-экспорт</td>\n",
       "    </tr>\n",
       "    <tr>\n",
       "      <th>4</th>\n",
       "      <td>директор филиала в Киеве (открытие филиала и п...</td>\n",
       "      <td>июл 1997 - ноя 2000 (3 года 5 мес)</td>\n",
       "      <td>компания «Сандора», г. Николаев, г.Киев</td>\n",
       "      <td>Торговля оптовая / Дистрибуция / Импорт-экспорт</td>\n",
       "    </tr>\n",
       "  </tbody>\n",
       "</table>\n",
       "</div>"
      ],
      "text/plain": [
       "                                           должность  \\\n",
       "0      исполнительный директор, генеральный директор   \n",
       "2  начальник продаж по г. Киев, начальник региона...   \n",
       "4  директор филиала в Киеве (открытие филиала и п...   \n",
       "\n",
       "                                       период  \\\n",
       "0  фев 2006 - настоящее время (13 лет 11 мес)   \n",
       "2          авг 2002 - апр 2005 (2 года 9 мес)   \n",
       "4          июл 1997 - ноя 2000 (3 года 5 мес)   \n",
       "\n",
       "                                         предприятие  \\\n",
       "0  «Тринатурс-Украина» (туристический оператор: б...   \n",
       "2                компания «Баядера-Импорт», г. Киев,   \n",
       "4            компания «Сандора», г. Николаев, г.Киев   \n",
       "\n",
       "                                           отрасль  \n",
       "0    Туризм / Путешествия / Пассажирские перевозки  \n",
       "2  Торговля оптовая / Дистрибуция / Импорт-экспорт  \n",
       "4  Торговля оптовая / Дистрибуция / Импорт-экспорт  "
      ]
     },
     "execution_count": 12,
     "metadata": {},
     "output_type": "execute_result"
    }
   ],
   "source": [
    "uh['отрасль']=uh['период'].shift(-1)\n",
    "uhh=uh.iloc[::2, :]\n",
    "uhh"
   ]
  },
  {
   "cell_type": "code",
   "execution_count": 13,
   "metadata": {
    "scrolled": true
   },
   "outputs": [
    {
     "name": "stderr",
     "output_type": "stream",
     "text": [
      "D:\\Users\\o.lukasevych\\AppData\\Local\\Continuum\\anaconda3\\lib\\site-packages\\ipykernel_launcher.py:3: SettingWithCopyWarning: \n",
      "A value is trying to be set on a copy of a slice from a DataFrame.\n",
      "Try using .loc[row_indexer,col_indexer] = value instead\n",
      "\n",
      "See the caveats in the documentation: http://pandas.pydata.org/pandas-docs/stable/indexing.html#indexing-view-versus-copy\n",
      "  This is separate from the ipykernel package so we can avoid doing imports until\n",
      "D:\\Users\\o.lukasevych\\AppData\\Local\\Continuum\\anaconda3\\lib\\site-packages\\ipykernel_launcher.py:4: SettingWithCopyWarning: \n",
      "A value is trying to be set on a copy of a slice from a DataFrame.\n",
      "Try using .loc[row_indexer,col_indexer] = value instead\n",
      "\n",
      "See the caveats in the documentation: http://pandas.pydata.org/pandas-docs/stable/indexing.html#indexing-view-versus-copy\n",
      "  after removing the cwd from sys.path.\n"
     ]
    }
   ],
   "source": [
    "import re\n",
    "regex=re.compile('(\\(\\d+.лет|\\(\\d+.год)')\n",
    "uhh['год']=uhh['период'].str.extract(regex)\n",
    "uhh['год']=uhh['год'].str.extract(r'(\\d+)').fillna(0)"
   ]
  },
  {
   "cell_type": "code",
   "execution_count": 14,
   "metadata": {},
   "outputs": [
    {
     "data": {
      "text/html": [
       "<div>\n",
       "<style scoped>\n",
       "    .dataframe tbody tr th:only-of-type {\n",
       "        vertical-align: middle;\n",
       "    }\n",
       "\n",
       "    .dataframe tbody tr th {\n",
       "        vertical-align: top;\n",
       "    }\n",
       "\n",
       "    .dataframe thead th {\n",
       "        text-align: right;\n",
       "    }\n",
       "</style>\n",
       "<table border=\"1\" class=\"dataframe\">\n",
       "  <thead>\n",
       "    <tr style=\"text-align: right;\">\n",
       "      <th></th>\n",
       "      <th>должность</th>\n",
       "      <th>период</th>\n",
       "      <th>предприятие</th>\n",
       "      <th>отрасль</th>\n",
       "      <th>год</th>\n",
       "    </tr>\n",
       "  </thead>\n",
       "  <tbody>\n",
       "    <tr>\n",
       "      <th>0</th>\n",
       "      <td>исполнительный директор, генеральный директор</td>\n",
       "      <td>фев 2006 - настоящее время (13 лет 11 мес)</td>\n",
       "      <td>«Тринатурс-Украина» (туристический оператор: б...</td>\n",
       "      <td>Туризм / Путешествия / Пассажирские перевозки</td>\n",
       "      <td>13</td>\n",
       "    </tr>\n",
       "    <tr>\n",
       "      <th>2</th>\n",
       "      <td>начальник продаж по г. Киев, начальник региона...</td>\n",
       "      <td>авг 2002 - апр 2005 (2 года 9 мес)</td>\n",
       "      <td>компания «Баядера-Импорт», г. Киев,</td>\n",
       "      <td>Торговля оптовая / Дистрибуция / Импорт-экспорт</td>\n",
       "      <td>2</td>\n",
       "    </tr>\n",
       "    <tr>\n",
       "      <th>4</th>\n",
       "      <td>директор филиала в Киеве (открытие филиала и п...</td>\n",
       "      <td>июл 1997 - ноя 2000 (3 года 5 мес)</td>\n",
       "      <td>компания «Сандора», г. Николаев, г.Киев</td>\n",
       "      <td>Торговля оптовая / Дистрибуция / Импорт-экспорт</td>\n",
       "      <td>3</td>\n",
       "    </tr>\n",
       "  </tbody>\n",
       "</table>\n",
       "</div>"
      ],
      "text/plain": [
       "                                           должность  \\\n",
       "0      исполнительный директор, генеральный директор   \n",
       "2  начальник продаж по г. Киев, начальник региона...   \n",
       "4  директор филиала в Киеве (открытие филиала и п...   \n",
       "\n",
       "                                       период  \\\n",
       "0  фев 2006 - настоящее время (13 лет 11 мес)   \n",
       "2          авг 2002 - апр 2005 (2 года 9 мес)   \n",
       "4          июл 1997 - ноя 2000 (3 года 5 мес)   \n",
       "\n",
       "                                         предприятие  \\\n",
       "0  «Тринатурс-Украина» (туристический оператор: б...   \n",
       "2                компания «Баядера-Импорт», г. Киев,   \n",
       "4            компания «Сандора», г. Николаев, г.Киев   \n",
       "\n",
       "                                           отрасль год  \n",
       "0    Туризм / Путешествия / Пассажирские перевозки  13  \n",
       "2  Торговля оптовая / Дистрибуция / Импорт-экспорт   2  \n",
       "4  Торговля оптовая / Дистрибуция / Импорт-экспорт   3  "
      ]
     },
     "execution_count": 14,
     "metadata": {},
     "output_type": "execute_result"
    }
   ],
   "source": [
    "uhh"
   ]
  },
  {
   "cell_type": "code",
   "execution_count": 15,
   "metadata": {},
   "outputs": [
    {
     "name": "stderr",
     "output_type": "stream",
     "text": [
      "D:\\Users\\o.lukasevych\\AppData\\Local\\Continuum\\anaconda3\\lib\\site-packages\\ipykernel_launcher.py:1: SettingWithCopyWarning: \n",
      "A value is trying to be set on a copy of a slice from a DataFrame.\n",
      "Try using .loc[row_indexer,col_indexer] = value instead\n",
      "\n",
      "See the caveats in the documentation: http://pandas.pydata.org/pandas-docs/stable/indexing.html#indexing-view-versus-copy\n",
      "  \"\"\"Entry point for launching an IPython kernel.\n"
     ]
    }
   ],
   "source": [
    "uhh['мес']=uhh['период'].str.extract('(\\d+).мес').fillna(0)"
   ]
  },
  {
   "cell_type": "code",
   "execution_count": 16,
   "metadata": {},
   "outputs": [
    {
     "name": "stderr",
     "output_type": "stream",
     "text": [
      "D:\\Users\\o.lukasevych\\AppData\\Local\\Continuum\\anaconda3\\lib\\site-packages\\ipykernel_launcher.py:1: SettingWithCopyWarning: \n",
      "A value is trying to be set on a copy of a slice from a DataFrame.\n",
      "Try using .loc[row_indexer,col_indexer] = value instead\n",
      "\n",
      "See the caveats in the documentation: http://pandas.pydata.org/pandas-docs/stable/indexing.html#indexing-view-versus-copy\n",
      "  \"\"\"Entry point for launching an IPython kernel.\n",
      "D:\\Users\\o.lukasevych\\AppData\\Local\\Continuum\\anaconda3\\lib\\site-packages\\ipykernel_launcher.py:2: SettingWithCopyWarning: \n",
      "A value is trying to be set on a copy of a slice from a DataFrame.\n",
      "Try using .loc[row_indexer,col_indexer] = value instead\n",
      "\n",
      "See the caveats in the documentation: http://pandas.pydata.org/pandas-docs/stable/indexing.html#indexing-view-versus-copy\n",
      "  \n"
     ]
    }
   ],
   "source": [
    "uhh['мес1']=uhh['мес'].astype(int)/12\n",
    "uhh['duration']=uhh['год'].astype(int)+uhh['мес1'].round(2)"
   ]
  },
  {
   "cell_type": "code",
   "execution_count": 17,
   "metadata": {
    "scrolled": true
   },
   "outputs": [
    {
     "name": "stderr",
     "output_type": "stream",
     "text": [
      "D:\\Users\\o.lukasevych\\AppData\\Local\\Continuum\\anaconda3\\lib\\site-packages\\ipykernel_launcher.py:1: SettingWithCopyWarning: \n",
      "A value is trying to be set on a copy of a slice from a DataFrame.\n",
      "Try using .loc[row_indexer,col_indexer] = value instead\n",
      "\n",
      "See the caveats in the documentation: http://pandas.pydata.org/pandas-docs/stable/indexing.html#indexing-view-versus-copy\n",
      "  \"\"\"Entry point for launching an IPython kernel.\n"
     ]
    },
    {
     "data": {
      "text/html": [
       "<div>\n",
       "<style scoped>\n",
       "    .dataframe tbody tr th:only-of-type {\n",
       "        vertical-align: middle;\n",
       "    }\n",
       "\n",
       "    .dataframe tbody tr th {\n",
       "        vertical-align: top;\n",
       "    }\n",
       "\n",
       "    .dataframe thead th {\n",
       "        text-align: right;\n",
       "    }\n",
       "</style>\n",
       "<table border=\"1\" class=\"dataframe\">\n",
       "  <thead>\n",
       "    <tr style=\"text-align: right;\">\n",
       "      <th></th>\n",
       "      <th>link_1</th>\n",
       "      <th>предприятие</th>\n",
       "      <th>должность</th>\n",
       "      <th>период</th>\n",
       "      <th>отрасль</th>\n",
       "      <th>duration</th>\n",
       "    </tr>\n",
       "  </thead>\n",
       "  <tbody>\n",
       "    <tr>\n",
       "      <th>0</th>\n",
       "      <td>https://rabota.ua/cv/13317005</td>\n",
       "      <td>«Тринатурс-Украина» (туристический оператор: б...</td>\n",
       "      <td>исполнительный директор, генеральный директор</td>\n",
       "      <td>фев 2006 - настоящее время (13 лет 11 мес)</td>\n",
       "      <td>Туризм / Путешествия / Пассажирские перевозки</td>\n",
       "      <td>13.92</td>\n",
       "    </tr>\n",
       "    <tr>\n",
       "      <th>1</th>\n",
       "      <td>https://rabota.ua/cv/13317005</td>\n",
       "      <td>компания «Баядера-Импорт», г. Киев,</td>\n",
       "      <td>начальник продаж по г. Киев, начальник региона...</td>\n",
       "      <td>авг 2002 - апр 2005 (2 года 9 мес)</td>\n",
       "      <td>Торговля оптовая / Дистрибуция / Импорт-экспорт</td>\n",
       "      <td>2.75</td>\n",
       "    </tr>\n",
       "    <tr>\n",
       "      <th>2</th>\n",
       "      <td>https://rabota.ua/cv/13317005</td>\n",
       "      <td>компания «Сандора», г. Николаев, г.Киев</td>\n",
       "      <td>директор филиала в Киеве (открытие филиала и п...</td>\n",
       "      <td>июл 1997 - ноя 2000 (3 года 5 мес)</td>\n",
       "      <td>Торговля оптовая / Дистрибуция / Импорт-экспорт</td>\n",
       "      <td>3.42</td>\n",
       "    </tr>\n",
       "  </tbody>\n",
       "</table>\n",
       "</div>"
      ],
      "text/plain": [
       "                          link_1  \\\n",
       "0  https://rabota.ua/cv/13317005   \n",
       "1  https://rabota.ua/cv/13317005   \n",
       "2  https://rabota.ua/cv/13317005   \n",
       "\n",
       "                                         предприятие  \\\n",
       "0  «Тринатурс-Украина» (туристический оператор: б...   \n",
       "1                компания «Баядера-Импорт», г. Киев,   \n",
       "2            компания «Сандора», г. Николаев, г.Киев   \n",
       "\n",
       "                                           должность  \\\n",
       "0      исполнительный директор, генеральный директор   \n",
       "1  начальник продаж по г. Киев, начальник региона...   \n",
       "2  директор филиала в Киеве (открытие филиала и п...   \n",
       "\n",
       "                                       период  \\\n",
       "0  фев 2006 - настоящее время (13 лет 11 мес)   \n",
       "1          авг 2002 - апр 2005 (2 года 9 мес)   \n",
       "2          июл 1997 - ноя 2000 (3 года 5 мес)   \n",
       "\n",
       "                                           отрасль  duration  \n",
       "0    Туризм / Путешествия / Пассажирские перевозки     13.92  \n",
       "1  Торговля оптовая / Дистрибуция / Импорт-экспорт      2.75  \n",
       "2  Торговля оптовая / Дистрибуция / Импорт-экспорт      3.42  "
      ]
     },
     "execution_count": 17,
     "metadata": {},
     "output_type": "execute_result"
    }
   ],
   "source": [
    "uhh['link_1']=link\n",
    "uhh=uhh[['link_1','предприятие','должность','период','отрасль','duration']].reset_index(drop=True)\n",
    "uhh"
   ]
  }
 ],
 "metadata": {
  "kernelspec": {
   "display_name": "Python 3",
   "language": "python",
   "name": "python3"
  },
  "language_info": {
   "codemirror_mode": {
    "name": "ipython",
    "version": 3
   },
   "file_extension": ".py",
   "mimetype": "text/x-python",
   "name": "python",
   "nbconvert_exporter": "python",
   "pygments_lexer": "ipython3",
   "version": "3.7.3"
  },
  "varInspector": {
   "cols": {
    "lenName": 16,
    "lenType": 16,
    "lenVar": 40
   },
   "kernels_config": {
    "python": {
     "delete_cmd_postfix": "",
     "delete_cmd_prefix": "del ",
     "library": "var_list.py",
     "varRefreshCmd": "print(var_dic_list())"
    },
    "r": {
     "delete_cmd_postfix": ") ",
     "delete_cmd_prefix": "rm(",
     "library": "var_list.r",
     "varRefreshCmd": "cat(var_dic_list()) "
    }
   },
   "types_to_exclude": [
    "module",
    "function",
    "builtin_function_or_method",
    "instance",
    "_Feature"
   ],
   "window_display": false
  }
 },
 "nbformat": 4,
 "nbformat_minor": 2
}

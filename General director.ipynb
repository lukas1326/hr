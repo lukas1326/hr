{
 "cells": [
  {
   "cell_type": "code",
   "execution_count": 5,
   "metadata": {},
   "outputs": [],
   "source": [
    "%run get_links.ipynb"
   ]
  },
  {
   "cell_type": "code",
   "execution_count": 6,
   "metadata": {},
   "outputs": [],
   "source": [
    "links=google_q ('site:rabota.ua/cv/ AND \"генеральный директор\" AND \"Украина\" AND \"FMCG\"',16)"
   ]
  },
  {
   "cell_type": "code",
   "execution_count": 8,
   "metadata": {},
   "outputs": [
    {
     "data": {
      "text/plain": [
       "139"
      ]
     },
     "execution_count": 8,
     "metadata": {},
     "output_type": "execute_result"
    }
   ],
   "source": [
    "len(links)"
   ]
  },
  {
   "cell_type": "code",
   "execution_count": 148,
   "metadata": {},
   "outputs": [],
   "source": [
    "import pandas as pd\n",
    "from bs4 import BeautifulSoup\n",
    "import requests\n",
    "import urllib.request"
   ]
  },
  {
   "cell_type": "code",
   "execution_count": 54,
   "metadata": {},
   "outputs": [],
   "source": [
    "df_011119_CMO=pd.read_excel('Copy of resumes_Milkiland_NV_VR (CMO).xlsx',sheet_name='CMO',skiprows=2)"
   ]
  },
  {
   "cell_type": "code",
   "execution_count": 55,
   "metadata": {},
   "outputs": [
    {
     "data": {
      "text/plain": [
       "Index(['name', 'link', 'location', 'age', 'company', 'position', 'salary',\n",
       "       'brief_summary', 'experience', 'education', 'languages', 'pasring_date',\n",
       "       'yes_no', 'yes_no VR', 'email_sent', 'meeting_date_VR',\n",
       "       'meeting_date_AI'],\n",
       "      dtype='object')"
      ]
     },
     "execution_count": 55,
     "metadata": {},
     "output_type": "execute_result"
    }
   ],
   "source": [
    "df_011119_CMO.columns"
   ]
  },
  {
   "cell_type": "code",
   "execution_count": 56,
   "metadata": {},
   "outputs": [
    {
     "data": {
      "text/plain": [
       "40"
      ]
     },
     "execution_count": 56,
     "metadata": {},
     "output_type": "execute_result"
    }
   ],
   "source": [
    "len(df_011119_CMO.link.unique())"
   ]
  },
  {
   "cell_type": "code",
   "execution_count": 127,
   "metadata": {},
   "outputs": [],
   "source": [
    "links_011119_CMO_seen=df_011119_CMO.link.unique()"
   ]
  },
  {
   "cell_type": "code",
   "execution_count": 58,
   "metadata": {},
   "outputs": [],
   "source": [
    "links_011119_CMO_yes_VR=df_011119_CMO[df_011119_CMO['yes_no VR']=='yes'].link"
   ]
  },
  {
   "cell_type": "code",
   "execution_count": 59,
   "metadata": {},
   "outputs": [
    {
     "data": {
      "text/plain": [
       "15"
      ]
     },
     "execution_count": 59,
     "metadata": {},
     "output_type": "execute_result"
    }
   ],
   "source": [
    "len(links_011119_CMO_yes_VR)"
   ]
  },
  {
   "cell_type": "code",
   "execution_count": 60,
   "metadata": {},
   "outputs": [
    {
     "data": {
      "text/plain": [
       "array(['отправлен email', nan, 'уже работал в Milkiland'], dtype=object)"
      ]
     },
     "execution_count": 60,
     "metadata": {},
     "output_type": "execute_result"
    }
   ],
   "source": [
    "df_011119_CMO['email_sent'].unique()"
   ]
  },
  {
   "cell_type": "code",
   "execution_count": 61,
   "metadata": {},
   "outputs": [],
   "source": [
    "links_011119_CMO_sent_e=df_011119_CMO[df_011119_CMO['email_sent']=='отправлен email'].link"
   ]
  },
  {
   "cell_type": "code",
   "execution_count": 62,
   "metadata": {},
   "outputs": [
    {
     "data": {
      "text/plain": [
       "9"
      ]
     },
     "execution_count": 62,
     "metadata": {},
     "output_type": "execute_result"
    }
   ],
   "source": [
    "len(links_011119_CMO_sent_e)"
   ]
  },
  {
   "cell_type": "code",
   "execution_count": 66,
   "metadata": {},
   "outputs": [
    {
     "data": {
      "text/plain": [
       "4"
      ]
     },
     "execution_count": 66,
     "metadata": {},
     "output_type": "execute_result"
    }
   ],
   "source": [
    "df_011119_CMO_VR_meet=df_011119_CMO[~df_011119_CMO.meeting_date_VR.isna()].link\n",
    "len(df_011119_CMO_VR_meet)"
   ]
  },
  {
   "cell_type": "code",
   "execution_count": 69,
   "metadata": {},
   "outputs": [
    {
     "data": {
      "text/plain": [
       "1"
      ]
     },
     "execution_count": 69,
     "metadata": {},
     "output_type": "execute_result"
    }
   ],
   "source": [
    "df_011119_CMO_AI_meet=df_011119_CMO[~df_011119_CMO.meeting_date_AI.isna()].link\n",
    "len(df_011119_CMO_AI_meet)"
   ]
  },
  {
   "cell_type": "code",
   "execution_count": 74,
   "metadata": {},
   "outputs": [],
   "source": [
    "df_011119_CMO_AI_approved=['https://ua.linkedin.com/in/vasiliy-shylov-6828a326','https://ua.linkedin.com/in/nataliya-dedikova-143337137']"
   ]
  },
  {
   "cell_type": "code",
   "execution_count": 75,
   "metadata": {},
   "outputs": [
    {
     "data": {
      "text/plain": [
       "['https://ua.linkedin.com/in/vasiliy-shylov-6828a326',\n",
       " 'https://ua.linkedin.com/in/nataliya-dedikova-143337137']"
      ]
     },
     "execution_count": 75,
     "metadata": {},
     "output_type": "execute_result"
    }
   ],
   "source": [
    "df_011119_CMO_AI_approved"
   ]
  },
  {
   "cell_type": "code",
   "execution_count": 82,
   "metadata": {},
   "outputs": [
    {
     "data": {
      "text/plain": [
       "38"
      ]
     },
     "execution_count": 82,
     "metadata": {},
     "output_type": "execute_result"
    }
   ],
   "source": [
    "df_011119_CMO_rejected=[x for x in list(links_011119_CMO) if x not in df_011119_CMO_AI_approved]\n",
    "len(df_011119_CMO_rejected)"
   ]
  },
  {
   "cell_type": "code",
   "execution_count": 93,
   "metadata": {},
   "outputs": [
    {
     "data": {
      "text/plain": [
       "['СМО исх', 'СМО юр']"
      ]
     },
     "execution_count": 93,
     "metadata": {},
     "output_type": "execute_result"
    }
   ],
   "source": [
    "cv=pd.ExcelFile('CV_061219_CMO.xlsx')\n",
    "cv.sheet_names"
   ]
  },
  {
   "cell_type": "code",
   "execution_count": 95,
   "metadata": {},
   "outputs": [],
   "source": [
    "df_061219_CMO=pd.read_excel('CV_061219_CMO.xlsx',sheet_name='СМО исх')"
   ]
  },
  {
   "cell_type": "code",
   "execution_count": 96,
   "metadata": {},
   "outputs": [],
   "source": [
    "df_061219_CMO_AI_choice=pd.read_excel('CV_061219_CMO.xlsx',sheet_name='СМО юр')"
   ]
  },
  {
   "cell_type": "code",
   "execution_count": 110,
   "metadata": {},
   "outputs": [
    {
     "data": {
      "text/plain": [
       "46"
      ]
     },
     "execution_count": 110,
     "metadata": {},
     "output_type": "execute_result"
    }
   ],
   "source": [
    "len(df_061219_CMO.link.unique())"
   ]
  },
  {
   "cell_type": "code",
   "execution_count": 107,
   "metadata": {},
   "outputs": [],
   "source": [
    "link_061219_CMO_seen=df_061219_CMO[~df_061219_CMO.link.isna()].link.to_list()"
   ]
  },
  {
   "cell_type": "code",
   "execution_count": 108,
   "metadata": {},
   "outputs": [
    {
     "data": {
      "text/plain": [
       "45"
      ]
     },
     "execution_count": 108,
     "metadata": {},
     "output_type": "execute_result"
    }
   ],
   "source": [
    "len(link_061219_CMO_seen)\n"
   ]
  },
  {
   "cell_type": "code",
   "execution_count": 125,
   "metadata": {},
   "outputs": [],
   "source": [
    "link_061219_CMO_AI_choice=df_061219_CMO_AI_choice[~df_061219_CMO_AI_choice.link.isna()].link.to_list()"
   ]
  },
  {
   "cell_type": "code",
   "execution_count": 116,
   "metadata": {},
   "outputs": [
    {
     "data": {
      "text/plain": [
       "6"
      ]
     },
     "execution_count": 116,
     "metadata": {},
     "output_type": "execute_result"
    }
   ],
   "source": [
    "len(link_061219_CMO_AI_choice)"
   ]
  },
  {
   "cell_type": "code",
   "execution_count": 117,
   "metadata": {},
   "outputs": [
    {
     "data": {
      "text/plain": [
       "['CСO исх', 'CCO юр']"
      ]
     },
     "execution_count": 117,
     "metadata": {},
     "output_type": "execute_result"
    }
   ],
   "source": [
    "cv=pd.ExcelFile('CV_061219_CCO.xlsx')\n",
    "cv.sheet_names"
   ]
  },
  {
   "cell_type": "code",
   "execution_count": 119,
   "metadata": {},
   "outputs": [],
   "source": [
    "df_061219_CCO=pd.read_excel('CV_061219_CCO.xlsx',sheet_name='CСO исх')"
   ]
  },
  {
   "cell_type": "code",
   "execution_count": 121,
   "metadata": {},
   "outputs": [],
   "source": [
    "df_061219_CCO_AI_choice=pd.read_excel('CV_061219_CCO.xlsx',sheet_name='CCO юр')"
   ]
  },
  {
   "cell_type": "code",
   "execution_count": 124,
   "metadata": {},
   "outputs": [],
   "source": [
    "link_061219_CCO_seen=df_061219_CCO[~df_061219_CCO.link.isnull()].link.to_list()"
   ]
  },
  {
   "cell_type": "code",
   "execution_count": 123,
   "metadata": {},
   "outputs": [],
   "source": [
    "link_061219_CCO_AI_choice=df_061219_CCO_AI_choice[~df_061219_CCO_AI_choice.link.isna()].link.to_list()"
   ]
  },
  {
   "cell_type": "code",
   "execution_count": null,
   "metadata": {},
   "outputs": [],
   "source": []
  },
  {
   "cell_type": "code",
   "execution_count": 129,
   "metadata": {},
   "outputs": [
    {
     "data": {
      "text/plain": [
       "(84, 84, 40, 139)"
      ]
     },
     "execution_count": 129,
     "metadata": {},
     "output_type": "execute_result"
    }
   ],
   "source": [
    "len(link_061219_CCO_seen),len(link_061219_CMO_seen),len(links_011119_CMO_seen),len(links)"
   ]
  },
  {
   "cell_type": "code",
   "execution_count": 140,
   "metadata": {},
   "outputs": [
    {
     "data": {
      "text/plain": [
       "208"
      ]
     },
     "execution_count": 140,
     "metadata": {},
     "output_type": "execute_result"
    }
   ],
   "source": [
    "all_seen_till_061219=list(link_061219_CCO_seen)+list(link_061219_CMO_seen)+list(links_011119_CMO_seen)\n",
    "len(all_seen_till_061219)"
   ]
  },
  {
   "cell_type": "code",
   "execution_count": 143,
   "metadata": {},
   "outputs": [
    {
     "data": {
      "text/plain": [
       "111"
      ]
     },
     "execution_count": 143,
     "metadata": {},
     "output_type": "execute_result"
    }
   ],
   "source": [
    "not_seen_till_061219=[x for x in links if x not in all_seen_till_061219]\n",
    "len(not_seen_till_061219)"
   ]
  },
  {
   "cell_type": "code",
   "execution_count": 144,
   "metadata": {},
   "outputs": [],
   "source": [
    "import numpy as np\n",
    "import re"
   ]
  },
  {
   "cell_type": "code",
   "execution_count": 147,
   "metadata": {},
   "outputs": [],
   "source": [
    "not_seen_till_061219=np.unique(not_seen_till_061219)"
   ]
  },
  {
   "cell_type": "code",
   "execution_count": 169,
   "metadata": {},
   "outputs": [],
   "source": [
    "\n",
    "link_rabota=[]\n",
    "for i in not_seen_till_061219:\n",
    "    try:\n",
    "        link=i\n",
    "        response=requests.get(link)\n",
    "        soup=BeautifulSoup(response.text,'html.parser')\n",
    "        refresh_year=soup.find('span',{'class':'muted'}).text\n",
    "        time.sleep(3)\n",
    "        year=re.findall('\\d+',refresh_year)[1]\n",
    "        if year =='2019':\n",
    "            link_rabota.append(link)\n",
    "        \n",
    "    except:\n",
    "        pass"
   ]
  },
  {
   "cell_type": "code",
   "execution_count": 174,
   "metadata": {},
   "outputs": [
    {
     "data": {
      "text/plain": [
       "['https://rabota.ua/cv/11353227',\n",
       " 'https://rabota.ua/cv/11793979',\n",
       " 'https://rabota.ua/cv/12988410',\n",
       " 'https://rabota.ua/cv/13817098',\n",
       " 'https://rabota.ua/cv/2923717',\n",
       " 'https://rabota.ua/cv/2981615',\n",
       " 'https://rabota.ua/cv/3087837',\n",
       " 'https://rabota.ua/cv/3153171',\n",
       " 'https://rabota.ua/cv/3176695',\n",
       " 'https://rabota.ua/cv/3471216',\n",
       " 'https://rabota.ua/cv/4096755',\n",
       " 'https://rabota.ua/cv/4386969',\n",
       " 'https://rabota.ua/cv/4391816',\n",
       " 'https://rabota.ua/cv/4993794',\n",
       " 'https://rabota.ua/cv/5120199',\n",
       " 'https://rabota.ua/cv/5431558',\n",
       " 'https://rabota.ua/cv/5757043',\n",
       " 'https://rabota.ua/cv/5972229',\n",
       " 'https://rabota.ua/cv/6002227',\n",
       " 'https://rabota.ua/cv/6170847',\n",
       " 'https://rabota.ua/cv/6292778',\n",
       " 'https://rabota.ua/cv/6297370',\n",
       " 'https://rabota.ua/cv/6553256',\n",
       " 'https://rabota.ua/cv/6590949',\n",
       " 'https://rabota.ua/cv/6886024',\n",
       " 'https://rabota.ua/cv/8093031',\n",
       " 'https://rabota.ua/cv/8225897',\n",
       " 'https://rabota.ua/cv/8371477',\n",
       " 'https://rabota.ua/cv/8404510',\n",
       " 'https://rabota.ua/cv/8420437',\n",
       " 'https://rabota.ua/cv/8527644',\n",
       " 'https://rabota.ua/cv/9186688',\n",
       " 'https://rabota.ua/cv/9480252']"
      ]
     },
     "execution_count": 174,
     "metadata": {},
     "output_type": "execute_result"
    }
   ],
   "source": [
    "link_rabota\n"
   ]
  },
  {
   "cell_type": "code",
   "execution_count": 175,
   "metadata": {},
   "outputs": [],
   "source": [
    "%run work_history.ipynb"
   ]
  },
  {
   "cell_type": "code",
   "execution_count": 176,
   "metadata": {},
   "outputs": [],
   "source": [
    "link_drop=[]\n",
    "df1=pd.DataFrame(columns=['link_1', 'предприятие', 'должность', 'период', 'отрасль', 'duration'])\n",
    "for link in link_rabota:\n",
    "    try:\n",
    "        df=duration(link)\n",
    "        df1=pd.concat([df,df1])\n",
    "        time.sleep(3)\n",
    "    except:\n",
    "        link_drop.append(link)\n",
    "        pass\n",
    "    "
   ]
  },
  {
   "cell_type": "code",
   "execution_count": 177,
   "metadata": {
    "scrolled": false
   },
   "outputs": [
    {
     "data": {
      "text/html": [
       "<div>\n",
       "<style scoped>\n",
       "    .dataframe tbody tr th:only-of-type {\n",
       "        vertical-align: middle;\n",
       "    }\n",
       "\n",
       "    .dataframe tbody tr th {\n",
       "        vertical-align: top;\n",
       "    }\n",
       "\n",
       "    .dataframe thead th {\n",
       "        text-align: right;\n",
       "    }\n",
       "</style>\n",
       "<table border=\"1\" class=\"dataframe\">\n",
       "  <thead>\n",
       "    <tr style=\"text-align: right;\">\n",
       "      <th></th>\n",
       "      <th>duration</th>\n",
       "      <th>link</th>\n",
       "      <th>link_1</th>\n",
       "      <th>должность</th>\n",
       "      <th>отрасль</th>\n",
       "      <th>период</th>\n",
       "      <th>предприятие</th>\n",
       "    </tr>\n",
       "  </thead>\n",
       "  <tbody>\n",
       "    <tr>\n",
       "      <th>0</th>\n",
       "      <td>0.75</td>\n",
       "      <td>https://rabota.ua/cv/9480252</td>\n",
       "      <td>NaN</td>\n",
       "      <td>Руководитель по закупкам \"напольная группа\" (п...</td>\n",
       "      <td>Торговля оптовая / Дистрибуция / Импорт-экспорт</td>\n",
       "      <td>апр 2019 - настоящее время (9 мес)</td>\n",
       "      <td>ГК Платан Систем Трейд Украина</td>\n",
       "    </tr>\n",
       "    <tr>\n",
       "      <th>1</th>\n",
       "      <td>0.58</td>\n",
       "      <td>https://rabota.ua/cv/9480252</td>\n",
       "      <td>NaN</td>\n",
       "      <td>Региональный директор (проектная деятельность)</td>\n",
       "      <td>Торговля оптовая / Дистрибуция / Импорт-экспорт</td>\n",
       "      <td>окт 2018 - апр 2019 (7 мес)</td>\n",
       "      <td>ГК Платан Систем Трейд Украина</td>\n",
       "    </tr>\n",
       "    <tr>\n",
       "      <th>2</th>\n",
       "      <td>2.25</td>\n",
       "      <td>https://rabota.ua/cv/9480252</td>\n",
       "      <td>NaN</td>\n",
       "      <td>Руководитель отдела продаж / директор филиала ...</td>\n",
       "      <td>Торговля оптовая / Дистрибуция / Импорт-экспорт</td>\n",
       "      <td>авг 2016 - окт 2018 (2 года 3 мес)</td>\n",
       "      <td>СТРОЙКОМПЛЕКТ, ООО</td>\n",
       "    </tr>\n",
       "    <tr>\n",
       "      <th>3</th>\n",
       "      <td>1.50</td>\n",
       "      <td>https://rabota.ua/cv/9480252</td>\n",
       "      <td>NaN</td>\n",
       "      <td>Региональный менеджер Восток (Днепропетровская...</td>\n",
       "      <td>от 50 до 100 сотрудников\\r\\n\\t\\t\\t\\t\\tFMCG</td>\n",
       "      <td>мар 2015 - авг 2016 (1 год 6 мес)</td>\n",
       "      <td>Roust Ukraine</td>\n",
       "    </tr>\n",
       "    <tr>\n",
       "      <th>4</th>\n",
       "      <td>1.42</td>\n",
       "      <td>https://rabota.ua/cv/9480252</td>\n",
       "      <td>NaN</td>\n",
       "      <td>Территориальный менеджер, Днепропетровская и Л...</td>\n",
       "      <td>от 50 до 100 сотрудников\\r\\n\\t\\t\\t\\t\\tFMCG</td>\n",
       "      <td>ноя 2013 - мар 2015 (1 год 5 мес)</td>\n",
       "      <td>Roust Ukraine</td>\n",
       "    </tr>\n",
       "    <tr>\n",
       "      <th>5</th>\n",
       "      <td>1.17</td>\n",
       "      <td>https://rabota.ua/cv/9480252</td>\n",
       "      <td>NaN</td>\n",
       "      <td>Директор филиала / Территориальный менеджер, Л...</td>\n",
       "      <td>более 500 сотрудников\\r\\n\\t\\t\\t\\t\\tFMCG</td>\n",
       "      <td>окт 2012 - ноя 2013 (1 год 2 мес)</td>\n",
       "      <td>Крымская Водочная Компания,  ООО</td>\n",
       "    </tr>\n",
       "    <tr>\n",
       "      <th>6</th>\n",
       "      <td>2.17</td>\n",
       "      <td>https://rabota.ua/cv/9480252</td>\n",
       "      <td>NaN</td>\n",
       "      <td>Супервайзер</td>\n",
       "      <td>более 500 сотрудников\\r\\n\\t\\t\\t\\t\\tFMCG</td>\n",
       "      <td>авг 2010 - сен 2012 (2 года 2 мес)</td>\n",
       "      <td>Крымская Водочная Компания,  ООО</td>\n",
       "    </tr>\n",
       "    <tr>\n",
       "      <th>7</th>\n",
       "      <td>2.58</td>\n",
       "      <td>https://rabota.ua/cv/9480252</td>\n",
       "      <td>NaN</td>\n",
       "      <td>Торговый представитель FMCG</td>\n",
       "      <td>более 500 сотрудников\\r\\n\\t\\t\\t\\t\\tFMCG</td>\n",
       "      <td>фев 2008 - авг 2010 (2 года 7 мес)</td>\n",
       "      <td>Крымская Водочная Компания,  ООО</td>\n",
       "    </tr>\n",
       "    <tr>\n",
       "      <th>0</th>\n",
       "      <td>2.17</td>\n",
       "      <td>https://rabota.ua/cv/9186688</td>\n",
       "      <td>NaN</td>\n",
       "      <td>Директор</td>\n",
       "      <td>Строительство</td>\n",
       "      <td>ноя 2016 - дек 2018 (2 года 2 мес)</td>\n",
       "      <td>ЧП</td>\n",
       "    </tr>\n",
       "    <tr>\n",
       "      <th>1</th>\n",
       "      <td>8.00</td>\n",
       "      <td>https://rabota.ua/cv/9186688</td>\n",
       "      <td>NaN</td>\n",
       "      <td>Заместитель директора по вопросам управления</td>\n",
       "      <td>до 20 сотрудников\\r\\n\\t\\t\\t\\t\\tНедвижимость и ...</td>\n",
       "      <td>апр 2008 - мар 2016 (8 лет)</td>\n",
       "      <td>ИнвестХаус, ТОВ</td>\n",
       "    </tr>\n",
       "    <tr>\n",
       "      <th>2</th>\n",
       "      <td>3.58</td>\n",
       "      <td>https://rabota.ua/cv/9186688</td>\n",
       "      <td>NaN</td>\n",
       "      <td>Директор</td>\n",
       "      <td>до 20 сотрудников\\r\\n\\t\\t\\t\\t\\tТорговля оптова...</td>\n",
       "      <td>сен 2004 - мар 2008 (3 года 7 мес)</td>\n",
       "      <td>Корсар Сервис</td>\n",
       "    </tr>\n",
       "    <tr>\n",
       "      <th>3</th>\n",
       "      <td>2.42</td>\n",
       "      <td>https://rabota.ua/cv/9186688</td>\n",
       "      <td>NaN</td>\n",
       "      <td>Региональный менеджер</td>\n",
       "      <td>FMCG</td>\n",
       "      <td>фев 2002 - июн 2004 (2 года 5 мес)</td>\n",
       "      <td>компании FMCG</td>\n",
       "    </tr>\n",
       "    <tr>\n",
       "      <th>4</th>\n",
       "      <td>2.75</td>\n",
       "      <td>https://rabota.ua/cv/9186688</td>\n",
       "      <td>NaN</td>\n",
       "      <td>Заместитель директора по логистике; начальник ...</td>\n",
       "      <td>от 50 до 100 сотрудников\\r\\n\\t\\t\\t\\t\\tТорговля...</td>\n",
       "      <td>май 1999 - янв 2002 (2 года 9 мес)</td>\n",
       "      <td>Премиумвин</td>\n",
       "    </tr>\n",
       "    <tr>\n",
       "      <th>0</th>\n",
       "      <td>1.67</td>\n",
       "      <td>https://rabota.ua/cv/8527644</td>\n",
       "      <td>NaN</td>\n",
       "      <td>Дмректор</td>\n",
       "      <td>Строительство</td>\n",
       "      <td>май 2018 - настоящее время (1 год 8 мес)</td>\n",
       "      <td>ТОВ \"САГ Енерджи\"</td>\n",
       "    </tr>\n",
       "    <tr>\n",
       "      <th>1</th>\n",
       "      <td>0.50</td>\n",
       "      <td>https://rabota.ua/cv/8527644</td>\n",
       "      <td>NaN</td>\n",
       "      <td>Генеральный директор</td>\n",
       "      <td>Торговля оптовая / Дистрибуция / Импорт-экспорт</td>\n",
       "      <td>сен 2017 - фев 2018 (6 мес)</td>\n",
       "      <td>ТОВ \"ТД Альтаир\"</td>\n",
       "    </tr>\n",
       "    <tr>\n",
       "      <th>2</th>\n",
       "      <td>1.17</td>\n",
       "      <td>https://rabota.ua/cv/8527644</td>\n",
       "      <td>NaN</td>\n",
       "      <td>Исполнительный директор</td>\n",
       "      <td>Недвижимость и Девелопмент</td>\n",
       "      <td>ноя 2016 - дек 2017 (1 год 2 мес)</td>\n",
       "      <td>\"Балтия-Сервіс\"</td>\n",
       "    </tr>\n",
       "    <tr>\n",
       "      <th>3</th>\n",
       "      <td>4.00</td>\n",
       "      <td>https://rabota.ua/cv/8527644</td>\n",
       "      <td>NaN</td>\n",
       "      <td>совладелец клуба</td>\n",
       "      <td>более 500 сотрудников\\r\\n\\t\\t\\t\\t\\tУслуги для ...</td>\n",
       "      <td>сен 2012 - авг 2016 (4 года)</td>\n",
       "      <td>FitCurves</td>\n",
       "    </tr>\n",
       "    <tr>\n",
       "      <th>4</th>\n",
       "      <td>0.92</td>\n",
       "      <td>https://rabota.ua/cv/8527644</td>\n",
       "      <td>NaN</td>\n",
       "      <td>Генеральный директор</td>\n",
       "      <td>от 100 до 250 сотрудников\\r\\n\\t\\t\\t\\t\\tТранспо...</td>\n",
       "      <td>май 2009 - мар 2010 (11 мес)</td>\n",
       "      <td>Гринко-Киев</td>\n",
       "    </tr>\n",
       "    <tr>\n",
       "      <th>5</th>\n",
       "      <td>0.92</td>\n",
       "      <td>https://rabota.ua/cv/8527644</td>\n",
       "      <td>NaN</td>\n",
       "      <td>Начальник управления</td>\n",
       "      <td>от 50 до 100 сотрудников\\r\\n\\t\\t\\t\\t\\tГосударс...</td>\n",
       "      <td>июн 2008 - апр 2009 (11 мес)</td>\n",
       "      <td>Васильковская районная госадминистрация</td>\n",
       "    </tr>\n",
       "    <tr>\n",
       "      <th>6</th>\n",
       "      <td>14.08</td>\n",
       "      <td>https://rabota.ua/cv/8527644</td>\n",
       "      <td>NaN</td>\n",
       "      <td>Генеральный директор</td>\n",
       "      <td>FMCG</td>\n",
       "      <td>июн 1994 - июн 2008 (14 лет 1 мес)</td>\n",
       "      <td>ИТЕК универсал</td>\n",
       "    </tr>\n",
       "    <tr>\n",
       "      <th>0</th>\n",
       "      <td>1.92</td>\n",
       "      <td>https://rabota.ua/cv/8420437</td>\n",
       "      <td>NaN</td>\n",
       "      <td>Национальный менеджер по развитию дистрибьюции...</td>\n",
       "      <td>FMCG</td>\n",
       "      <td>фев 2018 - настоящее время (1 год 11 мес)</td>\n",
       "      <td>Производитель алкогольной продукции</td>\n",
       "    </tr>\n",
       "    <tr>\n",
       "      <th>1</th>\n",
       "      <td>1.08</td>\n",
       "      <td>https://rabota.ua/cv/8420437</td>\n",
       "      <td>NaN</td>\n",
       "      <td>Директор по продажам</td>\n",
       "      <td>FMCG</td>\n",
       "      <td>авг 2016 - авг 2017 (1 год 1 мес)</td>\n",
       "      <td>Kamyanka Global Wine</td>\n",
       "    </tr>\n",
       "    <tr>\n",
       "      <th>2</th>\n",
       "      <td>0.67</td>\n",
       "      <td>https://rabota.ua/cv/8420437</td>\n",
       "      <td>NaN</td>\n",
       "      <td>Менеджер проекта</td>\n",
       "      <td>FMCG</td>\n",
       "      <td>янв 2016 - авг 2016 (8 мес)</td>\n",
       "      <td>JKconsult, Киев (Аутсорсинг продаж)</td>\n",
       "    </tr>\n",
       "    <tr>\n",
       "      <th>3</th>\n",
       "      <td>1.33</td>\n",
       "      <td>https://rabota.ua/cv/8420437</td>\n",
       "      <td>NaN</td>\n",
       "      <td>Заместитель директора департамента развития фи...</td>\n",
       "      <td>более 500 сотрудников\\r\\n\\t\\t\\t\\t\\tFMCG</td>\n",
       "      <td>авг 2014 - ноя 2015 (1 год 4 мес)</td>\n",
       "      <td>Группа компаний ООО \"PetRus\" (Производство алк...</td>\n",
       "    </tr>\n",
       "    <tr>\n",
       "      <th>4</th>\n",
       "      <td>0.33</td>\n",
       "      <td>https://rabota.ua/cv/8420437</td>\n",
       "      <td>NaN</td>\n",
       "      <td>Директор направления ЛВИ</td>\n",
       "      <td>более 500 сотрудников\\r\\n\\t\\t\\t\\t\\tFMCG</td>\n",
       "      <td>апр 2014 - июл 2014 (4 мес)</td>\n",
       "      <td>Директор филиала прямых продаж (Киевская область)</td>\n",
       "    </tr>\n",
       "    <tr>\n",
       "      <th>5</th>\n",
       "      <td>7.25</td>\n",
       "      <td>https://rabota.ua/cv/8420437</td>\n",
       "      <td>NaN</td>\n",
       "      <td>Компания Алеф Виналь</td>\n",
       "      <td>более 500 сотрудников\\r\\n\\t\\t\\t\\t\\tFMCG</td>\n",
       "      <td>фев 2007 - апр 2014 (7 лет 3 мес)</td>\n",
       "      <td>Директор по продажам</td>\n",
       "    </tr>\n",
       "    <tr>\n",
       "      <th>0</th>\n",
       "      <td>1.42</td>\n",
       "      <td>https://rabota.ua/cv/8404510</td>\n",
       "      <td>NaN</td>\n",
       "      <td>Административный директор</td>\n",
       "      <td>Торговля оптовая / Дистрибуция / Импорт-экспорт</td>\n",
       "      <td>май 2018 - сен 2019 (1 год 5 мес)</td>\n",
       "      <td>ТД \"Сокол\"</td>\n",
       "    </tr>\n",
       "    <tr>\n",
       "      <th>1</th>\n",
       "      <td>2.25</td>\n",
       "      <td>https://rabota.ua/cv/8404510</td>\n",
       "      <td>NaN</td>\n",
       "      <td>Частный предприниматель</td>\n",
       "      <td>Другое</td>\n",
       "      <td>янв 2016 - мар 2018 (2 года 3 мес)</td>\n",
       "      <td>Частный предприниматель</td>\n",
       "    </tr>\n",
       "    <tr>\n",
       "      <th>2</th>\n",
       "      <td>6.17</td>\n",
       "      <td>https://rabota.ua/cv/8404510</td>\n",
       "      <td>NaN</td>\n",
       "      <td>Директор, зам. директора</td>\n",
       "      <td>Недвижимость и Девелопмент</td>\n",
       "      <td>ноя 2009 - дек 2015 (6 лет 2 мес)</td>\n",
       "      <td>\"Компания \"Ассоциация Украина\", \"Голден Гейт Б...</td>\n",
       "    </tr>\n",
       "    <tr>\n",
       "      <th>3</th>\n",
       "      <td>3.00</td>\n",
       "      <td>https://rabota.ua/cv/8404510</td>\n",
       "      <td>NaN</td>\n",
       "      <td>Руководитель дистрибьюторского центра</td>\n",
       "      <td>от 250 до 500 сотрудников\\r\\n\\t\\t\\t\\t\\tПромышл...</td>\n",
       "      <td>дек 2006 - ноя 2009 (3 года)</td>\n",
       "      <td>Голден Тайл, ООО</td>\n",
       "    </tr>\n",
       "    <tr>\n",
       "      <th>...</th>\n",
       "      <td>...</td>\n",
       "      <td>...</td>\n",
       "      <td>...</td>\n",
       "      <td>...</td>\n",
       "      <td>...</td>\n",
       "      <td>...</td>\n",
       "      <td>...</td>\n",
       "    </tr>\n",
       "    <tr>\n",
       "      <th>0</th>\n",
       "      <td>3.17</td>\n",
       "      <td>https://rabota.ua/cv/13817098</td>\n",
       "      <td>NaN</td>\n",
       "      <td>Руководитель проекта</td>\n",
       "      <td>FMCG</td>\n",
       "      <td>ноя 2016 - настоящее время (3 года 2 мес)</td>\n",
       "      <td>Проектная работа</td>\n",
       "    </tr>\n",
       "    <tr>\n",
       "      <th>1</th>\n",
       "      <td>2.25</td>\n",
       "      <td>https://rabota.ua/cv/13817098</td>\n",
       "      <td>NaN</td>\n",
       "      <td>Директор по продажам</td>\n",
       "      <td>FMCG</td>\n",
       "      <td>авг 2014 - окт 2016 (2 года 3 мес)</td>\n",
       "      <td>Директор</td>\n",
       "    </tr>\n",
       "    <tr>\n",
       "      <th>2</th>\n",
       "      <td>3.67</td>\n",
       "      <td>https://rabota.ua/cv/13817098</td>\n",
       "      <td>NaN</td>\n",
       "      <td>Собственник</td>\n",
       "      <td>FMCG</td>\n",
       "      <td>янв 2011 - авг 2014 (3 года 8 мес)</td>\n",
       "      <td>Национальный менеджер по работе с ключевыми кл...</td>\n",
       "    </tr>\n",
       "    <tr>\n",
       "      <th>3</th>\n",
       "      <td>3.17</td>\n",
       "      <td>https://rabota.ua/cv/13817098</td>\n",
       "      <td>NaN</td>\n",
       "      <td>Арнест Украина</td>\n",
       "      <td>FMCG</td>\n",
       "      <td>ноя 2007 - дек 2010 (3 года 2 мес)</td>\n",
       "      <td>Директор</td>\n",
       "    </tr>\n",
       "    <tr>\n",
       "      <th>4</th>\n",
       "      <td>1.33</td>\n",
       "      <td>https://rabota.ua/cv/13817098</td>\n",
       "      <td>NaN</td>\n",
       "      <td>Директор</td>\n",
       "      <td>FMCG</td>\n",
       "      <td>авг 2006 - ноя 2007 (1 год 4 мес)</td>\n",
       "      <td>КАМ</td>\n",
       "    </tr>\n",
       "    <tr>\n",
       "      <th>5</th>\n",
       "      <td>1.25</td>\n",
       "      <td>https://rabota.ua/cv/13817098</td>\n",
       "      <td>NaN</td>\n",
       "      <td>Директор по продажам</td>\n",
       "      <td>FMCG</td>\n",
       "      <td>май 2005 - июл 2006 (1 год 3 мес)</td>\n",
       "      <td>Интегритас ООО</td>\n",
       "    </tr>\n",
       "    <tr>\n",
       "      <th>0</th>\n",
       "      <td>1.50</td>\n",
       "      <td>https://rabota.ua/cv/12988410</td>\n",
       "      <td>NaN</td>\n",
       "      <td>Директор по логистике</td>\n",
       "      <td>Торговля розничная / Retail</td>\n",
       "      <td>июл 2018 - настоящее время (1 год 6 мес)</td>\n",
       "      <td>Барком (ТМ «Родинна ковбаска»)</td>\n",
       "    </tr>\n",
       "    <tr>\n",
       "      <th>1</th>\n",
       "      <td>0.42</td>\n",
       "      <td>https://rabota.ua/cv/12988410</td>\n",
       "      <td>NaN</td>\n",
       "      <td>И.о. директора</td>\n",
       "      <td>Отели / Рестораны / Развлекательные комплексы</td>\n",
       "      <td>сен 2017 - янв 2018 (5 мес)</td>\n",
       "      <td>Зоопарк «12 месяцев»</td>\n",
       "    </tr>\n",
       "    <tr>\n",
       "      <th>2</th>\n",
       "      <td>0.83</td>\n",
       "      <td>https://rabota.ua/cv/12988410</td>\n",
       "      <td>NaN</td>\n",
       "      <td>Срочный директор филиалов (антикризисный менед...</td>\n",
       "      <td>Промышленность и Производство</td>\n",
       "      <td>мар 2016 - дек 2016 (10 мес)</td>\n",
       "      <td>ДП «Милкиленд-Украина», «Роменский молочный ко...</td>\n",
       "    </tr>\n",
       "    <tr>\n",
       "      <th>3</th>\n",
       "      <td>1.33</td>\n",
       "      <td>https://rabota.ua/cv/12988410</td>\n",
       "      <td>NaN</td>\n",
       "      <td>Операционный директор</td>\n",
       "      <td>Промышленность и Производство</td>\n",
       "      <td>дек 2014 - мар 2016 (1 год 4 мес)</td>\n",
       "      <td>ООО «Глобинский маслосырзавод», Группа компани...</td>\n",
       "    </tr>\n",
       "    <tr>\n",
       "      <th>4</th>\n",
       "      <td>1.50</td>\n",
       "      <td>https://rabota.ua/cv/12988410</td>\n",
       "      <td>NaN</td>\n",
       "      <td>Директор представительства</td>\n",
       "      <td>FMCG</td>\n",
       "      <td>сен 2012 - фев 2014 (1 год 6 мес)</td>\n",
       "      <td>СПК «Молоко-Краина», ДП «Милкиленд-Украина»</td>\n",
       "    </tr>\n",
       "    <tr>\n",
       "      <th>5</th>\n",
       "      <td>11.58</td>\n",
       "      <td>https://rabota.ua/cv/12988410</td>\n",
       "      <td>NaN</td>\n",
       "      <td>Начальник отдела закупок сырья</td>\n",
       "      <td>Промышленность и Производство</td>\n",
       "      <td>мар 2001 - сен 2012 (11 лет 7 мес)</td>\n",
       "      <td>ПАО «Галактон», Danone-Ukraine</td>\n",
       "    </tr>\n",
       "    <tr>\n",
       "      <th>0</th>\n",
       "      <td>3.00</td>\n",
       "      <td>https://rabota.ua/cv/11793979</td>\n",
       "      <td>NaN</td>\n",
       "      <td>Директор по продажам</td>\n",
       "      <td>FMCG</td>\n",
       "      <td>янв 2017 - настоящее время (3 года)</td>\n",
       "      <td>Таврия, ПАО ДМК</td>\n",
       "    </tr>\n",
       "    <tr>\n",
       "      <th>1</th>\n",
       "      <td>1.50</td>\n",
       "      <td>https://rabota.ua/cv/11793979</td>\n",
       "      <td>NaN</td>\n",
       "      <td>Генеральный директор</td>\n",
       "      <td>FMCG</td>\n",
       "      <td>авг 2015 - янв 2017 (1 год 6 мес)</td>\n",
       "      <td>Руководитель отдела закупок</td>\n",
       "    </tr>\n",
       "    <tr>\n",
       "      <th>2</th>\n",
       "      <td>4.33</td>\n",
       "      <td>https://rabota.ua/cv/11793979</td>\n",
       "      <td>NaN</td>\n",
       "      <td>Inkerman International</td>\n",
       "      <td>FMCG</td>\n",
       "      <td>апр 2011 - июл 2015 (4 года 4 мес)</td>\n",
       "      <td>Коммерческий директор</td>\n",
       "    </tr>\n",
       "    <tr>\n",
       "      <th>3</th>\n",
       "      <td>1.00</td>\n",
       "      <td>https://rabota.ua/cv/11793979</td>\n",
       "      <td>NaN</td>\n",
       "      <td>Коммерческий директор</td>\n",
       "      <td>FMCG</td>\n",
       "      <td>янв 2010 - дек 2010 (1 лет)</td>\n",
       "      <td>Коммерческий директор</td>\n",
       "    </tr>\n",
       "    <tr>\n",
       "      <th>4</th>\n",
       "      <td>1.75</td>\n",
       "      <td>https://rabota.ua/cv/11793979</td>\n",
       "      <td>NaN</td>\n",
       "      <td>Региональный менеджер ВЭД</td>\n",
       "      <td>FMCG</td>\n",
       "      <td>авг 2007 - апр 2009 (1 год 9 мес)</td>\n",
       "      <td>Inkerman International</td>\n",
       "    </tr>\n",
       "    <tr>\n",
       "      <th>5</th>\n",
       "      <td>1.92</td>\n",
       "      <td>https://rabota.ua/cv/11793979</td>\n",
       "      <td>NaN</td>\n",
       "      <td>Генеральный директор</td>\n",
       "      <td>FMCG</td>\n",
       "      <td>сен 2005 - июл 2007 (1 год 11 мес)</td>\n",
       "      <td>Региональный менеджер</td>\n",
       "    </tr>\n",
       "    <tr>\n",
       "      <th>6</th>\n",
       "      <td>1.67</td>\n",
       "      <td>https://rabota.ua/cv/11793979</td>\n",
       "      <td>NaN</td>\n",
       "      <td>OOO \"Премьер Дистрибьюшн Компани\" RUST Ukraine</td>\n",
       "      <td>FMCG</td>\n",
       "      <td>фев 2004 - сен 2005 (1 год 8 мес)</td>\n",
       "      <td>Национальный менеджер по продажам</td>\n",
       "    </tr>\n",
       "    <tr>\n",
       "      <th>7</th>\n",
       "      <td>2.67</td>\n",
       "      <td>https://rabota.ua/cv/11793979</td>\n",
       "      <td>NaN</td>\n",
       "      <td>OOO «Современные Дистрибуторские Системы»</td>\n",
       "      <td>FMCG</td>\n",
       "      <td>июн 2001 - янв 2004 (2 года 8 мес)</td>\n",
       "      <td>Региональный менеджер</td>\n",
       "    </tr>\n",
       "    <tr>\n",
       "      <th>0</th>\n",
       "      <td>1.33</td>\n",
       "      <td>https://rabota.ua/cv/11353227</td>\n",
       "      <td>NaN</td>\n",
       "      <td>КА Project Manager (Украина &amp; Азербайджан)</td>\n",
       "      <td>Телекоммуникации / Связь</td>\n",
       "      <td>янв 2015 - апр 2016 (1 год 4 мес)</td>\n",
       "      <td>ESU LLC</td>\n",
       "    </tr>\n",
       "    <tr>\n",
       "      <th>1</th>\n",
       "      <td>0.58</td>\n",
       "      <td>https://rabota.ua/cv/11353227</td>\n",
       "      <td>NaN</td>\n",
       "      <td>Коммерческий директор представительства в Украине</td>\n",
       "      <td>Телекоммуникации / Связь</td>\n",
       "      <td>окт 2013 - апр 2014 (7 мес)</td>\n",
       "      <td>Ruptela UAB</td>\n",
       "    </tr>\n",
       "    <tr>\n",
       "      <th>2</th>\n",
       "      <td>2.75</td>\n",
       "      <td>https://rabota.ua/cv/11353227</td>\n",
       "      <td>NaN</td>\n",
       "      <td>Генеральный директор</td>\n",
       "      <td>IT - разработка ПО</td>\n",
       "      <td>фев 2011 - окт 2013 (2 года 9 мес)</td>\n",
       "      <td>Doпомагай, ООО</td>\n",
       "    </tr>\n",
       "    <tr>\n",
       "      <th>3</th>\n",
       "      <td>1.25</td>\n",
       "      <td>https://rabota.ua/cv/11353227</td>\n",
       "      <td>NaN</td>\n",
       "      <td>Заместитель Директора (Директор) по продажам и...</td>\n",
       "      <td>Телекоммуникации / Связь</td>\n",
       "      <td>дек 2009 - фев 2011 (1 год 3 мес)</td>\n",
       "      <td>International Telecommunication Company (CDMA ...</td>\n",
       "    </tr>\n",
       "    <tr>\n",
       "      <th>4</th>\n",
       "      <td>2.67</td>\n",
       "      <td>https://rabota.ua/cv/11353227</td>\n",
       "      <td>NaN</td>\n",
       "      <td>Head of Direct Sales Ukraine (Дирекция Корпора...</td>\n",
       "      <td>Телекоммуникации / Связь</td>\n",
       "      <td>мар 2006 - окт 2008 (2 года 8 мес)</td>\n",
       "      <td>LCC Astelit (GSM оператор Life :)</td>\n",
       "    </tr>\n",
       "    <tr>\n",
       "      <th>5</th>\n",
       "      <td>1.50</td>\n",
       "      <td>https://rabota.ua/cv/11353227</td>\n",
       "      <td>NaN</td>\n",
       "      <td>Национальный менеджер по продажам (Украина)</td>\n",
       "      <td>более 500 сотрудников\\r\\n\\t\\t\\t\\t\\tТорговля оп...</td>\n",
       "      <td>окт 2004 - мар 2006 (1 год 6 мес)</td>\n",
       "      <td>Алеф Виналь</td>\n",
       "    </tr>\n",
       "    <tr>\n",
       "      <th>6</th>\n",
       "      <td>0.75</td>\n",
       "      <td>https://rabota.ua/cv/11353227</td>\n",
       "      <td>NaN</td>\n",
       "      <td>Заместитель Генерального директора</td>\n",
       "      <td>Энергетика и Энергоносители</td>\n",
       "      <td>дек 2003 - авг 2004 (9 мес)</td>\n",
       "      <td>Экоил, Национальная нефтяная компания</td>\n",
       "    </tr>\n",
       "    <tr>\n",
       "      <th>7</th>\n",
       "      <td>3.17</td>\n",
       "      <td>https://rabota.ua/cv/11353227</td>\n",
       "      <td>NaN</td>\n",
       "      <td>Division Sales &amp; Development Manager</td>\n",
       "      <td>Торговля оптовая / Дистрибуция / Импорт-экспорт</td>\n",
       "      <td>авг 1999 - сен 2002 (3 года 2 мес)</td>\n",
       "      <td>South Food / Chumak, JV (СП ЗАО «Чумак»)</td>\n",
       "    </tr>\n",
       "    <tr>\n",
       "      <th>8</th>\n",
       "      <td>0.58</td>\n",
       "      <td>https://rabota.ua/cv/11353227</td>\n",
       "      <td>NaN</td>\n",
       "      <td>Sales  Team Supervisor (“Лард”, дистрибуционна...</td>\n",
       "      <td>Торговля оптовая / Дистрибуция / Импорт-экспорт</td>\n",
       "      <td>дек 1998 - июн 1999 (7 мес)</td>\n",
       "      <td>Nestle Украина</td>\n",
       "    </tr>\n",
       "    <tr>\n",
       "      <th>9</th>\n",
       "      <td>0.83</td>\n",
       "      <td>https://rabota.ua/cv/11353227</td>\n",
       "      <td>NaN</td>\n",
       "      <td>Sales Representative (“IKOM”, дистрибуционная ...</td>\n",
       "      <td>Торговля оптовая / Дистрибуция / Импорт-экспорт</td>\n",
       "      <td>мар 1998 - дек 1998 (10 мес)</td>\n",
       "      <td>Kraft Foods Украина</td>\n",
       "    </tr>\n",
       "  </tbody>\n",
       "</table>\n",
       "<p>233 rows × 7 columns</p>\n",
       "</div>"
      ],
      "text/plain": [
       "    duration                           link link_1  \\\n",
       "0       0.75   https://rabota.ua/cv/9480252    NaN   \n",
       "1       0.58   https://rabota.ua/cv/9480252    NaN   \n",
       "2       2.25   https://rabota.ua/cv/9480252    NaN   \n",
       "3       1.50   https://rabota.ua/cv/9480252    NaN   \n",
       "4       1.42   https://rabota.ua/cv/9480252    NaN   \n",
       "5       1.17   https://rabota.ua/cv/9480252    NaN   \n",
       "6       2.17   https://rabota.ua/cv/9480252    NaN   \n",
       "7       2.58   https://rabota.ua/cv/9480252    NaN   \n",
       "0       2.17   https://rabota.ua/cv/9186688    NaN   \n",
       "1       8.00   https://rabota.ua/cv/9186688    NaN   \n",
       "2       3.58   https://rabota.ua/cv/9186688    NaN   \n",
       "3       2.42   https://rabota.ua/cv/9186688    NaN   \n",
       "4       2.75   https://rabota.ua/cv/9186688    NaN   \n",
       "0       1.67   https://rabota.ua/cv/8527644    NaN   \n",
       "1       0.50   https://rabota.ua/cv/8527644    NaN   \n",
       "2       1.17   https://rabota.ua/cv/8527644    NaN   \n",
       "3       4.00   https://rabota.ua/cv/8527644    NaN   \n",
       "4       0.92   https://rabota.ua/cv/8527644    NaN   \n",
       "5       0.92   https://rabota.ua/cv/8527644    NaN   \n",
       "6      14.08   https://rabota.ua/cv/8527644    NaN   \n",
       "0       1.92   https://rabota.ua/cv/8420437    NaN   \n",
       "1       1.08   https://rabota.ua/cv/8420437    NaN   \n",
       "2       0.67   https://rabota.ua/cv/8420437    NaN   \n",
       "3       1.33   https://rabota.ua/cv/8420437    NaN   \n",
       "4       0.33   https://rabota.ua/cv/8420437    NaN   \n",
       "5       7.25   https://rabota.ua/cv/8420437    NaN   \n",
       "0       1.42   https://rabota.ua/cv/8404510    NaN   \n",
       "1       2.25   https://rabota.ua/cv/8404510    NaN   \n",
       "2       6.17   https://rabota.ua/cv/8404510    NaN   \n",
       "3       3.00   https://rabota.ua/cv/8404510    NaN   \n",
       "..       ...                            ...    ...   \n",
       "0       3.17  https://rabota.ua/cv/13817098    NaN   \n",
       "1       2.25  https://rabota.ua/cv/13817098    NaN   \n",
       "2       3.67  https://rabota.ua/cv/13817098    NaN   \n",
       "3       3.17  https://rabota.ua/cv/13817098    NaN   \n",
       "4       1.33  https://rabota.ua/cv/13817098    NaN   \n",
       "5       1.25  https://rabota.ua/cv/13817098    NaN   \n",
       "0       1.50  https://rabota.ua/cv/12988410    NaN   \n",
       "1       0.42  https://rabota.ua/cv/12988410    NaN   \n",
       "2       0.83  https://rabota.ua/cv/12988410    NaN   \n",
       "3       1.33  https://rabota.ua/cv/12988410    NaN   \n",
       "4       1.50  https://rabota.ua/cv/12988410    NaN   \n",
       "5      11.58  https://rabota.ua/cv/12988410    NaN   \n",
       "0       3.00  https://rabota.ua/cv/11793979    NaN   \n",
       "1       1.50  https://rabota.ua/cv/11793979    NaN   \n",
       "2       4.33  https://rabota.ua/cv/11793979    NaN   \n",
       "3       1.00  https://rabota.ua/cv/11793979    NaN   \n",
       "4       1.75  https://rabota.ua/cv/11793979    NaN   \n",
       "5       1.92  https://rabota.ua/cv/11793979    NaN   \n",
       "6       1.67  https://rabota.ua/cv/11793979    NaN   \n",
       "7       2.67  https://rabota.ua/cv/11793979    NaN   \n",
       "0       1.33  https://rabota.ua/cv/11353227    NaN   \n",
       "1       0.58  https://rabota.ua/cv/11353227    NaN   \n",
       "2       2.75  https://rabota.ua/cv/11353227    NaN   \n",
       "3       1.25  https://rabota.ua/cv/11353227    NaN   \n",
       "4       2.67  https://rabota.ua/cv/11353227    NaN   \n",
       "5       1.50  https://rabota.ua/cv/11353227    NaN   \n",
       "6       0.75  https://rabota.ua/cv/11353227    NaN   \n",
       "7       3.17  https://rabota.ua/cv/11353227    NaN   \n",
       "8       0.58  https://rabota.ua/cv/11353227    NaN   \n",
       "9       0.83  https://rabota.ua/cv/11353227    NaN   \n",
       "\n",
       "                                            должность  \\\n",
       "0   Руководитель по закупкам \"напольная группа\" (п...   \n",
       "1      Региональный директор (проектная деятельность)   \n",
       "2   Руководитель отдела продаж / директор филиала ...   \n",
       "3   Региональный менеджер Восток (Днепропетровская...   \n",
       "4   Территориальный менеджер, Днепропетровская и Л...   \n",
       "5   Директор филиала / Территориальный менеджер, Л...   \n",
       "6                                         Супервайзер   \n",
       "7                         Торговый представитель FMCG   \n",
       "0                                            Директор   \n",
       "1        Заместитель директора по вопросам управления   \n",
       "2                                            Директор   \n",
       "3                               Региональный менеджер   \n",
       "4   Заместитель директора по логистике; начальник ...   \n",
       "0                                            Дмректор   \n",
       "1                                Генеральный директор   \n",
       "2                             Исполнительный директор   \n",
       "3                                    совладелец клуба   \n",
       "4                                Генеральный директор   \n",
       "5                                Начальник управления   \n",
       "6                                Генеральный директор   \n",
       "0   Национальный менеджер по развитию дистрибьюции...   \n",
       "1                                Директор по продажам   \n",
       "2                                    Менеджер проекта   \n",
       "3   Заместитель директора департамента развития фи...   \n",
       "4                            Директор направления ЛВИ   \n",
       "5                                Компания Алеф Виналь   \n",
       "0                           Административный директор   \n",
       "1                             Частный предприниматель   \n",
       "2                            Директор, зам. директора   \n",
       "3               Руководитель дистрибьюторского центра   \n",
       "..                                                ...   \n",
       "0                                Руководитель проекта   \n",
       "1                                Директор по продажам   \n",
       "2                                         Собственник   \n",
       "3                                      Арнест Украина   \n",
       "4                                            Директор   \n",
       "5                                Директор по продажам   \n",
       "0                               Директор по логистике   \n",
       "1                                      И.о. директора   \n",
       "2   Срочный директор филиалов (антикризисный менед...   \n",
       "3                               Операционный директор   \n",
       "4                          Директор представительства   \n",
       "5                      Начальник отдела закупок сырья   \n",
       "0                                Директор по продажам   \n",
       "1                                Генеральный директор   \n",
       "2                              Inkerman International   \n",
       "3                               Коммерческий директор   \n",
       "4                           Региональный менеджер ВЭД   \n",
       "5                                Генеральный директор   \n",
       "6      OOO \"Премьер Дистрибьюшн Компани\" RUST Ukraine   \n",
       "7           OOO «Современные Дистрибуторские Системы»   \n",
       "0          КА Project Manager (Украина & Азербайджан)   \n",
       "1   Коммерческий директор представительства в Украине   \n",
       "2                                Генеральный директор   \n",
       "3   Заместитель Директора (Директор) по продажам и...   \n",
       "4   Head of Direct Sales Ukraine (Дирекция Корпора...   \n",
       "5         Национальный менеджер по продажам (Украина)   \n",
       "6                  Заместитель Генерального директора   \n",
       "7                Division Sales & Development Manager   \n",
       "8   Sales  Team Supervisor (“Лард”, дистрибуционна...   \n",
       "9   Sales Representative (“IKOM”, дистрибуционная ...   \n",
       "\n",
       "                                              отрасль  \\\n",
       "0     Торговля оптовая / Дистрибуция / Импорт-экспорт   \n",
       "1     Торговля оптовая / Дистрибуция / Импорт-экспорт   \n",
       "2     Торговля оптовая / Дистрибуция / Импорт-экспорт   \n",
       "3          от 50 до 100 сотрудников\\r\\n\\t\\t\\t\\t\\tFMCG   \n",
       "4          от 50 до 100 сотрудников\\r\\n\\t\\t\\t\\t\\tFMCG   \n",
       "5             более 500 сотрудников\\r\\n\\t\\t\\t\\t\\tFMCG   \n",
       "6             более 500 сотрудников\\r\\n\\t\\t\\t\\t\\tFMCG   \n",
       "7             более 500 сотрудников\\r\\n\\t\\t\\t\\t\\tFMCG   \n",
       "0                                       Строительство   \n",
       "1   до 20 сотрудников\\r\\n\\t\\t\\t\\t\\tНедвижимость и ...   \n",
       "2   до 20 сотрудников\\r\\n\\t\\t\\t\\t\\tТорговля оптова...   \n",
       "3                                                FMCG   \n",
       "4   от 50 до 100 сотрудников\\r\\n\\t\\t\\t\\t\\tТорговля...   \n",
       "0                                       Строительство   \n",
       "1     Торговля оптовая / Дистрибуция / Импорт-экспорт   \n",
       "2                          Недвижимость и Девелопмент   \n",
       "3   более 500 сотрудников\\r\\n\\t\\t\\t\\t\\tУслуги для ...   \n",
       "4   от 100 до 250 сотрудников\\r\\n\\t\\t\\t\\t\\tТранспо...   \n",
       "5   от 50 до 100 сотрудников\\r\\n\\t\\t\\t\\t\\tГосударс...   \n",
       "6                                                FMCG   \n",
       "0                                                FMCG   \n",
       "1                                                FMCG   \n",
       "2                                                FMCG   \n",
       "3             более 500 сотрудников\\r\\n\\t\\t\\t\\t\\tFMCG   \n",
       "4             более 500 сотрудников\\r\\n\\t\\t\\t\\t\\tFMCG   \n",
       "5             более 500 сотрудников\\r\\n\\t\\t\\t\\t\\tFMCG   \n",
       "0     Торговля оптовая / Дистрибуция / Импорт-экспорт   \n",
       "1                                              Другое   \n",
       "2                          Недвижимость и Девелопмент   \n",
       "3   от 250 до 500 сотрудников\\r\\n\\t\\t\\t\\t\\tПромышл...   \n",
       "..                                                ...   \n",
       "0                                                FMCG   \n",
       "1                                                FMCG   \n",
       "2                                                FMCG   \n",
       "3                                                FMCG   \n",
       "4                                                FMCG   \n",
       "5                                                FMCG   \n",
       "0                         Торговля розничная / Retail   \n",
       "1       Отели / Рестораны / Развлекательные комплексы   \n",
       "2                       Промышленность и Производство   \n",
       "3                       Промышленность и Производство   \n",
       "4                                                FMCG   \n",
       "5                       Промышленность и Производство   \n",
       "0                                                FMCG   \n",
       "1                                                FMCG   \n",
       "2                                                FMCG   \n",
       "3                                                FMCG   \n",
       "4                                                FMCG   \n",
       "5                                                FMCG   \n",
       "6                                                FMCG   \n",
       "7                                                FMCG   \n",
       "0                            Телекоммуникации / Связь   \n",
       "1                            Телекоммуникации / Связь   \n",
       "2                                  IT - разработка ПО   \n",
       "3                            Телекоммуникации / Связь   \n",
       "4                            Телекоммуникации / Связь   \n",
       "5   более 500 сотрудников\\r\\n\\t\\t\\t\\t\\tТорговля оп...   \n",
       "6                         Энергетика и Энергоносители   \n",
       "7     Торговля оптовая / Дистрибуция / Импорт-экспорт   \n",
       "8     Торговля оптовая / Дистрибуция / Импорт-экспорт   \n",
       "9     Торговля оптовая / Дистрибуция / Импорт-экспорт   \n",
       "\n",
       "                                       период  \\\n",
       "0          апр 2019 - настоящее время (9 мес)   \n",
       "1                 окт 2018 - апр 2019 (7 мес)   \n",
       "2          авг 2016 - окт 2018 (2 года 3 мес)   \n",
       "3           мар 2015 - авг 2016 (1 год 6 мес)   \n",
       "4           ноя 2013 - мар 2015 (1 год 5 мес)   \n",
       "5           окт 2012 - ноя 2013 (1 год 2 мес)   \n",
       "6          авг 2010 - сен 2012 (2 года 2 мес)   \n",
       "7          фев 2008 - авг 2010 (2 года 7 мес)   \n",
       "0          ноя 2016 - дек 2018 (2 года 2 мес)   \n",
       "1                 апр 2008 - мар 2016 (8 лет)   \n",
       "2          сен 2004 - мар 2008 (3 года 7 мес)   \n",
       "3          фев 2002 - июн 2004 (2 года 5 мес)   \n",
       "4          май 1999 - янв 2002 (2 года 9 мес)   \n",
       "0    май 2018 - настоящее время (1 год 8 мес)   \n",
       "1                 сен 2017 - фев 2018 (6 мес)   \n",
       "2           ноя 2016 - дек 2017 (1 год 2 мес)   \n",
       "3                сен 2012 - авг 2016 (4 года)   \n",
       "4                май 2009 - мар 2010 (11 мес)   \n",
       "5                июн 2008 - апр 2009 (11 мес)   \n",
       "6          июн 1994 - июн 2008 (14 лет 1 мес)   \n",
       "0   фев 2018 - настоящее время (1 год 11 мес)   \n",
       "1           авг 2016 - авг 2017 (1 год 1 мес)   \n",
       "2                 янв 2016 - авг 2016 (8 мес)   \n",
       "3           авг 2014 - ноя 2015 (1 год 4 мес)   \n",
       "4                 апр 2014 - июл 2014 (4 мес)   \n",
       "5           фев 2007 - апр 2014 (7 лет 3 мес)   \n",
       "0           май 2018 - сен 2019 (1 год 5 мес)   \n",
       "1          янв 2016 - мар 2018 (2 года 3 мес)   \n",
       "2           ноя 2009 - дек 2015 (6 лет 2 мес)   \n",
       "3                дек 2006 - ноя 2009 (3 года)   \n",
       "..                                        ...   \n",
       "0   ноя 2016 - настоящее время (3 года 2 мес)   \n",
       "1          авг 2014 - окт 2016 (2 года 3 мес)   \n",
       "2          янв 2011 - авг 2014 (3 года 8 мес)   \n",
       "3          ноя 2007 - дек 2010 (3 года 2 мес)   \n",
       "4           авг 2006 - ноя 2007 (1 год 4 мес)   \n",
       "5           май 2005 - июл 2006 (1 год 3 мес)   \n",
       "0    июл 2018 - настоящее время (1 год 6 мес)   \n",
       "1                 сен 2017 - янв 2018 (5 мес)   \n",
       "2                мар 2016 - дек 2016 (10 мес)   \n",
       "3           дек 2014 - мар 2016 (1 год 4 мес)   \n",
       "4           сен 2012 - фев 2014 (1 год 6 мес)   \n",
       "5          мар 2001 - сен 2012 (11 лет 7 мес)   \n",
       "0         янв 2017 - настоящее время (3 года)   \n",
       "1           авг 2015 - янв 2017 (1 год 6 мес)   \n",
       "2          апр 2011 - июл 2015 (4 года 4 мес)   \n",
       "3                 янв 2010 - дек 2010 (1 лет)   \n",
       "4           авг 2007 - апр 2009 (1 год 9 мес)   \n",
       "5          сен 2005 - июл 2007 (1 год 11 мес)   \n",
       "6           фев 2004 - сен 2005 (1 год 8 мес)   \n",
       "7          июн 2001 - янв 2004 (2 года 8 мес)   \n",
       "0           янв 2015 - апр 2016 (1 год 4 мес)   \n",
       "1                 окт 2013 - апр 2014 (7 мес)   \n",
       "2          фев 2011 - окт 2013 (2 года 9 мес)   \n",
       "3           дек 2009 - фев 2011 (1 год 3 мес)   \n",
       "4          мар 2006 - окт 2008 (2 года 8 мес)   \n",
       "5           окт 2004 - мар 2006 (1 год 6 мес)   \n",
       "6                 дек 2003 - авг 2004 (9 мес)   \n",
       "7          авг 1999 - сен 2002 (3 года 2 мес)   \n",
       "8                 дек 1998 - июн 1999 (7 мес)   \n",
       "9                мар 1998 - дек 1998 (10 мес)   \n",
       "\n",
       "                                          предприятие  \n",
       "0                      ГК Платан Систем Трейд Украина  \n",
       "1                      ГК Платан Систем Трейд Украина  \n",
       "2                                  СТРОЙКОМПЛЕКТ, ООО  \n",
       "3                                       Roust Ukraine  \n",
       "4                                       Roust Ukraine  \n",
       "5                    Крымская Водочная Компания,  ООО  \n",
       "6                    Крымская Водочная Компания,  ООО  \n",
       "7                    Крымская Водочная Компания,  ООО  \n",
       "0                                                  ЧП  \n",
       "1                                     ИнвестХаус, ТОВ  \n",
       "2                                       Корсар Сервис  \n",
       "3                                       компании FMCG  \n",
       "4                                          Премиумвин  \n",
       "0                                   ТОВ \"САГ Енерджи\"  \n",
       "1                                    ТОВ \"ТД Альтаир\"  \n",
       "2                                     \"Балтия-Сервіс\"  \n",
       "3                                           FitCurves  \n",
       "4                                         Гринко-Киев  \n",
       "5             Васильковская районная госадминистрация  \n",
       "6                                      ИТЕК универсал  \n",
       "0                 Производитель алкогольной продукции  \n",
       "1                                Kamyanka Global Wine  \n",
       "2                 JKconsult, Киев (Аутсорсинг продаж)  \n",
       "3   Группа компаний ООО \"PetRus\" (Производство алк...  \n",
       "4   Директор филиала прямых продаж (Киевская область)  \n",
       "5                                Директор по продажам  \n",
       "0                                          ТД \"Сокол\"  \n",
       "1                             Частный предприниматель  \n",
       "2   \"Компания \"Ассоциация Украина\", \"Голден Гейт Б...  \n",
       "3                                    Голден Тайл, ООО  \n",
       "..                                                ...  \n",
       "0                                    Проектная работа  \n",
       "1                                            Директор  \n",
       "2   Национальный менеджер по работе с ключевыми кл...  \n",
       "3                                            Директор  \n",
       "4                                                 КАМ  \n",
       "5                                      Интегритас ООО  \n",
       "0                      Барком (ТМ «Родинна ковбаска»)  \n",
       "1                                Зоопарк «12 месяцев»  \n",
       "2   ДП «Милкиленд-Украина», «Роменский молочный ко...  \n",
       "3   ООО «Глобинский маслосырзавод», Группа компани...  \n",
       "4         СПК «Молоко-Краина», ДП «Милкиленд-Украина»  \n",
       "5                      ПАО «Галактон», Danone-Ukraine  \n",
       "0                                     Таврия, ПАО ДМК  \n",
       "1                         Руководитель отдела закупок  \n",
       "2                               Коммерческий директор  \n",
       "3                               Коммерческий директор  \n",
       "4                              Inkerman International  \n",
       "5                               Региональный менеджер  \n",
       "6                   Национальный менеджер по продажам  \n",
       "7                               Региональный менеджер  \n",
       "0                                             ESU LLC  \n",
       "1                                         Ruptela UAB  \n",
       "2                                      Doпомагай, ООО  \n",
       "3   International Telecommunication Company (CDMA ...  \n",
       "4                   LCC Astelit (GSM оператор Life :)  \n",
       "5                                         Алеф Виналь  \n",
       "6               Экоил, Национальная нефтяная компания  \n",
       "7            South Food / Chumak, JV (СП ЗАО «Чумак»)  \n",
       "8                                      Nestle Украина  \n",
       "9                                 Kraft Foods Украина  \n",
       "\n",
       "[233 rows x 7 columns]"
      ]
     },
     "execution_count": 177,
     "metadata": {},
     "output_type": "execute_result"
    }
   ],
   "source": [
    "df1"
   ]
  },
  {
   "cell_type": "code",
   "execution_count": 187,
   "metadata": {},
   "outputs": [],
   "source": [
    "def rabotaua_sum(link):\n",
    "    response=requests.get(link)\n",
    "    soup=BeautifulSoup(response.text,'html.parser')\n",
    "    refresh_year=soup.find('span',{'class':'muted'}).text\n",
    "    time.sleep(3)\n",
    "    update_year=re.findall('\\d+',refresh_year)[1]\n",
    "    \n",
    "    name=soup.find('span',id='ctl00_centerZone_BriefResume1_CvView1_cvHeader_lblName').text\n",
    "    \n",
    "    short=soup.find('p',{'class':'rua-p-t_12'}).text.strip().split('\\r\\n')\n",
    "    city=short[0]\n",
    "    regex = re.compile('\\d+')\n",
    "    age=regex.findall(short[1])[0]\n",
    "    try:\n",
    "        regex = re.compile('\\d+')\n",
    "        price=regex.findall(short[2])[0]+regex.findall(short[2])[1]\n",
    "    except:\n",
    "        pass\n",
    "    try:\n",
    "        brief=soup.find('span',id='ctl00_centerZone_BriefResume1_CvView1_Skills_txtSkills').text.replace('Программное обеспечение и сервисы: ','')\n",
    "    except:\n",
    "        pass\n",
    "    exp=soup.find('div',id='ExperienceHolder').text.replace('Опыт работы','').replace('Нет опыта работы','')\n",
    "    edu=soup.find('div',id='EducationHolder').text.replace('Образование','')\n",
    "    lang=soup.find('div',id='LanguagesHolder').text.replace('Владение языками','')\n",
    "    scrap_date=date.today()\n",
    "    field1={'name':name,'link':link,'update_year':update_year,'city':city,'age':age,'price':price,'brief':brief,'exp':exp,'edu':edu,'lang':lang,'scrap_date':scrap_date}\n",
    "    \n",
    "\n",
    "    time.sleep(5)\n",
    "    \n",
    "    gde=[]\n",
    "    kogda=[]\n",
    "    b1=soup.find('div',id='ExperienceHolder').find_all('b')\n",
    "    m=soup.find('div',id='ExperienceHolder').find_all('em')\n",
    "    for i in b1:\n",
    "        gde.append(i.text.strip())\n",
    "    for k in m:\n",
    "        kogda.append(k.text.strip())\n",
    "    \n",
    "    # если слово выделено, то оно попадает в gde, там образуется шлак\n",
    "    # попыталась сделать ручные исключения\n",
    "    # работает плохо, но как попытка\n",
    "    \n",
    "    gde=[x for x in gde if \"Достиж\" not in x]\n",
    "    gde=[x for x in gde if \"Рекоменд\" not in x]\n",
    "    gde=[x for x in gde if \"улучш\" not in x]\n",
    "    gde=[x for x in gde if \"Результ\" not in x]\n",
    "    gde=[x for x in gde if \"Обязанн\" not in x]\n",
    "    gde=[x for x in gde if \"достиж\" not in x]\n",
    "    gde=gde[:min(len(gde),len(kogda))] # привожу два листа к одной размерности\n",
    "    \n",
    "    kogda=kogda[:min(len(gde),len(kogda))]# привожу два листа к одной размерности\n",
    "    d = {'должность':gde,'период':kogda} # создаю словать и dataframe\n",
    "    uh=pd.DataFrame(d)\n",
    "    \n",
    "    uh['предприятие']=uh['должность'].shift(-1)# копирую и поднимаю столбец, чтобы сделать строки\n",
    "    uh['отрасль']=uh['период'].shift(-1)# копирую и поднимаю столбец, чтобы сделать строки\n",
    "    \n",
    "    \n",
    "    \n",
    "    uhh=uh.iloc[::2, :] # беру каждую вторую строку\n",
    "    \n",
    "    # извлекаю из строчного периода цифровой год и месяц в duration\n",
    "    regex=re.compile('(\\(\\d+.лет|\\(\\d+.год)')\n",
    "    uhh['год']=uhh['период'].str.extract(regex)\n",
    "    uhh['год']=uhh['год'].str.extract(r'(\\d+)').fillna(0)\n",
    "    uhh['мес']=uhh['период'].str.extract('(\\d+).мес').fillna(0)\n",
    "    uhh['мес1']=uhh['мес'].astype(int)/12\n",
    "    uhh['duration']=uhh['год'].astype(int)+uhh['мес1'].round(2)\n",
    "    \n",
    "    #формирую таблицу\n",
    "    uhh['link']=link\n",
    "    uhh=uhh[['link','предприятие','должность','период','отрасль','duration']].reset_index(drop=True)\n",
    "    return uhh,field1"
   ]
  },
  {
   "cell_type": "code",
   "execution_count": 188,
   "metadata": {
    "scrolled": true
   },
   "outputs": [],
   "source": [
    "result=rabotaua_sum('https://rabota.ua/cv/11353227')"
   ]
  },
  {
   "cell_type": "code",
   "execution_count": 189,
   "metadata": {},
   "outputs": [
    {
     "data": {
      "text/plain": [
       "{'name': 'Анатолий',\n",
       " 'link': 'https://rabota.ua/cv/11353227',\n",
       " 'update_year': '2019',\n",
       " 'city': 'Киев',\n",
       " 'age': '41',\n",
       " 'price': '1111',\n",
       " 'brief': 'Проекты, реализованные в Госсекторе:Министерство Транспорта (Инфраструктуры) Украины: Data Transfer - 2006, AstelitPush to talk - 2007, AstelitTaxi Federation Ukraine: sms communication platform - 2006-2008, AstelitGPS monitoring service - 2008, AstelitMobile community corporation, 10 000 numbers, AstelitМинистерство Внутренних Дел Украины:PBX integration (Central office)- 2008, AstelitFCT integration (regional offices) - 2008, AstelitMobile community corporation, 4 200 numbers, AstelitIndoor + WiFi solution - Heydar Aliev Congress Hall, Baku, Azerbaijan, ESUIndoor + WiFi solution - Baku Bus, Baku, Azerbaijan, ESU\\xa0\\xa0Министерство Здравоохранения УкраиныDirect number + data transfer - Special community corporation, 2010, CDMA UkraineКабинет Министров Украины :Mobile Corporation + family numbers, 2010, CDMA UkraineData transfer, 2010, CDMA UkraineРегиональные Госадминистрации Украины (7 regions):1)\\xa0 Mobile Corporation + family numbers, 2010, CDMA Ukraine2)\\xa0 Data transfer, 2010, CDMA Ukraine\\xa0 -\\xa0 Министерство Финансов Азербайджана:\\xa0 1)\\xa0 Indoor / WiFi Solution for Heydar Aliev Congress Hall, 2015, ESU\\xa0 -\\xa0 Министерство Транспорта Азербайджана:\\xa0 1)\\xa0 Indoor / WiFi Solution for Baku Bus, 2016, ESU\\xa0\\xa0Проекты, реализованные в Телеком секторе:Farlep/Optima Teleсom - PBX integration, 2007, AstelitKyivstar GSM Network Modernization (Rollout & SWAP) - 2015-2016, ESUEricsson - Astelit GSM Network Modernization (Rollout & SWAP) - 2015-2016, ESUAzerphone GSM Network Modernization (Rollout & SWAP) - 2015-2016, ESUBakcell GSM Network Modernization (Rollout & SWAP) - 2015-2016, ESUKyivstar GSM Network Maintenance - 2015-2016, ESU',\n",
       " 'exp': '\\r\\nКА Project Manager (Украина & Азербайджан)янв 2015 - апр 2016 (1 год 4 мес)ESU LLCТелекоммуникации / Связь\\r\\n\\t\\t\\t\\tКоммерческий директор представительства в Украинеокт 2013 - апр 2014 (7 мес)Ruptela UABТелекоммуникации / Связь\\r\\n\\t\\t\\t\\tГенеральный директорфев 2011 - окт 2013 (2 года 9 мес)Doпомагай, ОООIT - разработка ПО\\r\\n\\t\\t\\t\\tЗаместитель Директора (Директор) по продажам и маркетингудек 2009 - фев 2011 (1 год 3 мес)International Telecommunication Company (CDMA Украина)Телекоммуникации / Связь\\r\\n\\t\\t\\t\\tHead of Direct Sales Ukraine (Дирекция Корпоративного Сегмента,В2В)мар 2006 - окт 2008 (2 года 8 мес)LCC Astelit (GSM оператор Life :)Телекоммуникации / Связь\\r\\n\\t\\t\\t\\tНациональный менеджер по продажам (Украина)окт 2004 - мар 2006 (1 год 6 мес)Алеф Виналь(http://www.alef-vinal.ua/)\\r\\n\\t\\t\\t\\tболее 500 сотрудников\\r\\n\\t\\t\\t\\t\\tТорговля оптовая / Дистрибуция / Импорт-экспорт\\r\\n\\t\\t\\t\\tЗаместитель Генерального директорадек 2003 - авг 2004 (9 мес)Экоил, Национальная нефтяная компания Энергетика и Энергоносители\\r\\n\\t\\t\\t\\tDivision Sales & Development Managerавг 1999 - сен 2002 (3 года 2 мес)South Food / Chumak, JV (СП ЗАО «Чумак»)Торговля оптовая / Дистрибуция / Импорт-экспорт\\r\\n\\t\\t\\t\\tSales  Team Supervisor (“Лард”, дистрибуционная компания, Ровно)дек 1998 - июн 1999 (7 мес)Nestle Украина Торговля оптовая / Дистрибуция / Импорт-экспорт\\r\\n\\t\\t\\t\\t.Sales Representative (“IKOM”, дистрибуционная компания, Ровно) мар 1998 - дек 1998 (10 мес) Kraft Foods Украина Торговля оптовая / Дистрибуция / Импорт-экспорт\\r\\n\\t\\t\\t\\t.',\n",
       " 'edu': 'LIM(Львов)\\r\\n\\t\\t\\tГод окончания\\r\\n\\t\\t\\t\\t2002\\r\\n\\t\\t\\tMBA (Organizational management)\\r\\n\\t\\r\\n\\t\\tВолынский Государственный Университет(Луцк)\\r\\n\\t\\t\\tГод окончания\\r\\n\\t\\t\\t\\t1995\\r\\n\\t\\t\\tИсторический\\r\\n\\t\\r\\n\\r\\n\\t\\t\\t',\n",
       " 'lang': 'Английский- свободно\\r\\n\\t\\t\\tМогу проходить собеседование на этом языкеФранцузский- выше среднего\\r\\n\\t\\t\\t\\r\\n\\t\\tПольский- свободно\\r\\n\\t\\t\\tМогу проходить собеседование на этом языкеРусский- свободно\\r\\n\\t\\t\\tМогу проходить собеседование на этом языкеУкраинский- родной\\r\\n\\t\\t\\t\\r\\n\\t\\t',\n",
       " 'scrap_date': datetime.date(2019, 12, 16)}"
      ]
     },
     "execution_count": 189,
     "metadata": {},
     "output_type": "execute_result"
    }
   ],
   "source": [
    "result[1]"
   ]
  }
 ],
 "metadata": {
  "kernelspec": {
   "display_name": "Python 3",
   "language": "python",
   "name": "python3"
  },
  "language_info": {
   "codemirror_mode": {
    "name": "ipython",
    "version": 3
   },
   "file_extension": ".py",
   "mimetype": "text/x-python",
   "name": "python",
   "nbconvert_exporter": "python",
   "pygments_lexer": "ipython3",
   "version": "3.7.3"
  },
  "varInspector": {
   "cols": {
    "lenName": 16,
    "lenType": 16,
    "lenVar": 40
   },
   "kernels_config": {
    "python": {
     "delete_cmd_postfix": "",
     "delete_cmd_prefix": "del ",
     "library": "var_list.py",
     "varRefreshCmd": "print(var_dic_list())"
    },
    "r": {
     "delete_cmd_postfix": ") ",
     "delete_cmd_prefix": "rm(",
     "library": "var_list.r",
     "varRefreshCmd": "cat(var_dic_list()) "
    }
   },
   "types_to_exclude": [
    "module",
    "function",
    "builtin_function_or_method",
    "instance",
    "_Feature"
   ],
   "window_display": false
  }
 },
 "nbformat": 4,
 "nbformat_minor": 2
}

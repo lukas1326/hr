{
 "cells": [
  {
   "cell_type": "code",
   "execution_count": 9,
   "metadata": {},
   "outputs": [],
   "source": [
    "from bs4 import BeautifulSoup\n",
    "import requests\n",
    "import urllib.request\n",
    "import time\n",
    "import pandas as pd\n",
    "import re\n",
    "from openpyxl import load_workbook\n",
    "from selenium import webdriver\n",
    "from datetime import date\n",
    "from parsel import Selector"
   ]
  },
  {
   "cell_type": "code",
   "execution_count": 2,
   "metadata": {
    "scrolled": false
   },
   "outputs": [],
   "source": [
    "def ele():\n",
    "# получение всех ссылок linkedin на одной странице\n",
    "    elems = driver.find_elements_by_xpath(\"//a[@href]\")\n",
    "    elems= [elem.get_attribute(\"href\")for elem in elems]\n",
    "    ln_links = [x for x in elems if re.search(r'^https://ua.linkedin.com/in/', x)]\n",
    "    return ln_links"
   ]
  },
  {
   "cell_type": "code",
   "execution_count": 14,
   "metadata": {},
   "outputs": [],
   "source": [
    "# парсим с резюме нужные значения, записываем по-строчно в файл resumes.xlsx \n",
    "def rabotaua(link):\n",
    "    name=None\n",
    "    city=None\n",
    "    age=None\n",
    "    price=None\n",
    "    brief=None\n",
    "    exp=None\n",
    "    edu=None\n",
    "    lang=None\n",
    "    \n",
    "    \n",
    "    response=requests.get(link)\n",
    "    soup=BeautifulSoup(response.text,'html.parser')\n",
    "    name=soup.find('span',id='ctl00_centerZone_BriefResume1_CvView1_cvHeader_lblName').text\n",
    "    \n",
    "    short=soup.find('p',{'class':'rua-p-t_12'}).text.strip().split('\\r\\n')\n",
    "    city=short[0]\n",
    "    regex = re.compile('\\d+')\n",
    "    age=regex.findall(short[1])[0]\n",
    "    try:\n",
    "        regex = re.compile('\\d+')\n",
    "        price=regex.findall(short[2])[0]+regex.findall(short[2])[1]\n",
    "    except:\n",
    "        pass\n",
    "    try:\n",
    "        brief=soup.find('span',id='ctl00_centerZone_BriefResume1_CvView1_Skills_txtSkills').text.replace('Программное обеспечение и сервисы: ','')\n",
    "    except:\n",
    "        pass\n",
    "    exp=soup.find('div',id='ExperienceHolder').text.replace('Опыт работы','').replace('Нет опыта работы','')\n",
    "    edu=soup.find('div',id='EducationHolder').text.replace('Образование','')\n",
    "    lang=soup.find('div',id='LanguagesHolder').text.replace('Владение языками','')\n",
    "    scrap_date=date.today()\n",
    "    field1=[name,link,city,age,price,brief,exp,edu,lang,scrap_date]\n",
    "    file_name = \"resumes.xlsx\"\n",
    "    wb = load_workbook(file_name)\n",
    "\n",
    "    page = wb.active\n",
    "    page.append(field1)\n",
    "    wb.save(file_name)\n",
    "    name=None\n",
    "    link=None\n",
    "    city=None\n",
    "    age=None\n",
    "    price=None\n",
    "    brief=None\n",
    "    exp=None\n",
    "    edu=None\n",
    "    lang=None"
   ]
  },
  {
   "cell_type": "code",
   "execution_count": 364,
   "metadata": {},
   "outputs": [],
   "source": [
    "# загружаем драйвер, открывается новое окно хрома, в этом окне делаем запрос на поиск, с каждой страницы\n",
    "# собираем нужные ссылки, закрываем драйвер\n",
    "driver = webdriver.Chrome('C:\\\\ProgramData\\chromedriver.exe')"
   ]
  },
  {
   "cell_type": "code",
   "execution_count": 365,
   "metadata": {},
   "outputs": [],
   "source": [
    "# google search \n",
    "# start driver (new chrome window)\n",
    "driver.get('https:www.google.com')\n",
    "time.sleep(3)\n",
    "\n",
    "# запрос на поиск \n",
    "search_query = driver.find_element_by_name('q')\n",
    "search_query.send_keys('site:linkedin.com/in/ AND \"commercial director\" AND \"Kyiv\" AND \"FMCG\"')\n",
    "time.sleep(0.5)\n",
    "\n",
    "# имитация ввода запроса на поиск\n",
    "search_query.send_keys(u'\\ue007')\n",
    "time.sleep(3)\n",
    "\n",
    "# формируем список ссылок с первых десяти страниц\n",
    "list_link=[]\n",
    "list_link=ele()\n",
    "\n"
   ]
  },
  {
   "cell_type": "code",
   "execution_count": 366,
   "metadata": {},
   "outputs": [
    {
     "data": {
      "text/plain": [
       "['https://ua.linkedin.com/in/dmytropysarev',\n",
       " 'https://ua.linkedin.com/in/vladyslav-cherednichenko-617a3257',\n",
       " 'https://ua.linkedin.com/in/andriy-mazan-12096741',\n",
       " 'https://ua.linkedin.com/in/sergeybdm',\n",
       " 'https://ua.linkedin.com/in/sergii-pivnov',\n",
       " 'https://ua.linkedin.com/in/dmitriygordiychuk',\n",
       " 'https://ua.linkedin.com/in/yevgeniyivanov',\n",
       " 'https://ua.linkedin.com/in/oleksii-ostapchenko-46577a2b',\n",
       " 'https://ua.linkedin.com/in/serhiy-hrysyuk-b168a522',\n",
       " 'https://ua.linkedin.com/in/oleksii-grychyna']"
      ]
     },
     "execution_count": 366,
     "metadata": {},
     "output_type": "execute_result"
    }
   ],
   "source": [
    "list_link"
   ]
  },
  {
   "cell_type": "code",
   "execution_count": 18,
   "metadata": {},
   "outputs": [],
   "source": [
    "#list_link=sum(list_link, [])# делаем"
   ]
  },
  {
   "cell_type": "code",
   "execution_count": 367,
   "metadata": {},
   "outputs": [],
   "source": [
    "driver.get('https://www.linkedin.com')\n"
   ]
  },
  {
   "cell_type": "code",
   "execution_count": 368,
   "metadata": {},
   "outputs": [],
   "source": [
    "# МОЕ подключение к Linkedin - только мое\n",
    "\n",
    "username = driver.find_element_by_name('session_key')\n",
    "username.send_keys('olga.lukasevich@gmail.com')\n",
    "time.sleep(0.5)\n",
    "password=driver.find_element_by_name('session_password')\n",
    "password.send_keys('reasons2005')\n",
    "time.sleep(0.5)\n",
    "log_in_button=driver.find_element_by_class_name('sign-in-form__submit-btn ')\n",
    "log_in_button.click()\n",
    "\n",
    "# проверить в окне драйвера, нет ли какой-то другой страницы, кроме главной"
   ]
  },
  {
   "cell_type": "code",
   "execution_count": 504,
   "metadata": {},
   "outputs": [],
   "source": [
    "link=list_link[9]"
   ]
  },
  {
   "cell_type": "code",
   "execution_count": 505,
   "metadata": {},
   "outputs": [],
   "source": [
    "name=None\n",
    "location=None\n",
    "company=None\n",
    "job_title=None\n",
    "self_descibe=None\n",
    "college=None\n"
   ]
  },
  {
   "cell_type": "code",
   "execution_count": 506,
   "metadata": {},
   "outputs": [],
   "source": [
    "driver.get(link)"
   ]
  },
  {
   "cell_type": "code",
   "execution_count": 507,
   "metadata": {},
   "outputs": [
    {
     "data": {
      "text/plain": [
       "'Oleksii Grychyna'"
      ]
     },
     "execution_count": 507,
     "metadata": {},
     "output_type": "execute_result"
    }
   ],
   "source": [
    "sel = Selector(text=driver.page_source)\n",
    "name = sel.xpath('//*[starts-with(@class, \"inline t-24 t-black t-normal break-words\")]/text()').extract_first()\n",
    "name= name.strip()\n",
    "name        \n",
    "        "
   ]
  },
  {
   "cell_type": "code",
   "execution_count": 508,
   "metadata": {},
   "outputs": [
    {
     "data": {
      "text/plain": [
       "'CCO FMCG'"
      ]
     },
     "execution_count": 508,
     "metadata": {},
     "output_type": "execute_result"
    }
   ],
   "source": [
    "job_title=sel.xpath('//*[starts-with(@class, \"mt1 t-18 t-black t-normal\")]/text()').extract_first()\n",
    "job_title=job_title.strip()\n",
    "job_title\n",
    "        \n",
    "        "
   ]
  },
  {
   "cell_type": "code",
   "execution_count": 509,
   "metadata": {},
   "outputs": [
    {
     "data": {
      "text/plain": [
       "''"
      ]
     },
     "execution_count": 509,
     "metadata": {},
     "output_type": "execute_result"
    }
   ],
   "source": [
    "try:\n",
    "    company=sel.xpath('//*[starts-with(@id, \"ember95\")]/text()').extract_first()\n",
    "    company=company.strip()\n",
    "except:\n",
    "    company=sel.xpath('//*[starts-with(@id, \"ember96\")]/text()').extract_first()\n",
    "    company=company.strip()\n",
    "\n",
    "company\n",
    "        "
   ]
  },
  {
   "cell_type": "code",
   "execution_count": 510,
   "metadata": {},
   "outputs": [
    {
     "data": {
      "text/plain": [
       "''"
      ]
     },
     "execution_count": 510,
     "metadata": {},
     "output_type": "execute_result"
    }
   ],
   "source": [
    "try:\n",
    "    college=sel.xpath('//*[starts-with(@id, \"ember99\")]/text()').extract_first()\n",
    "    college=college.strip()\n",
    "except:\n",
    "    college=None\n",
    "college"
   ]
  },
  {
   "cell_type": "code",
   "execution_count": 511,
   "metadata": {},
   "outputs": [
    {
     "data": {
      "text/plain": [
       "'Ukraine'"
      ]
     },
     "execution_count": 511,
     "metadata": {},
     "output_type": "execute_result"
    }
   ],
   "source": [
    "location=sel.xpath('//*[starts-with(@class, \"t-16 t-black t-normal inline-block\")]/text()').extract_first()\n",
    "location=location.strip()\n",
    "location\n",
    "        "
   ]
  },
  {
   "cell_type": "code",
   "execution_count": 512,
   "metadata": {
    "scrolled": true
   },
   "outputs": [
    {
     "data": {
      "text/plain": [
       "['17 years of Experiens in FMCG.',\n",
       " '\\n      Products and distribution development on markets of CIS, Georgia, Eastern Europe and West Asia.',\n",
       " 'REPRESENTATIVE OFFICE OF ANDROS FOODS: TM Bonne Maman, TM SoloItalia,  in Kyiv',\n",
       " 'Project objective:',\n",
       " 'Take a part in Ukraine’s Market Entrance for TM Bonne Maman in categories: jams, cookies; TM',\n",
       " '\\n      SoloItalia – fresh\\\\frosen desserts; TM Andros - fruitdessert',\n",
       " 'Objectives: To develop Company`s sales Areas and product line',\n",
       " 'Responsibilities:',\n",
       " '>\\tRepresent company interests to key customers, partners, investors public and government',\n",
       " '\\n      organization.',\n",
       " 'Reached goals:',\n",
       " '>\\tNational food service (HoReCa) distribution company started up',\n",
       " '>\\tPartners: Bashinskiy (MHP), Valesto, GFS, others',\n",
       " '\\n      >\\tOwn products developed: sausages, doner kebab',\n",
       " 'REACHED GOALS:',\n",
       " '>\\tNational cool chain distribution company created from idea to successful business (Rev. $13M)',\n",
       " '>\\tProduct line developed with Trade Mark mrgrill.ua and successfully launched to Market',\n",
       " '\\n      >     Customers - all national Petrol Stations Conviniens stores. Market Penetration - 100']"
      ]
     },
     "execution_count": 512,
     "metadata": {},
     "output_type": "execute_result"
    }
   ],
   "source": [
    "self_descibe=sel.xpath('//*[starts-with(@class,\"lt-line-clamp__line\")]/text()').getall()\n",
    "\n",
    "self_descibe      "
   ]
  },
  {
   "cell_type": "code",
   "execution_count": 513,
   "metadata": {},
   "outputs": [],
   "source": [
    "k=\" \"\n",
    "for i in self_descibe:\n",
    "       k=k+i"
   ]
  },
  {
   "cell_type": "code",
   "execution_count": 514,
   "metadata": {},
   "outputs": [],
   "source": [
    "self_descibe=k"
   ]
  },
  {
   "cell_type": "code",
   "execution_count": 515,
   "metadata": {},
   "outputs": [],
   "source": [
    "scrap_date=date.today()\n",
    "        "
   ]
  },
  {
   "cell_type": "code",
   "execution_count": 516,
   "metadata": {},
   "outputs": [],
   "source": [
    "field1=[name,link,location,\" \",company,job_title,\" \",self_descibe,\" \",college,\" \",scrap_date]\n",
    "        "
   ]
  },
  {
   "cell_type": "code",
   "execution_count": 517,
   "metadata": {},
   "outputs": [],
   "source": [
    "file_name = \"resumes.xlsx\"\n",
    "wb = load_workbook(file_name)\n",
    "page = wb.active\n",
    "page.append(field1)\n",
    "wb.save(file_name)"
   ]
  }
 ],
 "metadata": {
  "kernelspec": {
   "display_name": "Python 3",
   "language": "python",
   "name": "python3"
  },
  "language_info": {
   "codemirror_mode": {
    "name": "ipython",
    "version": 3
   },
   "file_extension": ".py",
   "mimetype": "text/x-python",
   "name": "python",
   "nbconvert_exporter": "python",
   "pygments_lexer": "ipython3",
   "version": "3.7.3"
  },
  "varInspector": {
   "cols": {
    "lenName": 16,
    "lenType": 16,
    "lenVar": 40
   },
   "kernels_config": {
    "python": {
     "delete_cmd_postfix": "",
     "delete_cmd_prefix": "del ",
     "library": "var_list.py",
     "varRefreshCmd": "print(var_dic_list())"
    },
    "r": {
     "delete_cmd_postfix": ") ",
     "delete_cmd_prefix": "rm(",
     "library": "var_list.r",
     "varRefreshCmd": "cat(var_dic_list()) "
    }
   },
   "types_to_exclude": [
    "module",
    "function",
    "builtin_function_or_method",
    "instance",
    "_Feature"
   ],
   "window_display": false
  }
 },
 "nbformat": 4,
 "nbformat_minor": 2
}

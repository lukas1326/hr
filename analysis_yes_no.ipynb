{
 "cells": [
  {
   "cell_type": "code",
   "execution_count": 3,
   "metadata": {
    "collapsed": true,
    "pycharm": {
     "is_executing": false
    }
   },
   "outputs": [],
   "source": [
    "import pandas as pd"
   ]
  },
  {
   "cell_type": "code",
   "execution_count": 4,
   "outputs": [],
   "source": [
    "df=pd.read_excel('excel_result/resumes_Milkiland_NV_VR (CMO).xlsx',\n",
    "                 sheet_name='CMO',skiprows=2)"
   ],
   "metadata": {
    "collapsed": false,
    "pycharm": {
     "name": "#%%\n",
     "is_executing": false
    }
   }
  },
  {
   "cell_type": "code",
   "execution_count": 5,
   "outputs": [
    {
     "data": {
      "text/plain": "Index(['name', 'link', 'location', 'age', 'company', 'position', 'salary',\n       'brief_summary', 'experience', 'education', 'languages', 'pasring_date',\n       'yes_no', 'yes_no VR', 'Дата собеседования VR',\n       'Дата собеседования AY'],\n      dtype='object')"
     },
     "metadata": {},
     "output_type": "execute_result",
     "execution_count": 5
    }
   ],
   "source": [
    "df.columns"
   ],
   "metadata": {
    "collapsed": false,
    "pycharm": {
     "name": "#%%\n",
     "is_executing": false
    }
   }
  },
  {
   "cell_type": "code",
   "execution_count": 6,
   "outputs": [],
   "source": [
    "l1=df[df['yes_no VR']=='yes'].link\n",
    "VR_choice_011119_CMO=[x for x in l1 if 'rabota' in x]"
   ],
   "metadata": {
    "collapsed": false,
    "pycharm": {
     "name": "#%%\n",
     "is_executing": false
    }
   }
  },
  {
   "cell_type": "code",
   "execution_count": 7,
   "outputs": [],
   "source": [
    "def write_seen(file,list_links):\n",
    "    with open(file, 'w') as f:\n",
    "        print(list_links, file=f)"
   ],
   "metadata": {
    "collapsed": false,
    "pycharm": {
     "name": "#%%\n",
     "is_executing": false
    }
   }
  },
  {
   "cell_type": "code",
   "execution_count": 8,
   "outputs": [],
   "source": [
    "write_seen('links_seen/VR_choice_011119_CMO.txt',VR_choice_011119_CMO)"
   ],
   "metadata": {
    "collapsed": false,
    "pycharm": {
     "name": "#%%\n",
     "is_executing": false
    }
   }
  },
  {
   "cell_type": "code",
   "execution_count": 10,
   "outputs": [],
   "source": [
    "VR_meet_011119_CMO=df[~df['Дата собеседования VR'].isna()].link\n",
    "write_seen('links_seen/VR_meet_011119_CMO.txt',VR_meet_011119_CMO)"
   ],
   "metadata": {
    "collapsed": false,
    "pycharm": {
     "name": "#%%\n",
     "is_executing": false
    }
   }
  },
  {
   "cell_type": "code",
   "execution_count": 11,
   "outputs": [],
   "source": [
    "AI_meet_011119_CMO=df[~df['Дата собеседования AY'].isna()].link\n",
    "write_seen('links_seen/AI_meet_011119_CMO.txt',AI_meet_011119_CMO)"
   ],
   "metadata": {
    "collapsed": false,
    "pycharm": {
     "name": "#%%\n",
     "is_executing": false
    }
   }
  },
  {
   "cell_type": "code",
   "execution_count": 20,
   "outputs": [],
   "source": [
    "dict1={'link':VR_choice_011119_CMO,'event':'VR_choice','position':'CMO','date':'01.11.19'}"
   ],
   "metadata": {
    "collapsed": false,
    "pycharm": {
     "name": "#%%\n",
     "is_executing": false
    }
   }
  },
  {
   "cell_type": "code",
   "execution_count": 35,
   "outputs": [
    {
     "data": {
      "text/plain": "                            link      event position      date\n0   https://rabota.ua/cv/5669965  VR_choice      CMO  01.11.19\n1   https://rabota.ua/cv/4956278  VR_choice      CMO  01.11.19\n2  https://rabota.ua/cv/10694129  VR_choice      CMO  01.11.19\n3   https://rabota.ua/cv/8470231  VR_choice      CMO  01.11.19\n4  https://rabota.ua/cv/13108905  VR_choice      CMO  01.11.19\n5   https://rabota.ua/cv/4349995  VR_choice      CMO  01.11.19\n6  https://rabota.ua/cv/10296068  VR_choice      CMO  01.11.19\n7   https://rabota.ua/cv/6095045  VR_choice      CMO  01.11.19\n8   https://rabota.ua/cv/2714113  VR_choice      CMO  01.11.19\n9   https://rabota.ua/cv/3392006  VR_choice      CMO  01.11.19",
      "text/html": "<div>\n<style scoped>\n    .dataframe tbody tr th:only-of-type {\n        vertical-align: middle;\n    }\n\n    .dataframe tbody tr th {\n        vertical-align: top;\n    }\n\n    .dataframe thead th {\n        text-align: right;\n    }\n</style>\n<table border=\"1\" class=\"dataframe\">\n  <thead>\n    <tr style=\"text-align: right;\">\n      <th></th>\n      <th>link</th>\n      <th>event</th>\n      <th>position</th>\n      <th>date</th>\n    </tr>\n  </thead>\n  <tbody>\n    <tr>\n      <th>0</th>\n      <td>https://rabota.ua/cv/5669965</td>\n      <td>VR_choice</td>\n      <td>CMO</td>\n      <td>01.11.19</td>\n    </tr>\n    <tr>\n      <th>1</th>\n      <td>https://rabota.ua/cv/4956278</td>\n      <td>VR_choice</td>\n      <td>CMO</td>\n      <td>01.11.19</td>\n    </tr>\n    <tr>\n      <th>2</th>\n      <td>https://rabota.ua/cv/10694129</td>\n      <td>VR_choice</td>\n      <td>CMO</td>\n      <td>01.11.19</td>\n    </tr>\n    <tr>\n      <th>3</th>\n      <td>https://rabota.ua/cv/8470231</td>\n      <td>VR_choice</td>\n      <td>CMO</td>\n      <td>01.11.19</td>\n    </tr>\n    <tr>\n      <th>4</th>\n      <td>https://rabota.ua/cv/13108905</td>\n      <td>VR_choice</td>\n      <td>CMO</td>\n      <td>01.11.19</td>\n    </tr>\n    <tr>\n      <th>5</th>\n      <td>https://rabota.ua/cv/4349995</td>\n      <td>VR_choice</td>\n      <td>CMO</td>\n      <td>01.11.19</td>\n    </tr>\n    <tr>\n      <th>6</th>\n      <td>https://rabota.ua/cv/10296068</td>\n      <td>VR_choice</td>\n      <td>CMO</td>\n      <td>01.11.19</td>\n    </tr>\n    <tr>\n      <th>7</th>\n      <td>https://rabota.ua/cv/6095045</td>\n      <td>VR_choice</td>\n      <td>CMO</td>\n      <td>01.11.19</td>\n    </tr>\n    <tr>\n      <th>8</th>\n      <td>https://rabota.ua/cv/2714113</td>\n      <td>VR_choice</td>\n      <td>CMO</td>\n      <td>01.11.19</td>\n    </tr>\n    <tr>\n      <th>9</th>\n      <td>https://rabota.ua/cv/3392006</td>\n      <td>VR_choice</td>\n      <td>CMO</td>\n      <td>01.11.19</td>\n    </tr>\n  </tbody>\n</table>\n</div>"
     },
     "metadata": {},
     "output_type": "execute_result",
     "execution_count": 35
    }
   ],
   "source": [
    "df1=pd.DataFrame(dict1)\n",
    "df1"
   ],
   "metadata": {
    "collapsed": false,
    "pycharm": {
     "name": "#%%\n",
     "is_executing": false
    }
   }
  },
  {
   "cell_type": "code",
   "execution_count": 34,
   "outputs": [
    {
     "data": {
      "text/plain": "                             link       date\n0    https://rabota.ua/cv/5669965 2019-11-13\n7   https://rabota.ua/cv/13108905 2019-11-11\n14   https://rabota.ua/cv/6095045 2019-11-11\n26   https://rabota.ua/cv/3392006 2019-11-11",
      "text/html": "<div>\n<style scoped>\n    .dataframe tbody tr th:only-of-type {\n        vertical-align: middle;\n    }\n\n    .dataframe tbody tr th {\n        vertical-align: top;\n    }\n\n    .dataframe thead th {\n        text-align: right;\n    }\n</style>\n<table border=\"1\" class=\"dataframe\">\n  <thead>\n    <tr style=\"text-align: right;\">\n      <th></th>\n      <th>link</th>\n      <th>date</th>\n    </tr>\n  </thead>\n  <tbody>\n    <tr>\n      <th>0</th>\n      <td>https://rabota.ua/cv/5669965</td>\n      <td>2019-11-13</td>\n    </tr>\n    <tr>\n      <th>7</th>\n      <td>https://rabota.ua/cv/13108905</td>\n      <td>2019-11-11</td>\n    </tr>\n    <tr>\n      <th>14</th>\n      <td>https://rabota.ua/cv/6095045</td>\n      <td>2019-11-11</td>\n    </tr>\n    <tr>\n      <th>26</th>\n      <td>https://rabota.ua/cv/3392006</td>\n      <td>2019-11-11</td>\n    </tr>\n  </tbody>\n</table>\n</div>"
     },
     "metadata": {},
     "output_type": "execute_result",
     "execution_count": 34
    }
   ],
   "source": [
    "df2=df[~df['Дата собеседования VR'].isna()][['link','Дата собеседования VR']]\n",
    "df2.rename(columns={'Дата собеседования VR':'date'},inplace=True)\n",
    "df2"
   ],
   "metadata": {
    "collapsed": false,
    "pycharm": {
     "name": "#%%\n",
     "is_executing": false
    }
   }
  },
  {
   "cell_type": "code",
   "execution_count": 44,
   "outputs": [
    {
     "data": {
      "text/plain": "                            link    event position       date\n0   https://rabota.ua/cv/5669965  VR_meet      CMO 2019-11-13\n1  https://rabota.ua/cv/13108905  VR_meet      CMO 2019-11-11\n2   https://rabota.ua/cv/6095045  VR_meet      CMO 2019-11-11\n3   https://rabota.ua/cv/3392006  VR_meet      CMO 2019-11-11",
      "text/html": "<div>\n<style scoped>\n    .dataframe tbody tr th:only-of-type {\n        vertical-align: middle;\n    }\n\n    .dataframe tbody tr th {\n        vertical-align: top;\n    }\n\n    .dataframe thead th {\n        text-align: right;\n    }\n</style>\n<table border=\"1\" class=\"dataframe\">\n  <thead>\n    <tr style=\"text-align: right;\">\n      <th></th>\n      <th>link</th>\n      <th>event</th>\n      <th>position</th>\n      <th>date</th>\n    </tr>\n  </thead>\n  <tbody>\n    <tr>\n      <th>0</th>\n      <td>https://rabota.ua/cv/5669965</td>\n      <td>VR_meet</td>\n      <td>CMO</td>\n      <td>2019-11-13</td>\n    </tr>\n    <tr>\n      <th>1</th>\n      <td>https://rabota.ua/cv/13108905</td>\n      <td>VR_meet</td>\n      <td>CMO</td>\n      <td>2019-11-11</td>\n    </tr>\n    <tr>\n      <th>2</th>\n      <td>https://rabota.ua/cv/6095045</td>\n      <td>VR_meet</td>\n      <td>CMO</td>\n      <td>2019-11-11</td>\n    </tr>\n    <tr>\n      <th>3</th>\n      <td>https://rabota.ua/cv/3392006</td>\n      <td>VR_meet</td>\n      <td>CMO</td>\n      <td>2019-11-11</td>\n    </tr>\n  </tbody>\n</table>\n</div>"
     },
     "metadata": {},
     "output_type": "execute_result",
     "execution_count": 44
    }
   ],
   "source": [
    "dict2={'link':df2.link.to_list(),'event':'VR_meet','position':'CMO','date':df2.date.to_list()}\n",
    "df3=pd.DataFrame(dict2)\n",
    "df3"
   ],
   "metadata": {
    "collapsed": false,
    "pycharm": {
     "name": "#%%\n",
     "is_executing": false
    }
   }
  },
  {
   "cell_type": "code",
   "execution_count": 46,
   "outputs": [
    {
     "data": {
      "text/plain": "                           link    event position       date\n0  https://rabota.ua/cv/3392006  AY_meet      CMO 2019-11-15",
      "text/html": "<div>\n<style scoped>\n    .dataframe tbody tr th:only-of-type {\n        vertical-align: middle;\n    }\n\n    .dataframe tbody tr th {\n        vertical-align: top;\n    }\n\n    .dataframe thead th {\n        text-align: right;\n    }\n</style>\n<table border=\"1\" class=\"dataframe\">\n  <thead>\n    <tr style=\"text-align: right;\">\n      <th></th>\n      <th>link</th>\n      <th>event</th>\n      <th>position</th>\n      <th>date</th>\n    </tr>\n  </thead>\n  <tbody>\n    <tr>\n      <th>0</th>\n      <td>https://rabota.ua/cv/3392006</td>\n      <td>AY_meet</td>\n      <td>CMO</td>\n      <td>2019-11-15</td>\n    </tr>\n  </tbody>\n</table>\n</div>"
     },
     "metadata": {},
     "output_type": "execute_result",
     "execution_count": 46
    }
   ],
   "source": [
    "df4=df[~df['Дата собеседования AY'].isna()]\n",
    "dict3={'link':df4.link.to_list(),'event':'AY_meet','position':'CMO','date':df4['Дата собеседования AY'].to_list()}\n",
    "df5=pd.DataFrame(dict3)\n",
    "df5"
   ],
   "metadata": {
    "collapsed": false,
    "pycharm": {
     "name": "#%%\n",
     "is_executing": false
    }
   }
  },
  {
   "cell_type": "code",
   "execution_count": 52,
   "outputs": [
    {
     "data": {
      "text/plain": "                            link      event position                 date\n0   https://rabota.ua/cv/5669965  VR_choice      CMO             01.11.19\n1   https://rabota.ua/cv/4956278  VR_choice      CMO             01.11.19\n2  https://rabota.ua/cv/10694129  VR_choice      CMO             01.11.19\n3   https://rabota.ua/cv/8470231  VR_choice      CMO             01.11.19\n4  https://rabota.ua/cv/13108905  VR_choice      CMO             01.11.19\n5   https://rabota.ua/cv/4349995  VR_choice      CMO             01.11.19\n6  https://rabota.ua/cv/10296068  VR_choice      CMO             01.11.19\n7   https://rabota.ua/cv/6095045  VR_choice      CMO             01.11.19\n8   https://rabota.ua/cv/2714113  VR_choice      CMO             01.11.19\n9   https://rabota.ua/cv/3392006  VR_choice      CMO             01.11.19\n0   https://rabota.ua/cv/5669965    VR_meet      CMO  2019-11-13 00:00:00\n1  https://rabota.ua/cv/13108905    VR_meet      CMO  2019-11-11 00:00:00\n2   https://rabota.ua/cv/6095045    VR_meet      CMO  2019-11-11 00:00:00\n3   https://rabota.ua/cv/3392006    VR_meet      CMO  2019-11-11 00:00:00\n0   https://rabota.ua/cv/3392006    AY_meet      CMO  2019-11-15 00:00:00",
      "text/html": "<div>\n<style scoped>\n    .dataframe tbody tr th:only-of-type {\n        vertical-align: middle;\n    }\n\n    .dataframe tbody tr th {\n        vertical-align: top;\n    }\n\n    .dataframe thead th {\n        text-align: right;\n    }\n</style>\n<table border=\"1\" class=\"dataframe\">\n  <thead>\n    <tr style=\"text-align: right;\">\n      <th></th>\n      <th>link</th>\n      <th>event</th>\n      <th>position</th>\n      <th>date</th>\n    </tr>\n  </thead>\n  <tbody>\n    <tr>\n      <th>0</th>\n      <td>https://rabota.ua/cv/5669965</td>\n      <td>VR_choice</td>\n      <td>CMO</td>\n      <td>01.11.19</td>\n    </tr>\n    <tr>\n      <th>1</th>\n      <td>https://rabota.ua/cv/4956278</td>\n      <td>VR_choice</td>\n      <td>CMO</td>\n      <td>01.11.19</td>\n    </tr>\n    <tr>\n      <th>2</th>\n      <td>https://rabota.ua/cv/10694129</td>\n      <td>VR_choice</td>\n      <td>CMO</td>\n      <td>01.11.19</td>\n    </tr>\n    <tr>\n      <th>3</th>\n      <td>https://rabota.ua/cv/8470231</td>\n      <td>VR_choice</td>\n      <td>CMO</td>\n      <td>01.11.19</td>\n    </tr>\n    <tr>\n      <th>4</th>\n      <td>https://rabota.ua/cv/13108905</td>\n      <td>VR_choice</td>\n      <td>CMO</td>\n      <td>01.11.19</td>\n    </tr>\n    <tr>\n      <th>5</th>\n      <td>https://rabota.ua/cv/4349995</td>\n      <td>VR_choice</td>\n      <td>CMO</td>\n      <td>01.11.19</td>\n    </tr>\n    <tr>\n      <th>6</th>\n      <td>https://rabota.ua/cv/10296068</td>\n      <td>VR_choice</td>\n      <td>CMO</td>\n      <td>01.11.19</td>\n    </tr>\n    <tr>\n      <th>7</th>\n      <td>https://rabota.ua/cv/6095045</td>\n      <td>VR_choice</td>\n      <td>CMO</td>\n      <td>01.11.19</td>\n    </tr>\n    <tr>\n      <th>8</th>\n      <td>https://rabota.ua/cv/2714113</td>\n      <td>VR_choice</td>\n      <td>CMO</td>\n      <td>01.11.19</td>\n    </tr>\n    <tr>\n      <th>9</th>\n      <td>https://rabota.ua/cv/3392006</td>\n      <td>VR_choice</td>\n      <td>CMO</td>\n      <td>01.11.19</td>\n    </tr>\n    <tr>\n      <th>0</th>\n      <td>https://rabota.ua/cv/5669965</td>\n      <td>VR_meet</td>\n      <td>CMO</td>\n      <td>2019-11-13 00:00:00</td>\n    </tr>\n    <tr>\n      <th>1</th>\n      <td>https://rabota.ua/cv/13108905</td>\n      <td>VR_meet</td>\n      <td>CMO</td>\n      <td>2019-11-11 00:00:00</td>\n    </tr>\n    <tr>\n      <th>2</th>\n      <td>https://rabota.ua/cv/6095045</td>\n      <td>VR_meet</td>\n      <td>CMO</td>\n      <td>2019-11-11 00:00:00</td>\n    </tr>\n    <tr>\n      <th>3</th>\n      <td>https://rabota.ua/cv/3392006</td>\n      <td>VR_meet</td>\n      <td>CMO</td>\n      <td>2019-11-11 00:00:00</td>\n    </tr>\n    <tr>\n      <th>0</th>\n      <td>https://rabota.ua/cv/3392006</td>\n      <td>AY_meet</td>\n      <td>CMO</td>\n      <td>2019-11-15 00:00:00</td>\n    </tr>\n  </tbody>\n</table>\n</div>"
     },
     "metadata": {},
     "output_type": "execute_result",
     "execution_count": 52
    }
   ],
   "source": [
    "table1=df1.append([df3,df5],sort=False)\n",
    "table1"
   ],
   "metadata": {
    "collapsed": false,
    "pycharm": {
     "name": "#%%\n",
     "is_executing": false
    }
   }
  },
  {
   "cell_type": "code",
   "execution_count": 65,
   "outputs": [
    {
     "data": {
      "text/plain": "                            link       name   age  \\\n0  https://rabota.ua/cv/11926446  Ростислав  45.0   \n1                            NaN        NaN   NaN   \n2                            NaN        NaN   NaN   \n3                            NaN        NaN   NaN   \n4                            NaN        NaN   NaN   \n\n                                       brief_summary  \\\n0  Большой  опыт работы с  людьми (более 10лет). ...   \n1                                                NaN   \n2                                                NaN   \n3                                                NaN   \n4                                                NaN   \n\n                                         предприятие  \\\n0                                        ООО \"ХХХХХ\"   \n1  10.2014г по настоящее время. ООО«ХХХХХ», г. Од...   \n2                   Должность: коммерческий директор   \n3             ТМ  « Del Monte», «Outspan», «Choice».   \n4                           ООО «Фаетон-Дистрибьюшн»   \n\n                                 должность  index  \\\n0                    Коммерческий директор      0   \n1                            ОПЫТ  РАБОТЫ:      1   \n2                     Специализация фирмы:      2   \n3  Профессиональная деятельность (навыки):      3   \n4                     Дивизионный менеджер      4   \n\n                                           отрасль  duration sent_email  \\\n0  Торговля оптовая / Дистрибуция / Импорт-экспорт      5.25   13.12.19   \n1  Торговля оптовая / Дистрибуция / Импорт-экспорт      0.50        NaN   \n2  Торговля оптовая / Дистрибуция / Импорт-экспорт      0.75        NaN   \n3  Торговля оптовая / Дистрибуция / Импорт-экспорт      4.33        NaN   \n4  Торговля оптовая / Дистрибуция / Импорт-экспорт      2.83        NaN   \n\n  VR_meet AI_meet  \n0     NaN     NaN  \n1     NaN     NaN  \n2     NaN     NaN  \n3     NaN     NaN  \n4     NaN     NaN  ",
      "text/html": "<div>\n<style scoped>\n    .dataframe tbody tr th:only-of-type {\n        vertical-align: middle;\n    }\n\n    .dataframe tbody tr th {\n        vertical-align: top;\n    }\n\n    .dataframe thead th {\n        text-align: right;\n    }\n</style>\n<table border=\"1\" class=\"dataframe\">\n  <thead>\n    <tr style=\"text-align: right;\">\n      <th></th>\n      <th>link</th>\n      <th>name</th>\n      <th>age</th>\n      <th>brief_summary</th>\n      <th>предприятие</th>\n      <th>должность</th>\n      <th>index</th>\n      <th>отрасль</th>\n      <th>duration</th>\n      <th>sent_email</th>\n      <th>VR_meet</th>\n      <th>AI_meet</th>\n    </tr>\n  </thead>\n  <tbody>\n    <tr>\n      <th>0</th>\n      <td>https://rabota.ua/cv/11926446</td>\n      <td>Ростислав</td>\n      <td>45.0</td>\n      <td>Большой  опыт работы с  людьми (более 10лет). ...</td>\n      <td>ООО \"ХХХХХ\"</td>\n      <td>Коммерческий директор</td>\n      <td>0</td>\n      <td>Торговля оптовая / Дистрибуция / Импорт-экспорт</td>\n      <td>5.25</td>\n      <td>13.12.19</td>\n      <td>NaN</td>\n      <td>NaN</td>\n    </tr>\n    <tr>\n      <th>1</th>\n      <td>NaN</td>\n      <td>NaN</td>\n      <td>NaN</td>\n      <td>NaN</td>\n      <td>10.2014г по настоящее время. ООО«ХХХХХ», г. Од...</td>\n      <td>ОПЫТ  РАБОТЫ:</td>\n      <td>1</td>\n      <td>Торговля оптовая / Дистрибуция / Импорт-экспорт</td>\n      <td>0.50</td>\n      <td>NaN</td>\n      <td>NaN</td>\n      <td>NaN</td>\n    </tr>\n    <tr>\n      <th>2</th>\n      <td>NaN</td>\n      <td>NaN</td>\n      <td>NaN</td>\n      <td>NaN</td>\n      <td>Должность: коммерческий директор</td>\n      <td>Специализация фирмы:</td>\n      <td>2</td>\n      <td>Торговля оптовая / Дистрибуция / Импорт-экспорт</td>\n      <td>0.75</td>\n      <td>NaN</td>\n      <td>NaN</td>\n      <td>NaN</td>\n    </tr>\n    <tr>\n      <th>3</th>\n      <td>NaN</td>\n      <td>NaN</td>\n      <td>NaN</td>\n      <td>NaN</td>\n      <td>ТМ  « Del Monte», «Outspan», «Choice».</td>\n      <td>Профессиональная деятельность (навыки):</td>\n      <td>3</td>\n      <td>Торговля оптовая / Дистрибуция / Импорт-экспорт</td>\n      <td>4.33</td>\n      <td>NaN</td>\n      <td>NaN</td>\n      <td>NaN</td>\n    </tr>\n    <tr>\n      <th>4</th>\n      <td>NaN</td>\n      <td>NaN</td>\n      <td>NaN</td>\n      <td>NaN</td>\n      <td>ООО «Фаетон-Дистрибьюшн»</td>\n      <td>Дивизионный менеджер</td>\n      <td>4</td>\n      <td>Торговля оптовая / Дистрибуция / Импорт-экспорт</td>\n      <td>2.83</td>\n      <td>NaN</td>\n      <td>NaN</td>\n      <td>NaN</td>\n    </tr>\n  </tbody>\n</table>\n</div>"
     },
     "metadata": {},
     "output_type": "execute_result",
     "execution_count": 65
    }
   ],
   "source": [
    "cco=pd.read_excel('excel_result/CV_061219_CCO.xlsx',sheet_name='CCO юр')\n",
    "cco.head()\n",
    "\n"
   ],
   "metadata": {
    "collapsed": false,
    "pycharm": {
     "name": "#%%\n",
     "is_executing": false
    }
   }
  },
  {
   "cell_type": "code",
   "execution_count": 62,
   "outputs": [
    {
     "data": {
      "text/plain": "Index(['link', 'name', 'age', 'brief_summary', 'предприятие', 'должность',\n       'index', 'отрасль', 'duration', 'sent_email', 'VR_meet', 'AI_meet'],\n      dtype='object')"
     },
     "metadata": {},
     "output_type": "execute_result",
     "execution_count": 62
    }
   ],
   "source": [
    "AI_choice_061219_cco={'link':cco.link.dropna().unique(),'event':'AI_choice','position':'CCO','date':'06/12/2019'}\n",
    "write_seen('AI_choice_061219_cco.txt',AI_choice_061219_cco)"
   ],
   "metadata": {
    "collapsed": false,
    "pycharm": {
     "name": "#%%\n",
     "is_executing": false
    }
   }
  },
  {
   "cell_type": "code",
   "execution_count": 79,
   "outputs": [],
   "source": [
    "cd1=cco[~cco.sent_email.isna()]\n",
    "cd1_dict={'link':cd1.link.to_list(),'event':\"email_sent\",'position':'CCO','date':'16.12.19'}\n"
   ],
   "metadata": {
    "collapsed": false,
    "pycharm": {
     "name": "#%%\n",
     "is_executing": false
    }
   }
  },
  {
   "cell_type": "code",
   "execution_count": 70,
   "outputs": [],
   "source": [
    "cd2=cco[~cco.VR_meet.isna()]\n",
    "cd2_dict={'link':cd2.link.to_list(),'event':\"VR_meet\",'position':'CCO','date':cd2.VR_meet.to_list()}\n",
    "\n",
    "\n"
   ],
   "metadata": {
    "collapsed": false,
    "pycharm": {
     "name": "#%%\n",
     "is_executing": false
    }
   }
  },
  {
   "cell_type": "code",
   "execution_count": 71,
   "outputs": [],
   "source": [
    "cd3=cco[~cco.AI_meet.isna()]\n",
    "cd3_dict={'link':cd3.link.to_list(),'event':\"AI_meet\",'position':'CCO','date':cd3.VR_meet.to_list()}\n",
    "\n"
   ],
   "metadata": {
    "collapsed": false,
    "pycharm": {
     "name": "#%%\n",
     "is_executing": false
    }
   }
  },
  {
   "cell_type": "code",
   "execution_count": 74,
   "outputs": [
    {
     "data": {
      "text/plain": "                            link       name   age  \\\n0  https://rabota.ua/cv/10372671  Александр  40.0   \n1                            NaN        NaN   NaN   \n2                            NaN        NaN   NaN   \n3                            NaN        NaN   NaN   \n4                            NaN        NaN   NaN   \n\n                                       brief_summary  \\\n0  15 лет общего опыта управления на предприятиях...   \n1                                                NaN   \n2                                                NaN   \n3                                                NaN   \n4                                                NaN   \n\n                                   предприятие  \\\n0                                    VB Handel   \n1                            PART Trading GmbH   \n2                   ДП  ХАМЕ УК ТРЕЙД (Чехия).   \n3  Директора по продажам и Маркетинг директора   \n4                      ДП \"Бест Альтернатива\".   \n\n                           должность  index  \\\n0               Директор по продажам      0   \n1               Директор по продажам      1   \n2  Директор по продажам и маркетингу      2   \n3                        Hame s.r.o.      3   \n4  Директор по продажам и маркетингу      4   \n\n                                           отрасль  duration  да/нет  причина  \\\n0  Торговля оптовая / Дистрибуция / Импорт-экспорт      2.17     NaN      NaN   \n1  Торговля оптовая / Дистрибуция / Импорт-экспорт      1.92     NaN      NaN   \n2  Торговля оптовая / Дистрибуция / Импорт-экспорт      7.42     NaN      NaN   \n3                                             FMCG      5.75     NaN      NaN   \n4                                             FMCG      1.08     NaN      NaN   \n\n  sent_email VR_meet  \n0   13.12.19     NaN  \n1        NaN     NaN  \n2        NaN     NaN  \n3        NaN     NaN  \n4        NaN     NaN  ",
      "text/html": "<div>\n<style scoped>\n    .dataframe tbody tr th:only-of-type {\n        vertical-align: middle;\n    }\n\n    .dataframe tbody tr th {\n        vertical-align: top;\n    }\n\n    .dataframe thead th {\n        text-align: right;\n    }\n</style>\n<table border=\"1\" class=\"dataframe\">\n  <thead>\n    <tr style=\"text-align: right;\">\n      <th></th>\n      <th>link</th>\n      <th>name</th>\n      <th>age</th>\n      <th>brief_summary</th>\n      <th>предприятие</th>\n      <th>должность</th>\n      <th>index</th>\n      <th>отрасль</th>\n      <th>duration</th>\n      <th>да/нет</th>\n      <th>причина</th>\n      <th>sent_email</th>\n      <th>VR_meet</th>\n    </tr>\n  </thead>\n  <tbody>\n    <tr>\n      <th>0</th>\n      <td>https://rabota.ua/cv/10372671</td>\n      <td>Александр</td>\n      <td>40.0</td>\n      <td>15 лет общего опыта управления на предприятиях...</td>\n      <td>VB Handel</td>\n      <td>Директор по продажам</td>\n      <td>0</td>\n      <td>Торговля оптовая / Дистрибуция / Импорт-экспорт</td>\n      <td>2.17</td>\n      <td>NaN</td>\n      <td>NaN</td>\n      <td>13.12.19</td>\n      <td>NaN</td>\n    </tr>\n    <tr>\n      <th>1</th>\n      <td>NaN</td>\n      <td>NaN</td>\n      <td>NaN</td>\n      <td>NaN</td>\n      <td>PART Trading GmbH</td>\n      <td>Директор по продажам</td>\n      <td>1</td>\n      <td>Торговля оптовая / Дистрибуция / Импорт-экспорт</td>\n      <td>1.92</td>\n      <td>NaN</td>\n      <td>NaN</td>\n      <td>NaN</td>\n      <td>NaN</td>\n    </tr>\n    <tr>\n      <th>2</th>\n      <td>NaN</td>\n      <td>NaN</td>\n      <td>NaN</td>\n      <td>NaN</td>\n      <td>ДП  ХАМЕ УК ТРЕЙД (Чехия).</td>\n      <td>Директор по продажам и маркетингу</td>\n      <td>2</td>\n      <td>Торговля оптовая / Дистрибуция / Импорт-экспорт</td>\n      <td>7.42</td>\n      <td>NaN</td>\n      <td>NaN</td>\n      <td>NaN</td>\n      <td>NaN</td>\n    </tr>\n    <tr>\n      <th>3</th>\n      <td>NaN</td>\n      <td>NaN</td>\n      <td>NaN</td>\n      <td>NaN</td>\n      <td>Директора по продажам и Маркетинг директора</td>\n      <td>Hame s.r.o.</td>\n      <td>3</td>\n      <td>FMCG</td>\n      <td>5.75</td>\n      <td>NaN</td>\n      <td>NaN</td>\n      <td>NaN</td>\n      <td>NaN</td>\n    </tr>\n    <tr>\n      <th>4</th>\n      <td>NaN</td>\n      <td>NaN</td>\n      <td>NaN</td>\n      <td>NaN</td>\n      <td>ДП \"Бест Альтернатива\".</td>\n      <td>Директор по продажам и маркетингу</td>\n      <td>4</td>\n      <td>FMCG</td>\n      <td>1.08</td>\n      <td>NaN</td>\n      <td>NaN</td>\n      <td>NaN</td>\n      <td>NaN</td>\n    </tr>\n  </tbody>\n</table>\n</div>"
     },
     "metadata": {},
     "output_type": "execute_result",
     "execution_count": 74
    }
   ],
   "source": [
    "cmo=pd.read_excel('excel_result/CV_061219_CMO.xlsx',sheet_name='СМО юр')\n",
    "cmo.head()\n",
    "\n"
   ],
   "metadata": {
    "collapsed": false,
    "pycharm": {
     "name": "#%%\n",
     "is_executing": false
    }
   }
  },
  {
   "cell_type": "code",
   "execution_count": 76,
   "outputs": [],
   "source": [
    "cm1=cmo[~cmo.sent_email.isna()]\n",
    "cm1_dict={'link':cm1.link.to_list(),'event':\"email_sent\",'position':'CMO','date':cm1.sent_email.to_list()}\n",
    "\n"
   ],
   "metadata": {
    "collapsed": false,
    "pycharm": {
     "name": "#%%\n",
     "is_executing": false
    }
   }
  },
  {
   "cell_type": "code",
   "execution_count": 77,
   "outputs": [],
   "source": [
    "cm2=cmo[~cmo.VR_meet.isna()]\n",
    "cm2_dict={'link':cm2.link.to_list(),'event':\"VR_meet\",'position':'CMO','date':cm2.VR_meet.to_list()}\n",
    "\n"
   ],
   "metadata": {
    "collapsed": false,
    "pycharm": {
     "name": "#%%\n",
     "is_executing": false
    }
   }
  },
  {
   "cell_type": "code",
   "execution_count": 91,
   "outputs": [],
   "source": [
    "c1=pd.DataFrame(cd1_dict)\n",
    "c2=pd.DataFrame(cd2_dict)\n",
    "c3=pd.DataFrame(cd3_dict)\n",
    "c4=pd.DataFrame(cm1_dict)\n",
    "c5=pd.DataFrame(cm2_dict)\n",
    "table2=pd.concat([c1,c2,c3,c4,c5])\n",
    "table3=pd.concat([table1,table2])\n",
    "table3.reset_index(inplace=True,drop=True)"
   ],
   "metadata": {
    "collapsed": false,
    "pycharm": {
     "name": "#%%\n",
     "is_executing": false
    }
   }
  },
  {
   "cell_type": "code",
   "execution_count": 93,
   "outputs": [],
   "source": [
    "table3.to_csv('links_seen/communication_before_311219.csv')\n"
   ],
   "metadata": {
    "collapsed": false,
    "pycharm": {
     "name": "#%%\n",
     "is_executing": false
    }
   }
  }
 ],
 "metadata": {
  "kernelspec": {
   "display_name": "Python 3",
   "language": "python",
   "name": "python3"
  },
  "language_info": {
   "codemirror_mode": {
    "name": "ipython",
    "version": 2
   },
   "file_extension": ".py",
   "mimetype": "text/x-python",
   "name": "python",
   "nbconvert_exporter": "python",
   "pygments_lexer": "ipython2",
   "version": "2.7.6"
  },
  "pycharm": {
   "stem_cell": {
    "cell_type": "raw",
    "source": [],
    "metadata": {
     "collapsed": false
    }
   }
  }
 },
 "nbformat": 4,
 "nbformat_minor": 0
}
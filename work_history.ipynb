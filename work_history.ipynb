{
 "cells": [
  {
   "cell_type": "code",
   "execution_count": 32,
   "metadata": {},
   "outputs": [],
   "source": [
    "def duration(link):\n",
    "    from bs4 import BeautifulSoup\n",
    "    import requests\n",
    "    import urllib.request\n",
    "    import pandas as pd\n",
    "    import re\n",
    "    import warnings\n",
    "    warnings.filterwarnings('ignore')\n",
    "    \n",
    "    response=requests.get(link)\n",
    "    html_contents = response.text\n",
    "    html_soup = BeautifulSoup(html_contents,'html.parser')\n",
    "    gde=[]\n",
    "    kogda=[]\n",
    "    b1=html_soup.find('div',id='ExperienceHolder').find_all('b')\n",
    "    m=html_soup.find('div',id='ExperienceHolder').find_all('em')\n",
    "    for i in b1:\n",
    "        gde.append(i.text.strip())\n",
    "    for k in m:\n",
    "        kogda.append(k.text.strip())\n",
    "    gde=[x for x in gde if \"Достиж\" not in x]\n",
    "    gde=[x for x in gde if \"Рекоменд\" not in x]\n",
    "    gde=[x for x in gde if \"улучш\" not in x]\n",
    "    gde=[x for x in gde if \"Результ\" not in x]\n",
    "    gde=[x for x in gde if \"Обязанн\" not in x]\n",
    "    gde=[x for x in gde if \"достиж\" not in x]\n",
    "    gde=gde[:min(len(gde),len(kogda))]\n",
    "    kogda=kogda[:min(len(gde),len(kogda))]\n",
    "    d = {'должность':gde,'период':kogda}\n",
    "    uh=pd.DataFrame(d)\n",
    "    uh['предприятие']=uh['должность'].shift(-1)\n",
    "    uh['отрасль']=uh['период'].shift(-1)\n",
    "    \n",
    "    uh['отрасль']=uh['отрасль'].str.extract('\\\\t(\\w+)').fillna(uh['отрасль'])\n",
    "    \n",
    "    uhh=uh.iloc[::2, :]\n",
    "    regex=re.compile('(\\(\\d+.лет|\\(\\d+.год)')\n",
    "    uhh['год']=uhh['период'].str.extract(regex)\n",
    "    uhh['год']=uhh['год'].str.extract(r'(\\d+)').fillna(0)\n",
    "    uhh['мес']=uhh['период'].str.extract('(\\d+).мес').fillna(0)\n",
    "    uhh['мес1']=uhh['мес'].astype(int)/12\n",
    "    uhh['duration']=uhh['год'].astype(int)+uhh['мес1'].round(2)\n",
    "    uhh['link_1']=link\n",
    "    uhh=uhh[['link_1','предприятие','должность','период','отрасль','duration']].reset_index(drop=True)\n",
    "    return uhh"
   ]
  }
 ],
 "metadata": {
  "kernelspec": {
   "display_name": "Python 3",
   "language": "python",
   "name": "python3"
  },
  "language_info": {
   "codemirror_mode": {
    "name": "ipython",
    "version": 3
   },
   "file_extension": ".py",
   "mimetype": "text/x-python",
   "name": "python",
   "nbconvert_exporter": "python",
   "pygments_lexer": "ipython3",
   "version": "3.7.3"
  },
  "varInspector": {
   "cols": {
    "lenName": 16,
    "lenType": 16,
    "lenVar": 40
   },
   "kernels_config": {
    "python": {
     "delete_cmd_postfix": "",
     "delete_cmd_prefix": "del ",
     "library": "var_list.py",
     "varRefreshCmd": "print(var_dic_list())"
    },
    "r": {
     "delete_cmd_postfix": ") ",
     "delete_cmd_prefix": "rm(",
     "library": "var_list.r",
     "varRefreshCmd": "cat(var_dic_list()) "
    }
   },
   "types_to_exclude": [
    "module",
    "function",
    "builtin_function_or_method",
    "instance",
    "_Feature"
   ],
   "window_display": false
  }
 },
 "nbformat": 4,
 "nbformat_minor": 2
}

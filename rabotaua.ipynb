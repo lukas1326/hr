{
 "cells": [
  {
   "cell_type": "code",
   "execution_count": 1,
   "metadata": {},
   "outputs": [],
   "source": [
    "from bs4 import BeautifulSoup\n",
    "import requests\n",
    "import urllib.request\n",
    "import time\n",
    "import pandas as pd\n",
    "import re\n",
    "from openpyxl import load_workbook\n",
    "from selenium import webdriver\n",
    "from datetime import date"
   ]
  },
  {
   "cell_type": "code",
   "execution_count": 2,
   "metadata": {},
   "outputs": [],
   "source": [
    "# парсим с резюме нужные значения, записываем по-строчно в файл resumes.xlsx \n",
    "def rabotaua(link):\n",
    "    name=None\n",
    "    city=None\n",
    "    age=None\n",
    "    price=None\n",
    "    brief=None\n",
    "    exp=None\n",
    "    edu=None\n",
    "    lang=None\n",
    "    \n",
    "    \n",
    "    response=requests.get(link)\n",
    "    soup=BeautifulSoup(response.text,'html.parser')\n",
    "    name=soup.find('span',id='ctl00_centerZone_BriefResume1_CvView1_cvHeader_lblName').text\n",
    "    \n",
    "    short=soup.find('p',{'class':'rua-p-t_12'}).text.strip().split('\\r\\n')\n",
    "    city=short[0]\n",
    "    regex = re.compile('\\d+')\n",
    "    age=regex.findall(short[1])[0]\n",
    "    try:\n",
    "        regex = re.compile('\\d+')\n",
    "        price=regex.findall(short[2])[0]+regex.findall(short[2])[1]\n",
    "    except:\n",
    "        pass\n",
    "    try:\n",
    "        brief=soup.find('span',id='ctl00_centerZone_BriefResume1_CvView1_Skills_txtSkills').text.replace('Программное обеспечение и сервисы: ','')\n",
    "    except:\n",
    "        pass\n",
    "    exp=soup.find('div',id='ExperienceHolder').text.replace('Опыт работы','').replace('Нет опыта работы','')\n",
    "    edu=soup.find('div',id='EducationHolder').text.replace('Образование','')\n",
    "    lang=soup.find('div',id='LanguagesHolder').text.replace('Владение языками','')\n",
    "    scrap_date=date.today()\n",
    "    field1=[name,link,city,age,\" \",\" \",price,brief,exp,edu,lang,scrap_date]\n",
    "    file_name = \"resumes.xlsx\"\n",
    "    wb = load_workbook(file_name)\n",
    "\n",
    "    page = wb.active\n",
    "    page.append(field1)\n",
    "    wb.save(file_name)\n",
    "    time.sleep(5)\n",
    "    name=None\n",
    "    link=None\n",
    "    city=None\n",
    "    age=None\n",
    "    price=None\n",
    "    brief=None\n",
    "    exp=None\n",
    "    edu=None\n",
    "    lang=None"
   ]
  },
  {
   "cell_type": "code",
   "execution_count": 4,
   "metadata": {},
   "outputs": [],
   "source": [
    "def write_resumes(list_link):\n",
    "    link_drop=[]\n",
    "    for link in list_link:\n",
    "        try:\n",
    "            rabotaua(link)\n",
    "            time.sleep(10)\n",
    "        except:\n",
    "            link_drop.append(link)\n",
    "            pass\n",
    "    return link_drop"
   ]
  }
 ],
 "metadata": {
  "kernelspec": {
   "display_name": "Python 3",
   "language": "python",
   "name": "python3"
  },
  "language_info": {
   "codemirror_mode": {
    "name": "ipython",
    "version": 3
   },
   "file_extension": ".py",
   "mimetype": "text/x-python",
   "name": "python",
   "nbconvert_exporter": "python",
   "pygments_lexer": "ipython3",
   "version": "3.7.3"
  },
  "varInspector": {
   "cols": {
    "lenName": 16,
    "lenType": 16,
    "lenVar": 40
   },
   "kernels_config": {
    "python": {
     "delete_cmd_postfix": "",
     "delete_cmd_prefix": "del ",
     "library": "var_list.py",
     "varRefreshCmd": "print(var_dic_list())"
    },
    "r": {
     "delete_cmd_postfix": ") ",
     "delete_cmd_prefix": "rm(",
     "library": "var_list.r",
     "varRefreshCmd": "cat(var_dic_list()) "
    }
   },
   "types_to_exclude": [
    "module",
    "function",
    "builtin_function_or_method",
    "instance",
    "_Feature"
   ],
   "window_display": false
  }
 },
 "nbformat": 4,
 "nbformat_minor": 2
}
